{
 "cells": [
  {
   "cell_type": "code",
   "execution_count": 1,
   "metadata": {},
   "outputs": [],
   "source": [
    "import numpy as np\n",
    "import pandas as pd\n",
    "import seaborn as sns\n",
    "# import xgboost as xgb\n",
    "# from keras import Model\n",
    "from sklearn.svm import SVC\n",
    "import matplotlib.pyplot as plt\n",
    "# from keras.optimizers import Adam\n",
    "# from keras.regularizers import l2, l1\n",
    "from sklearn.linear_model import SGDClassifier\n",
    "from sklearn.neural_network import MLPClassifier\n",
    "from sklearn.neighbors import KNeighborsClassifier\n",
    "from sklearn.tree import DecisionTreeClassifier, DecisionTreeRegressor\n",
    "from sklearn.ensemble import RandomForestClassifier\n",
    "from sklearn.naive_bayes import GaussianNB, MultinomialNB\n",
    "from sklearn.model_selection import GridSearchCV, cross_val_score, StratifiedKFold\n",
    "# from keras.layers import (\n",
    "#     Bidirectional,\n",
    "#     LSTM,\n",
    "#     Dense,\n",
    "#     Dropout,\n",
    "#     BatchNormalization,\n",
    "#     Input,\n",
    "#     Activation,\n",
    "# )"
   ]
  },
  {
   "cell_type": "markdown",
   "metadata": {},
   "source": [
    "## Data"
   ]
  },
  {
   "cell_type": "code",
   "execution_count": 2,
   "metadata": {},
   "outputs": [
    {
     "data": {
      "text/html": [
       "<div>\n",
       "<style scoped>\n",
       "    .dataframe tbody tr th:only-of-type {\n",
       "        vertical-align: middle;\n",
       "    }\n",
       "\n",
       "    .dataframe tbody tr th {\n",
       "        vertical-align: top;\n",
       "    }\n",
       "\n",
       "    .dataframe thead th {\n",
       "        text-align: right;\n",
       "    }\n",
       "</style>\n",
       "<table border=\"1\" class=\"dataframe\">\n",
       "  <thead>\n",
       "    <tr style=\"text-align: right;\">\n",
       "      <th></th>\n",
       "      <th>Tenure</th>\n",
       "      <th>Matric</th>\n",
       "      <th>Degree</th>\n",
       "      <th>Diploma</th>\n",
       "      <th>Female</th>\n",
       "      <th>Sa_citizen</th>\n",
       "      <th>Birthyear</th>\n",
       "      <th>Birthmonth</th>\n",
       "      <th>Target</th>\n",
       "      <th>Year_survey</th>\n",
       "      <th>...</th>\n",
       "      <th>Home_lang_70_79</th>\n",
       "      <th>Home_lang_80_100</th>\n",
       "      <th>Home_lang_nan</th>\n",
       "      <th>Science_30_39</th>\n",
       "      <th>Science_40_49</th>\n",
       "      <th>Science_50_59</th>\n",
       "      <th>Science_60_69</th>\n",
       "      <th>Science_70_79</th>\n",
       "      <th>Science_80_100</th>\n",
       "      <th>Science_nan</th>\n",
       "    </tr>\n",
       "  </thead>\n",
       "  <tbody>\n",
       "    <tr>\n",
       "      <th>0</th>\n",
       "      <td>0.0</td>\n",
       "      <td>1.0</td>\n",
       "      <td>0.0</td>\n",
       "      <td>0.0</td>\n",
       "      <td>1</td>\n",
       "      <td>1</td>\n",
       "      <td>2000</td>\n",
       "      <td>5</td>\n",
       "      <td>0</td>\n",
       "      <td>2022</td>\n",
       "      <td>...</td>\n",
       "      <td>False</td>\n",
       "      <td>False</td>\n",
       "      <td>True</td>\n",
       "      <td>False</td>\n",
       "      <td>False</td>\n",
       "      <td>False</td>\n",
       "      <td>False</td>\n",
       "      <td>False</td>\n",
       "      <td>False</td>\n",
       "      <td>False</td>\n",
       "    </tr>\n",
       "    <tr>\n",
       "      <th>1</th>\n",
       "      <td>427.0</td>\n",
       "      <td>1.0</td>\n",
       "      <td>0.0</td>\n",
       "      <td>0.0</td>\n",
       "      <td>1</td>\n",
       "      <td>1</td>\n",
       "      <td>1989</td>\n",
       "      <td>4</td>\n",
       "      <td>1</td>\n",
       "      <td>2023</td>\n",
       "      <td>...</td>\n",
       "      <td>False</td>\n",
       "      <td>False</td>\n",
       "      <td>True</td>\n",
       "      <td>True</td>\n",
       "      <td>False</td>\n",
       "      <td>False</td>\n",
       "      <td>False</td>\n",
       "      <td>False</td>\n",
       "      <td>False</td>\n",
       "      <td>False</td>\n",
       "    </tr>\n",
       "    <tr>\n",
       "      <th>2</th>\n",
       "      <td>0.0</td>\n",
       "      <td>1.0</td>\n",
       "      <td>0.0</td>\n",
       "      <td>0.0</td>\n",
       "      <td>0</td>\n",
       "      <td>1</td>\n",
       "      <td>1996</td>\n",
       "      <td>7</td>\n",
       "      <td>1</td>\n",
       "      <td>2022</td>\n",
       "      <td>...</td>\n",
       "      <td>False</td>\n",
       "      <td>False</td>\n",
       "      <td>True</td>\n",
       "      <td>True</td>\n",
       "      <td>False</td>\n",
       "      <td>False</td>\n",
       "      <td>False</td>\n",
       "      <td>False</td>\n",
       "      <td>False</td>\n",
       "      <td>False</td>\n",
       "    </tr>\n",
       "    <tr>\n",
       "      <th>3</th>\n",
       "      <td>810.0</td>\n",
       "      <td>0.0</td>\n",
       "      <td>0.0</td>\n",
       "      <td>0.0</td>\n",
       "      <td>0</td>\n",
       "      <td>1</td>\n",
       "      <td>2000</td>\n",
       "      <td>1</td>\n",
       "      <td>0</td>\n",
       "      <td>2022</td>\n",
       "      <td>...</td>\n",
       "      <td>False</td>\n",
       "      <td>False</td>\n",
       "      <td>True</td>\n",
       "      <td>False</td>\n",
       "      <td>False</td>\n",
       "      <td>False</td>\n",
       "      <td>False</td>\n",
       "      <td>False</td>\n",
       "      <td>False</td>\n",
       "      <td>True</td>\n",
       "    </tr>\n",
       "    <tr>\n",
       "      <th>4</th>\n",
       "      <td>0.0</td>\n",
       "      <td>0.0</td>\n",
       "      <td>0.0</td>\n",
       "      <td>0.0</td>\n",
       "      <td>1</td>\n",
       "      <td>1</td>\n",
       "      <td>1998</td>\n",
       "      <td>12</td>\n",
       "      <td>0</td>\n",
       "      <td>2023</td>\n",
       "      <td>...</td>\n",
       "      <td>False</td>\n",
       "      <td>False</td>\n",
       "      <td>True</td>\n",
       "      <td>False</td>\n",
       "      <td>False</td>\n",
       "      <td>False</td>\n",
       "      <td>False</td>\n",
       "      <td>False</td>\n",
       "      <td>False</td>\n",
       "      <td>True</td>\n",
       "    </tr>\n",
       "  </tbody>\n",
       "</table>\n",
       "<p>5 rows × 74 columns</p>\n",
       "</div>"
      ],
      "text/plain": [
       "   Tenure  Matric  Degree  Diploma  Female  Sa_citizen  Birthyear  Birthmonth  \\\n",
       "0     0.0     1.0     0.0      0.0       1           1       2000           5   \n",
       "1   427.0     1.0     0.0      0.0       1           1       1989           4   \n",
       "2     0.0     1.0     0.0      0.0       0           1       1996           7   \n",
       "3   810.0     0.0     0.0      0.0       0           1       2000           1   \n",
       "4     0.0     0.0     0.0      0.0       1           1       1998          12   \n",
       "\n",
       "   Target  Year_survey  ...  Home_lang_70_79  Home_lang_80_100  Home_lang_nan  \\\n",
       "0       0         2022  ...            False             False           True   \n",
       "1       1         2023  ...            False             False           True   \n",
       "2       1         2022  ...            False             False           True   \n",
       "3       0         2022  ...            False             False           True   \n",
       "4       0         2023  ...            False             False           True   \n",
       "\n",
       "   Science_30_39  Science_40_49  Science_50_59  Science_60_69  Science_70_79  \\\n",
       "0          False          False          False          False          False   \n",
       "1           True          False          False          False          False   \n",
       "2           True          False          False          False          False   \n",
       "3          False          False          False          False          False   \n",
       "4          False          False          False          False          False   \n",
       "\n",
       "   Science_80_100  Science_nan  \n",
       "0           False        False  \n",
       "1           False        False  \n",
       "2           False        False  \n",
       "3           False         True  \n",
       "4           False         True  \n",
       "\n",
       "[5 rows x 74 columns]"
      ]
     },
     "execution_count": 2,
     "metadata": {},
     "output_type": "execute_result"
    }
   ],
   "source": [
    "df_train = pd.read_csv(\"./clean_train.csv\")\n",
    "df_train.head()"
   ]
  },
  {
   "cell_type": "code",
   "execution_count": 3,
   "metadata": {},
   "outputs": [
    {
     "data": {
      "text/plain": [
       "<Axes: xlabel='Target'>"
      ]
     },
     "execution_count": 3,
     "metadata": {},
     "output_type": "execute_result"
    },
    {
     "data": {
      "image/png": "[encoded data removed]",
      "text/plain": [
       "<Figure size 640x480 with 1 Axes>"
      ]
     },
     "metadata": {},
     "output_type": "display_data"
    }
   ],
   "source": [
    "df_train['Target'].value_counts().plot(kind='bar')"
   ]
  },
  {
   "cell_type": "markdown",
   "metadata": {},
   "source": [
    "## class Imbalance"
   ]
  },
  {
   "cell_type": "code",
   "execution_count": null,
   "metadata": {},
   "outputs": [],
   "source": [
    "# plt.figure(figsize=(15, 5))\n",
    "# sns.heatmap(df_train.corr(), annot=True, cmap=\"coolwarm\", fmt=\".2f\", linewidths=0.5)\n",
    "# plt.show()"
   ]
  },
  {
   "cell_type": "code",
   "execution_count": null,
   "metadata": {},
   "outputs": [],
   "source": [
    "df_train.columns"
   ]
  },
  {
   "cell_type": "code",
   "execution_count": null,
   "metadata": {},
   "outputs": [],
   "source": [
    "df_train['Province_nan'].unique()"
   ]
  },
  {
   "cell_type": "code",
   "execution_count": null,
   "metadata": {},
   "outputs": [],
   "source": [
    "df_train.shape"
   ]
  },
  {
   "cell_type": "code",
   "execution_count": null,
   "metadata": {},
   "outputs": [],
   "source": [
    "train = df_train.drop('Target', axis=1)\n",
    "targets = df_train['Target']\n",
    "\n",
    "train.shape, targets.shape"
   ]
  },
  {
   "cell_type": "markdown",
   "metadata": {},
   "source": [
    "## Test Data"
   ]
  },
  {
   "cell_type": "code",
   "execution_count": null,
   "metadata": {},
   "outputs": [],
   "source": [
    "# unclean data\n",
    "test_unclean_df = pd.read_csv(\"./Test.csv\")\n",
    "test_unclean_df.head()"
   ]
  },
  {
   "cell_type": "code",
   "execution_count": null,
   "metadata": {},
   "outputs": [],
   "source": [
    "# clean data\n",
    "test_data = pd.read_csv(\"./clean_test.csv\")\n",
    "test_data.head()"
   ]
  },
  {
   "cell_type": "markdown",
   "metadata": {},
   "source": [
    "## Models"
   ]
  },
  {
   "cell_type": "code",
   "execution_count": null,
   "metadata": {},
   "outputs": [],
   "source": [
    "predictions = np.array()"
   ]
  },
  {
   "cell_type": "markdown",
   "metadata": {},
   "source": [
    "#### Naive Bayes Gaussian"
   ]
  },
  {
   "cell_type": "code",
   "execution_count": null,
   "metadata": {},
   "outputs": [],
   "source": [
    "# # NB\n",
    "# grid_search_params = {\"var_smoothing\": [1e-9, 1e-8, 1e-7, 1e-6, 1e-5]}\n",
    "\n",
    "# cls_gnb = GaussianNB()\n",
    "\n",
    "# grid_search = GridSearchCV(\n",
    "#     estimator=cls_gnb, param_grid=grid_search_params, cv=10, scoring=\"accuracy\"\n",
    "# )\n",
    "\n",
    "# grid_search.fit(train, targets)\n",
    "\n",
    "# print(f\"{grid_search.best_params_}\\n\\n\")\n",
    "# print(f\"{grid_search.best_estimator_}\")"
   ]
  },
  {
   "cell_type": "code",
   "execution_count": null,
   "metadata": {},
   "outputs": [],
   "source": [
    "# # perform cross val on data\n",
    "# gnb = GaussianNB(var_smoothing=1e-07)\n",
    "\n",
    "# cv = StratifiedKFold(random_state=42, n_splits=10, shuffle=True)\n",
    "\n",
    "# scores = cross_val_score(gnb, train, targets, cv=cv, scoring='accuracy')\n",
    "\n",
    "# print(f\"mean score: {scores.mean()}\")"
   ]
  },
  {
   "cell_type": "code",
   "execution_count": null,
   "metadata": {},
   "outputs": [],
   "source": [
    "# gnb.fit(train, targets)\n",
    "# predictions = gnb.predict(test_data)\n",
    "# predictions"
   ]
  },
  {
   "cell_type": "markdown",
   "metadata": {},
   "source": [
    "#### SVM - SVC"
   ]
  },
  {
   "cell_type": "code",
   "execution_count": null,
   "metadata": {},
   "outputs": [],
   "source": [
    "# # svc takes times\n",
    "# # \"C\": [0.08, 0.05, 0.03, 0.01, 0.1, 1, 3, 5, 7, 10],\n",
    "# grid_search_params = {\n",
    "#     \"C\": [0.01, 0.05, 0.1, 1, 5, 10],\n",
    "#     \"kernel\": [\"linear\", \"rbf\", \"poly\", \"sigmoid\"],\n",
    "#     \"degree\": [2, 3, 4, 5],\n",
    "#     \"gamma\": [\"scale\", \"auto\"] + [0.001, 0.01, 0.1, 1],\n",
    "# }\n",
    "\n",
    "# cls_svc = SVC()\n",
    "\n",
    "# grid_search = GridSearchCV(\n",
    "#     estimator=cls_svc, param_grid=grid_search_params, cv=5, scoring=\"accuracy\"\n",
    "# )\n",
    "\n",
    "# grid_search.fit(train, targets)\n",
    "\n",
    "# print(f\"{grid_search.best_params_}\\n\\n\")\n",
    "# print(f\"{grid_search.best_estimator_}\")"
   ]
  },
  {
   "cell_type": "markdown",
   "metadata": {},
   "source": [
    "#### Deep Learning"
   ]
  },
  {
   "cell_type": "code",
   "execution_count": null,
   "metadata": {},
   "outputs": [],
   "source": [
    "# # remove province nan\n",
    "# dl_data = np.array( train.drop('Province_nan', axis=1)).astype(np.float32)\n",
    "# dl_data = dl_data.reshape(dl_data.shape[0], 9, -1 )\n",
    "# dl_data.shape"
   ]
  },
  {
   "cell_type": "code",
   "execution_count": null,
   "metadata": {},
   "outputs": [],
   "source": [
    "# dl_labels = np.array(targets)\n",
    "# np.unique( dl_labels)"
   ]
  },
  {
   "cell_type": "code",
   "execution_count": null,
   "metadata": {},
   "outputs": [],
   "source": [
    "# input_shape = (9, 8)\n",
    "\n",
    "# input_layer = Input(shape=input_shape)\n",
    "\n",
    "# # units = [256, 128, 64, 32]\n",
    "# x = Bidirectional(LSTM(64, return_sequences=True, kernel_regularizer=(l2(0.01)) ))(input_layer)\n",
    "# x = LSTM(64, return_sequences=True, kernel_regularizer=(l2(0.01)))(input_layer)\n",
    "# # x = BatchNormalization()(x)\n",
    "# x = Activation(\"relu\")(x)\n",
    "# x = Dropout(0.5)(x)\n",
    "# #\n",
    "# x = Bidirectional(LSTM(32, return_sequences=True, kernel_regularizer=(l2(0.01))))(x)\n",
    "# # x = LSTM(32, return_sequences=True, kernel_regularizer=(l2(0.01)))(x)\n",
    "# x = BatchNormalization()(x)\n",
    "# x = Activation(\"relu\")(x)\n",
    "# x = Dropout(0.5)(x)\n",
    "# #\n",
    "# x = Bidirectional(LSTM(16, return_sequences=True, kernel_regularizer=(l2(0.01))))(x)\n",
    "# # x = LSTM(16, return_sequences=True, kernel_regularizer=(l2(0.01)))(x)\n",
    "# x = BatchNormalization()(x)\n",
    "# x = Activation(\"relu\")(x)\n",
    "# x = Dropout(0.5)(x)\n",
    "\n",
    "# output_layer = Dense(1, activation=\"sigmoid\")(x)\n",
    "\n",
    "# model = Model(inputs=input_layer, outputs=output_layer)\n",
    "\n",
    "# #\n",
    "# learning_rate = 0.001\n",
    "# optim_ = Adam(learning_rate=learning_rate)\n",
    "\n",
    "# #\n",
    "# model.compile(optimizer=optim_, loss=\"binary_crossentropy\", metrics=[\"accuracy\"])\n",
    "\n",
    "# model.summary()"
   ]
  },
  {
   "cell_type": "code",
   "execution_count": null,
   "metadata": {},
   "outputs": [],
   "source": [
    "# dl_labels = np.asarray(dl_labels).astype('int').reshape((-1,1))"
   ]
  },
  {
   "cell_type": "code",
   "execution_count": null,
   "metadata": {},
   "outputs": [],
   "source": [
    "# model.fit(dl_data, dl_labels, batch_size=32, epochs=10, validation_split=0.2)"
   ]
  },
  {
   "cell_type": "code",
   "execution_count": null,
   "metadata": {},
   "outputs": [],
   "source": [
    "# # remove province nan\n",
    "# dl_test_data = np.array( test_data.drop('Province_nan', axis=1)).astype(np.float32)\n",
    "# dl_test_data = dl_test_data.reshape(dl_test_data.shape[0], 9, -1 )\n",
    "# dl_test_data.shape\n",
    "\n",
    "# y_pred = model.predict(dl_test_data)"
   ]
  },
  {
   "cell_type": "code",
   "execution_count": null,
   "metadata": {},
   "outputs": [],
   "source": [
    "# y_pred = np.squeeze(y_pred)\n",
    "# predictions= ( y_pred >= .5).astype('int')[:,0]\n",
    "# predictions"
   ]
  },
  {
   "cell_type": "markdown",
   "metadata": {},
   "source": [
    "#### Multinomial NB"
   ]
  },
  {
   "cell_type": "code",
   "execution_count": null,
   "metadata": {},
   "outputs": [],
   "source": [
    "# # NB\n",
    "# grid_search_params = {\n",
    "#     \"alpha\": [0.1, 0.5, 1.0, 2.0],\n",
    "#     \"fit_prior\": [True, False],\n",
    "# }\n",
    "\n",
    "# cls_mnb = MultinomialNB()\n",
    "\n",
    "# grid_search = GridSearchCV(\n",
    "#     estimator=cls_mnb, param_grid=grid_search_params, cv=30, scoring=\"accuracy\"\n",
    "# )\n",
    "\n",
    "# grid_search.fit(train, targets)\n",
    "\n",
    "# print(f\"Best Params: {grid_search.best_params_}\")\n",
    "# print(f\"Best Estimator: {grid_search.best_estimator_}\")\n",
    "# print(f\"Best Score: {grid_search.best_score_}\")"
   ]
  },
  {
   "cell_type": "code",
   "execution_count": null,
   "metadata": {},
   "outputs": [],
   "source": [
    "# cls_mnb.fit(train, targets)"
   ]
  },
  {
   "cell_type": "code",
   "execution_count": null,
   "metadata": {},
   "outputs": [],
   "source": [
    "# predictions = cls_mnb.predict(test_data)\n",
    "# predictions"
   ]
  },
  {
   "cell_type": "markdown",
   "metadata": {},
   "source": [
    "#### Random Forest Classifier"
   ]
  },
  {
   "cell_type": "code",
   "execution_count": null,
   "metadata": {},
   "outputs": [],
   "source": [
    "# grid_search_params = {\n",
    "#     'n_estimators': [50, 100, 200],  # Number of trees in the forest\n",
    "#     'max_depth': [None, 10, 20, 30],  # Maximum depth of each tree\n",
    "#     'min_samples_split': [2, 5, 10],  # Minimum number of samples required to split an internal node\n",
    "#     'min_samples_leaf': [1, 2, 4],  # Minimum number of samples required to be at a leaf node\n",
    "#     'max_features': ['auto', 'sqrt', 'log2'],  # Number of features to consider for the best split\n",
    "# }\n",
    "\n",
    "# cls_rf = RandomForestClassifier(random_state=42)\n",
    "\n",
    "# grid_search = GridSearchCV(\n",
    "#     estimator=cls_rf, param_grid=grid_search_params, cv=10, scoring=\"accuracy\"\n",
    "# )\n",
    "\n",
    "# grid_search.fit(train, targets)\n",
    "\n",
    "# # print(f\"{grid_search.best_params_}\\n\\n\")\n",
    "# print(f\"{grid_search.best_estimator_}\")"
   ]
  },
  {
   "cell_type": "code",
   "execution_count": null,
   "metadata": {},
   "outputs": [],
   "source": [
    "# rf = RandomForestClassifier(\n",
    "#     random_state=42, max_depth=30, min_samples_leaf=2, min_samples_split=5\n",
    "# )\n",
    "\n",
    "# cv = StratifiedKFold(random_state=42, n_splits=10, shuffle=True)\n",
    "\n",
    "# scores = cross_val_score(rf, train, targets, cv=cv, scoring='accuracy')\n",
    "\n",
    "# print(f\"mean score: {scores.mean()}\")"
   ]
  },
  {
   "cell_type": "code",
   "execution_count": null,
   "metadata": {},
   "outputs": [],
   "source": [
    "# rf.fit(train, targets)\n",
    "# predictions = rf.predict(test_data)\n",
    "# predictions"
   ]
  },
  {
   "cell_type": "markdown",
   "metadata": {},
   "source": [
    "#### KNN"
   ]
  },
  {
   "cell_type": "code",
   "execution_count": null,
   "metadata": {},
   "outputs": [],
   "source": [
    "# grid_search_params = {\n",
    "#     \"n_neighbors\": [3, 5, 7, 9],\n",
    "#     \"weights\": [\"uniform\", \"distance\"],\n",
    "#     \"p\": [1, 2],\n",
    "#     # \"algorithm\": [\"auto\", \"ball_tree\", \"kd_tree\", \"brute\"],\n",
    "# }\n",
    "\n",
    "# cls_knn = KNeighborsClassifier()\n",
    "\n",
    "# grid_search = GridSearchCV(\n",
    "#     estimator=cls_knn, param_grid=grid_search_params, cv=10, scoring=\"accuracy\"\n",
    "# )\n",
    "\n",
    "# grid_search.fit(train, targets)\n",
    "\n",
    "# # print(f\"{grid_search.best_params_}\\n\\n\")\n",
    "# print(f\"{grid_search.best_estimator_}\")"
   ]
  },
  {
   "cell_type": "code",
   "execution_count": null,
   "metadata": {},
   "outputs": [],
   "source": [
    "# knn = KNeighborsClassifier( n_neighbors=5, weights=\"distance\", p=2 )\n",
    "\n",
    "# cv = StratifiedKFold(random_state=42, n_splits=10, shuffle=True)\n",
    "\n",
    "# scores = cross_val_score(knn, train, targets, cv=cv, scoring='accuracy')\n",
    "\n",
    "# print(f\"mean score: {scores.mean()}\")"
   ]
  },
  {
   "cell_type": "code",
   "execution_count": null,
   "metadata": {},
   "outputs": [],
   "source": [
    "# knn.fit(train, targets)\n",
    "# predictions = knn.predict(test_data)\n",
    "# predictions"
   ]
  },
  {
   "cell_type": "markdown",
   "metadata": {},
   "source": [
    "#### DecisionTreeClassifier"
   ]
  },
  {
   "cell_type": "code",
   "execution_count": null,
   "metadata": {},
   "outputs": [],
   "source": [
    "# grid_search_params = {\n",
    "#     \"criterion\": [\"gini\", \"entropy\"],\n",
    "#     \"max_depth\": [None, 5, 10, 15, 20],\n",
    "#     \"min_samples_split\": [2, 5, 10],\n",
    "#     \"min_samples_leaf\": [1, 2, 4],\n",
    "# }\n",
    "\n",
    "# cls_dt = DecisionTreeClassifier()\n",
    "\n",
    "# grid_search = GridSearchCV(\n",
    "#     estimator=cls_dt, param_grid=grid_search_params, cv=10, scoring=\"accuracy\"\n",
    "# )\n",
    "\n",
    "# grid_search.fit(train, targets)\n",
    "\n",
    "# print(f\"{grid_search.best_params_}\\n\\n\")\n",
    "# print(f\"{grid_search.best_estimator_}\")"
   ]
  },
  {
   "cell_type": "code",
   "execution_count": null,
   "metadata": {},
   "outputs": [],
   "source": [
    "# dt = DecisionTreeClassifier(\n",
    "#     criterion=\"gini\", max_depth=10, min_samples_leaf=4, min_samples_split=5\n",
    "# )\n",
    "# # dt = DecisionTreeClassifier(max_depth=10, min_samples_leaf=4, min_samples_split=5)\n",
    "\n",
    "# cv = StratifiedKFold(random_state=42, n_splits=10, shuffle=True)\n",
    "\n",
    "# scores = cross_val_score(dt, train, targets, cv=cv, scoring=\"accuracy\")\n",
    "\n",
    "# print(f\"mean score: {scores.mean()}\")"
   ]
  },
  {
   "cell_type": "code",
   "execution_count": null,
   "metadata": {},
   "outputs": [],
   "source": [
    "# dt.fit(train, targets)\n",
    "# predictions = dt.predict(test_data)\n",
    "# predictions"
   ]
  },
  {
   "cell_type": "markdown",
   "metadata": {},
   "source": [
    "#### SGDClassifier"
   ]
  },
  {
   "cell_type": "code",
   "execution_count": null,
   "metadata": {},
   "outputs": [],
   "source": [
    "# grid_search_params = {\n",
    "#     \"loss\": [\"hinge\", \"log\", \"modified_huber\"],\n",
    "#     \"penalty\": [\"none\", \"l1\", \"l2\", \"elasticnet\"],\n",
    "#     \"alpha\": [0.0001, 0.001, 0.01, 0.1],\n",
    "#     \"max_iter\": [1000, 2000, 3000],\n",
    "# }\n",
    "\n",
    "# cls_sdg = SGDClassifier()\n",
    "\n",
    "# grid_search = GridSearchCV(\n",
    "#     estimator=cls_sdg, param_grid=grid_search_params, cv=10, scoring=\"accuracy\"\n",
    "# )\n",
    "\n",
    "# grid_search.fit(train, targets)\n",
    "\n",
    "# # # print(f\"{grid_search.best_params_}\\n\\n\")\n",
    "# # print(f\"{grid_search.best_estimator_}\")"
   ]
  },
  {
   "cell_type": "code",
   "execution_count": null,
   "metadata": {},
   "outputs": [],
   "source": [
    "# sgd = SGDClassifier(alpha=0.001, loss='modified_huber', max_iter=3000,penalty='elasticnet')\n",
    "\n",
    "# cv = StratifiedKFold(random_state=42, n_splits=10, shuffle=True)\n",
    "\n",
    "# scores = cross_val_score(sgd, train, targets, cv=cv, scoring='accuracy')\n",
    "\n",
    "# print(f\"mean score: {scores.mean()}\")"
   ]
  },
  {
   "cell_type": "code",
   "execution_count": null,
   "metadata": {},
   "outputs": [],
   "source": [
    "# sgd.fit(train, targets)\n",
    "# predictions = sgd.predict(test_data)\n",
    "# predictions"
   ]
  },
  {
   "cell_type": "markdown",
   "metadata": {},
   "source": [
    "#### DecisionTreeRegressor"
   ]
  },
  {
   "cell_type": "code",
   "execution_count": null,
   "metadata": {},
   "outputs": [],
   "source": [
    "# grid_search_params = {\n",
    "#     \"max_depth\": [None, 10, 20, 30],\n",
    "#     \"min_samples_split\": [2, 5, 10],\n",
    "#     \"min_samples_leaf\": [1, 2, 4],\n",
    "# }\n",
    "\n",
    "# cls_dt_reg = DecisionTreeRegressor()\n",
    "\n",
    "# grid_search = GridSearchCV(\n",
    "#     estimator=cls_dt_reg, param_grid=grid_search_params, cv=10, scoring=\"accuracy\"\n",
    "# )\n",
    "\n",
    "# grid_search.fit(train, targets)\n",
    "\n",
    "# print(f\"{grid_search.best_params_}\\n\\n\")\n",
    "# print(f\"{grid_search.best_estimator_}\")"
   ]
  },
  {
   "cell_type": "code",
   "execution_count": null,
   "metadata": {},
   "outputs": [],
   "source": [
    "# dt_reg = DecisionTreeRegressor()\n",
    "# # dt = DecisionTreeClassifier(max_depth=10, min_samples_leaf=4, min_samples_split=5)\n",
    "\n",
    "# cv = StratifiedKFold(random_state=42, n_splits=10, shuffle=True)\n",
    "\n",
    "# scores = cross_val_score(dt_reg, train, targets, cv=cv, scoring=\"accuracy\")\n",
    "\n",
    "# print(f\"mean score: {scores.mean()}\")"
   ]
  },
  {
   "cell_type": "code",
   "execution_count": null,
   "metadata": {},
   "outputs": [],
   "source": [
    "# dt.fit(train, targets)\n",
    "# predictions = dt.predict(test_data)\n",
    "# predictions"
   ]
  },
  {
   "cell_type": "markdown",
   "metadata": {},
   "source": [
    "#### MLPClassifier"
   ]
  },
  {
   "cell_type": "code",
   "execution_count": null,
   "metadata": {},
   "outputs": [],
   "source": [
    "# grid_search_params = {\n",
    "#     \"hidden_layer_sizes\": [(64,), (128,), (256,)],\n",
    "#     \"activation\": [\"relu\", \"tanh\"],\n",
    "#     \"alpha\": [0.0001, 0.001, 0.01],\n",
    "# }\n",
    "\n",
    "\n",
    "# cls_mlp = MLPClassifier()\n",
    "\n",
    "# grid_search = GridSearchCV(\n",
    "#     estimator=cls_mlp, param_grid=grid_search_params, cv=10, scoring=\"accuracy\"\n",
    "# )\n",
    "\n",
    "# grid_search.fit(train, targets)\n",
    "\n",
    "# print(f\"{grid_search.best_params_}\\n\\n\")\n",
    "# print(f\"{grid_search.best_estimator_}\")"
   ]
  },
  {
   "cell_type": "code",
   "execution_count": null,
   "metadata": {},
   "outputs": [],
   "source": [
    "# # mlp = MLPClassifier(alpha=0.01, hidden_layer_sizes=(64,))\n",
    "# mlp = MLPClassifier(activation='relu', alpha=0.0001, hidden_layer_sizes=(256,), random_state=1)\n",
    "# # mlp = MLPClassifier()\n",
    "\n",
    "# cv = StratifiedKFold(random_state=42, n_splits=10, shuffle=True)\n",
    "\n",
    "# scores = cross_val_score(mlp, train, targets, cv=cv, scoring=\"accuracy\")\n",
    "\n",
    "# print(f\"mean score: {scores.mean()}\")"
   ]
  },
  {
   "cell_type": "code",
   "execution_count": null,
   "metadata": {},
   "outputs": [],
   "source": [
    "# mlp.fit(train, targets)\n",
    "# predictions = mlp.predict(test_data)\n",
    "# predictions"
   ]
  },
  {
   "cell_type": "markdown",
   "metadata": {},
   "source": [
    "#### XGBosst"
   ]
  },
  {
   "cell_type": "markdown",
   "metadata": {},
   "source": [
    "## Save to file"
   ]
  },
  {
   "cell_type": "code",
   "execution_count": null,
   "metadata": {},
   "outputs": [],
   "source": [
    "# test_unclean_df[\"Person_id\"].to_csv(\"./ids.csv\", index=False)"
   ]
  },
  {
   "cell_type": "code",
   "execution_count": null,
   "metadata": {},
   "outputs": [],
   "source": [
    "df_submission = pd.DataFrame({\"ID\": test_unclean_df[\"Person_id\"], \"Target\": predictions.astype(int)})\n",
    "df_submission.head()"
   ]
  },
  {
   "cell_type": "code",
   "execution_count": null,
   "metadata": {},
   "outputs": [],
   "source": [
    "df_submission.to_csv(\"submission.csv\", index=False)"
   ]
  },
  {
   "cell_type": "code",
   "execution_count": null,
   "metadata": {},
   "outputs": [],
   "source": [
    "# remove NAN values"
   ]
  }
 ],
 "metadata": {
  "kernelspec": {
   "display_name": "env-zindi",
   "language": "python",
   "name": "python3"
  },
  "language_info": {
   "codemirror_mode": {
    "name": "ipython",
    "version": 3
   },
   "file_extension": ".py",
   "mimetype": "text/x-python",
   "name": "python",
   "nbconvert_exporter": "python",
   "pygments_lexer": "ipython3",
   "version": "3.10.7"
  },
  "orig_nbformat": 4
 },
 "nbformat": 4,
 "nbformat_minor": 2
}
