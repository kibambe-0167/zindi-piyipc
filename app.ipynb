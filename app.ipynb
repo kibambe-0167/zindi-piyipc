{
 "cells": [
  {
   "cell_type": "code",
   "execution_count": null,
   "metadata": {},
   "outputs": [],
   "source": [
    "import numpy as np\n",
    "import pandas as pd\n",
    "import seaborn as sns\n",
    "# import xgboost as xgb\n",
    "from keras import Model\n",
    "from sklearn.svm import SVC\n",
    "import matplotlib.pyplot as plt\n",
    "from keras.optimizers import Adam\n",
    "from keras.regularizers import l2, l1\n",
    "from imblearn.combine import SMOTETomek\n",
    "from sklearn.linear_model import SGDClassifier\n",
    "from sklearn.neural_network import MLPClassifier\n",
    "from sklearn.neighbors import KNeighborsClassifier\n",
    "from sklearn.ensemble import RandomForestClassifier\n",
    "from sklearn.naive_bayes import GaussianNB, MultinomialNB\n",
    "from sklearn.tree import DecisionTreeClassifier, DecisionTreeRegressor\n",
    "from sklearn.metrics import f1_score, classification_report, confusion_matrix\n",
    "from sklearn.model_selection import train_test_split, GridSearchCV, StratifiedKFold, cross_val_score\n",
    "from keras.layers import (\n",
    "    Bidirectional,\n",
    "    LSTM,\n",
    "    Dense,\n",
    "    Dropout,\n",
    "    BatchNormalization,\n",
    "    Input,\n",
    "    Activation,\n",
    ")"
   ]
  },
  {
   "cell_type": "markdown",
   "metadata": {},
   "source": [
    "## Training Data"
   ]
  },
  {
   "cell_type": "code",
   "execution_count": null,
   "metadata": {},
   "outputs": [],
   "source": [
    "df_train = pd.read_csv(\"./clean_train.csv\")\n",
    "df_train = df_train.replace({True: 1, False:0})\n",
    "df_train.head()"
   ]
  },
  {
   "cell_type": "code",
   "execution_count": null,
   "metadata": {},
   "outputs": [],
   "source": [
    "df_train['Target'].value_counts().plot(kind='bar')"
   ]
  },
  {
   "cell_type": "code",
   "execution_count": null,
   "metadata": {},
   "outputs": [],
   "source": [
    "train = df_train.drop('Target', axis=1)\n",
    "targets = df_train['Target']\n",
    "\n",
    "train.shape, targets.shape"
   ]
  },
  {
   "cell_type": "markdown",
   "metadata": {},
   "source": [
    "## Class Imbalance"
   ]
  },
  {
   "cell_type": "code",
   "execution_count": null,
   "metadata": {},
   "outputs": [],
   "source": [
    "# def min_max_scaling(column):\n",
    "#     min_val = column.min()\n",
    "#     max_val = column.max()\n",
    "#     scaled_column = (column - min_val) / (max_val - min_val)\n",
    "#     return scaled_column\n",
    "\n",
    "# # scale all columns [0-1]\n",
    "# train = train.iloc[:, :].apply(min_max_scaling)\n",
    "# train.head()"
   ]
  },
  {
   "cell_type": "code",
   "execution_count": null,
   "metadata": {},
   "outputs": [],
   "source": [
    "train = train.drop(['Round_nan', 'Status_nan', 'Geography_nan', 'Province_nan'], axis=1)\n",
    "train.head()"
   ]
  },
  {
   "cell_type": "code",
   "execution_count": null,
   "metadata": {},
   "outputs": [],
   "source": [
    "# tl_us = TomekLinks(sampling_strategy='majority')\n",
    "tl_us = SMOTETomek(random_state=42, sampling_strategy = 1.0)\n",
    "x_resample,y_resample = tl_us.fit_resample(train, targets )\n",
    "#\n",
    "x_resample.shape,y_resample.value_counts()"
   ]
  },
  {
   "cell_type": "code",
   "execution_count": null,
   "metadata": {},
   "outputs": [],
   "source": [
    "print(y_resample.value_counts())\n",
    "#\n",
    "plt.figure(figsize=(5, 3))\n",
    "sns.countplot(x=y_resample)\n",
    "plt.show()"
   ]
  },
  {
   "cell_type": "code",
   "execution_count": null,
   "metadata": {},
   "outputs": [],
   "source": [
    "x_train, x_test, y_train, y_test = train_test_split(x_resample, y_resample, test_size=0.2, random_state=42)\n",
    "x_train.shape, y_train.shape"
   ]
  },
  {
   "cell_type": "markdown",
   "metadata": {},
   "source": [
    "## Test Data"
   ]
  },
  {
   "cell_type": "code",
   "execution_count": null,
   "metadata": {},
   "outputs": [],
   "source": [
    "# clean data\n",
    "test_data = pd.read_csv(\"./clean_test.csv\")\n",
    "test_data = test_data.replace({True: 1, False:0})\n",
    "test_data.head()"
   ]
  },
  {
   "cell_type": "code",
   "execution_count": null,
   "metadata": {},
   "outputs": [],
   "source": [
    "test_data = test_data.drop(['Round_nan', 'Status_nan', 'Geography_nan', 'Province_nan'], axis=1)\n",
    "test_data.head()"
   ]
  },
  {
   "cell_type": "code",
   "execution_count": null,
   "metadata": {},
   "outputs": [],
   "source": [
    "# test_data = test_data.iloc[:, :].apply(min_max_scaling)\n",
    "# test_data.head()"
   ]
  },
  {
   "cell_type": "markdown",
   "metadata": {},
   "source": [
    "## Models"
   ]
  },
  {
   "cell_type": "markdown",
   "metadata": {},
   "source": [
    "#### Naive Bayes Gaussian"
   ]
  },
  {
   "cell_type": "code",
   "execution_count": null,
   "metadata": {},
   "outputs": [],
   "source": [
    "# # NB\n",
    "# grid_search_params = {\"var_smoothing\": [1e-9, 1e-8, 1e-7, 1e-6, 1e-5]}\n",
    "\n",
    "# cls_gnb = GaussianNB()\n",
    "\n",
    "# grid_search = GridSearchCV(\n",
    "#     estimator=cls_gnb, param_grid=grid_search_params, cv=10, scoring=\"accuracy\"\n",
    "# )\n",
    "\n",
    "# grid_search.fit(x_train, y_train)\n",
    "\n",
    "# print(f\"{grid_search.best_params_}\\n\\n\")\n",
    "# print(f\"{grid_search.best_estimator_}\")"
   ]
  },
  {
   "cell_type": "code",
   "execution_count": null,
   "metadata": {},
   "outputs": [],
   "source": [
    "# # perform cross val on data\n",
    "# model = GaussianNB(var_smoothing=1e-07)\n",
    "# cv = StratifiedKFold(random_state=42, n_splits=10, shuffle=True)\n",
    "# scores = cross_val_score(model, x_train, y_train, cv=cv, scoring='accuracy')\n",
    "# print(f\"mean score: {scores.mean()}\")"
   ]
  },
  {
   "cell_type": "code",
   "execution_count": null,
   "metadata": {},
   "outputs": [],
   "source": [
    "# model.fit(x_train, y_train)"
   ]
  },
  {
   "cell_type": "markdown",
   "metadata": {},
   "source": [
    "#### SVM - SVC - Slow"
   ]
  },
  {
   "cell_type": "code",
   "execution_count": null,
   "metadata": {},
   "outputs": [],
   "source": [
    "# # svc takes times\n",
    "# # \"C\": [0.08, 0.05, 0.03, 0.01, 0.1, 1, 3, 5, 7, 10],\n",
    "# grid_search_params = {\n",
    "#     \"C\": [0.01, 0.05, 0.1, 1, 5, 10],\n",
    "#     \"kernel\": [\"linear\", \"rbf\", \"poly\", \"sigmoid\"],\n",
    "#     \"degree\": [2, 3, 4, 5],\n",
    "#     \"gamma\": [\"scale\", \"auto\"] + [0.001, 0.01, 0.1, 1],\n",
    "# }\n",
    "\n",
    "# cls_svc = SVC()\n",
    "\n",
    "# grid_search = GridSearchCV(\n",
    "#     estimator=cls_svc, param_grid=grid_search_params, cv=5, scoring=\"accuracy\"\n",
    "# )\n",
    "\n",
    "# grid_search.fit(x_train, y_train)\n",
    "\n",
    "# print(f\"{grid_search.best_params_}\\n\\n\")\n",
    "# print(f\"{grid_search.best_estimator_}\")"
   ]
  },
  {
   "cell_type": "code",
   "execution_count": null,
   "metadata": {},
   "outputs": [],
   "source": [
    "# # perform cross val on data\n",
    "# model = SVC()\n",
    "# cv = StratifiedKFold(random_state=42, n_splits=10, shuffle=True)\n",
    "# scores = cross_val_score(model, x_train, y_train, cv=cv, scoring='accuracy')\n",
    "# print(f\"mean score: {scores.mean()}\")"
   ]
  },
  {
   "cell_type": "code",
   "execution_count": null,
   "metadata": {},
   "outputs": [],
   "source": [
    "# model.fit(x_train, y_train)"
   ]
  },
  {
   "cell_type": "markdown",
   "metadata": {},
   "source": [
    "#### Deep Learning"
   ]
  },
  {
   "cell_type": "code",
   "execution_count": null,
   "metadata": {},
   "outputs": [],
   "source": [
    "# # x_train.reshape(x_train.shape[0], 23, 3)\n",
    "# x_train = np.array(x_train).reshape(x_train.shape[0], 23, 3)"
   ]
  },
  {
   "cell_type": "code",
   "execution_count": null,
   "metadata": {},
   "outputs": [],
   "source": [
    "# # remove province nan\n",
    "# dl_data = np.array( train.drop('Province_nan', axis=1)).astype(np.float32)\n",
    "# dl_data = dl_data.reshape(dl_data.shape[0], 9, -1 )\n",
    "# dl_data.shape "
   ]
  },
  {
   "cell_type": "code",
   "execution_count": null,
   "metadata": {},
   "outputs": [],
   "source": [
    "# x_test = np.array(x_test).reshape(x_test.shape[0], 23, 3)\n",
    "# y_test = np.asarray(y_test).astype('int').reshape((-1,1))\n",
    "# x_test.shape, y_test.shape"
   ]
  },
  {
   "cell_type": "code",
   "execution_count": null,
   "metadata": {},
   "outputs": [],
   "source": [
    "# y_train = np.array(y_train)\n",
    "# y_train"
   ]
  },
  {
   "cell_type": "code",
   "execution_count": null,
   "metadata": {},
   "outputs": [],
   "source": [
    "# input_shape = x_train.shape[1: ]\n",
    "\n",
    "# input_layer = Input(shape=input_shape)\n",
    "\n",
    "# # units = [256, 128, 64, 32]\n",
    "# # x = Bidirectional(LSTM(128, return_sequences=True, kernel_regularizer=(l2(0.01)) ))(input_layer)\n",
    "# x = LSTM(128, return_sequences=True, kernel_regularizer=(l2(0.01)))(input_layer)\n",
    "# # x = BatchNormalization()(x)\n",
    "# x = Activation(\"relu\")(x)\n",
    "# x = Dropout(0.5)(x)\n",
    "# #\n",
    "# # x = Bidirectional(LSTM(64, return_sequences=True, kernel_regularizer=(l2(0.01))))(x)\n",
    "# # # x = LSTM(32, return_sequences=True, kernel_regularizer=(l2(0.01)))(x)\n",
    "# # # x = BatchNormalization()(x)\n",
    "# # x = Activation(\"relu\")(x)\n",
    "# # x = Dropout(0.5)(x)\n",
    "# #\n",
    "# # x = Bidirectional(LSTM(16, return_sequences=True, kernel_regularizer=(l2(0.01))))(x)\n",
    "# # # x = LSTM(16, return_sequences=True, kernel_regularizer=(l2(0.01)))(x)\n",
    "# # # x = BatchNormalization()(x)\n",
    "# # x = Activation(\"relu\")(x)\n",
    "# # x = Dropout(0.5)(x)\n",
    "\n",
    "# output_layer = Dense(1, activation=\"sigmoid\")(x)\n",
    "\n",
    "# model = Model(inputs=input_layer, outputs=output_layer)\n",
    "\n",
    "# #\n",
    "# learning_rate = 0.01\n",
    "# optim_ = Adam(learning_rate=learning_rate)\n",
    "\n",
    "# #\n",
    "\n",
    "# model.compile(optimizer=optim_, loss=\"binary_crossentropy\", metrics=[\"accuracy\"],)\n",
    "\n",
    "# model.summary()"
   ]
  },
  {
   "cell_type": "code",
   "execution_count": null,
   "metadata": {},
   "outputs": [],
   "source": [
    "# y_train = np.asarray(y_train).astype('int').reshape((-1,1))\n",
    "# x_train.shape, y_train.shape"
   ]
  },
  {
   "cell_type": "code",
   "execution_count": null,
   "metadata": {},
   "outputs": [],
   "source": [
    "# epochs= 10\n",
    "# batch_size = 32\n",
    "# class_weights = {0: 1.0, 1: 1.5}\n",
    "# model.fit(x_train, y_train, batch_size=batch_size, epochs=epochs, validation_split=0.2)"
   ]
  },
  {
   "cell_type": "code",
   "execution_count": null,
   "metadata": {},
   "outputs": [],
   "source": [
    "# # remove province nan\n",
    "# dl_test_data = np.array( test_data.drop('Province_nan', axis=1)).astype(np.float32)\n",
    "# dl_test_data = dl_test_data.reshape(dl_test_data.shape[0], 9, -1 )\n",
    "# dl_test_data.shape\n",
    "\n",
    "# y_pred = model.predict(dl_test_data)"
   ]
  },
  {
   "cell_type": "code",
   "execution_count": null,
   "metadata": {},
   "outputs": [],
   "source": [
    "# # y_pred = np.squeeze(y_pred)\n",
    "# # predictions= ( y_pred >= .5).astype('int')[:,0]\n",
    "# # predictions\n",
    "# test_data = np.array(test_data).reshape(test_data.shape[0], 23, 3)\n",
    "# test_data.shape"
   ]
  },
  {
   "cell_type": "markdown",
   "metadata": {},
   "source": [
    "#### Multinomial NB"
   ]
  },
  {
   "cell_type": "code",
   "execution_count": null,
   "metadata": {},
   "outputs": [],
   "source": [
    "# NB\n",
    "grid_search_params = {\n",
    "    \"alpha\": [0.1, 0.5, 1.0, 2.0],\n",
    "    \"fit_prior\": [True, False],\n",
    "}\n",
    "\n",
    "cls_mnb = MultinomialNB()\n",
    "\n",
    "grid_search = GridSearchCV(\n",
    "    estimator=cls_mnb, param_grid=grid_search_params, cv=30, scoring=\"accuracy\"\n",
    ")\n",
    "\n",
    "grid_search.fit(x_train, y_train)\n",
    "\n",
    "print(f\"Best Params: {grid_search.best_params_}\")\n",
    "print(f\"Best Estimator: {grid_search.best_estimator_}\")\n",
    "print(f\"Best Score: {grid_search.best_score_}\")"
   ]
  },
  {
   "cell_type": "code",
   "execution_count": null,
   "metadata": {},
   "outputs": [],
   "source": [
    "# cls_mnb.fit(x_train, y_train)"
   ]
  },
  {
   "cell_type": "code",
   "execution_count": null,
   "metadata": {},
   "outputs": [],
   "source": [
    "# predictions = cls_mnb.predict(test_data)\n",
    "# predictions"
   ]
  },
  {
   "cell_type": "markdown",
   "metadata": {},
   "source": [
    "#### Random Forest Classifier"
   ]
  },
  {
   "cell_type": "code",
   "execution_count": null,
   "metadata": {},
   "outputs": [],
   "source": [
    "# grid_search_params = {\n",
    "#     'n_estimators': [50, 100, 200],  # Number of trees in the forest\n",
    "#     'max_depth': [None, 10, 20, 30],  # Maximum depth of each tree\n",
    "#     'min_samples_split': [2, 5, 10],  # Minimum number of samples required to split an internal node\n",
    "#     'min_samples_leaf': [1, 2, 4],  # Minimum number of samples required to be at a leaf node\n",
    "#     'max_features': ['auto', 'sqrt', 'log2'],  # Number of features to consider for the best split\n",
    "# }\n",
    "\n",
    "# cls_rf = RandomForestClassifier(random_state=42)\n",
    "\n",
    "# grid_search = GridSearchCV(\n",
    "#     estimator=cls_rf, param_grid=grid_search_params, cv=10, scoring=\"accuracy\"\n",
    "# )\n",
    "\n",
    "# grid_search.fit(train, targets)\n",
    "\n",
    "# # print(f\"{grid_search.best_params_}\\n\\n\")\n",
    "# print(f\"{grid_search.best_estimator_}\")"
   ]
  },
  {
   "cell_type": "code",
   "execution_count": null,
   "metadata": {},
   "outputs": [],
   "source": [
    "# rf = RandomForestClassifier(\n",
    "#     random_state=42, max_depth=30, min_samples_leaf=2, min_samples_split=5\n",
    "# )\n",
    "\n",
    "# cv = StratifiedKFold(random_state=42, n_splits=10, shuffle=True)\n",
    "\n",
    "# scores = cross_val_score(rf, train, targets, cv=cv, scoring='accuracy')\n",
    "\n",
    "# print(f\"mean score: {scores.mean()}\")"
   ]
  },
  {
   "cell_type": "code",
   "execution_count": null,
   "metadata": {},
   "outputs": [],
   "source": [
    "# rf.fit(train, targets)\n",
    "# predictions = rf.predict(test_data)\n",
    "# predictions"
   ]
  },
  {
   "cell_type": "markdown",
   "metadata": {},
   "source": [
    "#### KNN"
   ]
  },
  {
   "cell_type": "code",
   "execution_count": null,
   "metadata": {},
   "outputs": [],
   "source": [
    "# grid_search_params = {\n",
    "#     \"n_neighbors\": [3, 5, 7, 9],\n",
    "#     \"weights\": [\"uniform\", \"distance\"],\n",
    "#     \"p\": [1, 2],\n",
    "#     # \"algorithm\": [\"auto\", \"ball_tree\", \"kd_tree\", \"brute\"],\n",
    "# }\n",
    "\n",
    "# cls_knn = KNeighborsClassifier()\n",
    "\n",
    "# grid_search = GridSearchCV(\n",
    "#     estimator=cls_knn, param_grid=grid_search_params, cv=10, scoring=\"accuracy\"\n",
    "# )\n",
    "\n",
    "# grid_search.fit(train, targets)\n",
    "\n",
    "# # print(f\"{grid_search.best_params_}\\n\\n\")\n",
    "# print(f\"{grid_search.best_estimator_}\")"
   ]
  },
  {
   "cell_type": "code",
   "execution_count": null,
   "metadata": {},
   "outputs": [],
   "source": [
    "# knn = KNeighborsClassifier( n_neighbors=5, weights=\"distance\", p=2 )\n",
    "\n",
    "# cv = StratifiedKFold(random_state=42, n_splits=10, shuffle=True)\n",
    "\n",
    "# scores = cross_val_score(knn, train, targets, cv=cv, scoring='accuracy')\n",
    "\n",
    "# print(f\"mean score: {scores.mean()}\")"
   ]
  },
  {
   "cell_type": "code",
   "execution_count": null,
   "metadata": {},
   "outputs": [],
   "source": [
    "# knn.fit(train, targets)\n",
    "# predictions = knn.predict(test_data)\n",
    "# predictions"
   ]
  },
  {
   "cell_type": "markdown",
   "metadata": {},
   "source": [
    "#### DecisionTreeClassifier"
   ]
  },
  {
   "cell_type": "code",
   "execution_count": null,
   "metadata": {},
   "outputs": [],
   "source": [
    "# grid_search_params = {\n",
    "#     \"criterion\": [\"gini\", \"entropy\"],\n",
    "#     \"max_depth\": [None, 5, 10, 15, 20],\n",
    "#     \"min_samples_split\": [2, 5, 10],\n",
    "#     \"min_samples_leaf\": [1, 2, 4],\n",
    "# }\n",
    "\n",
    "# cls_dt = DecisionTreeClassifier()\n",
    "\n",
    "# grid_search = GridSearchCV(\n",
    "#     estimator=cls_dt, param_grid=grid_search_params, cv=10, scoring=\"accuracy\"\n",
    "# )\n",
    "\n",
    "# grid_search.fit(train, targets)\n",
    "\n",
    "# print(f\"{grid_search.best_params_}\\n\\n\")\n",
    "# print(f\"{grid_search.best_estimator_}\")"
   ]
  },
  {
   "cell_type": "code",
   "execution_count": null,
   "metadata": {},
   "outputs": [],
   "source": [
    "# dt = DecisionTreeClassifier(\n",
    "#     criterion=\"gini\", max_depth=10, min_samples_leaf=4, min_samples_split=5\n",
    "# )\n",
    "# # dt = DecisionTreeClassifier(max_depth=10, min_samples_leaf=4, min_samples_split=5)\n",
    "\n",
    "# cv = StratifiedKFold(random_state=42, n_splits=10, shuffle=True)\n",
    "\n",
    "# scores = cross_val_score(dt, train, targets, cv=cv, scoring=\"accuracy\")\n",
    "\n",
    "# print(f\"mean score: {scores.mean()}\")"
   ]
  },
  {
   "cell_type": "code",
   "execution_count": null,
   "metadata": {},
   "outputs": [],
   "source": [
    "# dt.fit(train, targets)\n",
    "# predictions = dt.predict(test_data)\n",
    "# predictions"
   ]
  },
  {
   "cell_type": "markdown",
   "metadata": {},
   "source": [
    "#### SGDClassifier"
   ]
  },
  {
   "cell_type": "code",
   "execution_count": null,
   "metadata": {},
   "outputs": [],
   "source": [
    "# grid_search_params = {\n",
    "#     \"loss\": [\"hinge\", \"log\", \"modified_huber\"],\n",
    "#     \"penalty\": [\"none\", \"l1\", \"l2\", \"elasticnet\"],\n",
    "#     \"alpha\": [0.0001, 0.001, 0.01, 0.1],\n",
    "#     \"max_iter\": [1000, 2000, 3000],\n",
    "# }\n",
    "\n",
    "# cls_sdg = SGDClassifier()\n",
    "\n",
    "# grid_search = GridSearchCV(\n",
    "#     estimator=cls_sdg, param_grid=grid_search_params, cv=10, scoring=\"accuracy\"\n",
    "# )\n",
    "\n",
    "# grid_search.fit(train, targets)\n",
    "\n",
    "# # # print(f\"{grid_search.best_params_}\\n\\n\")\n",
    "# # print(f\"{grid_search.best_estimator_}\")"
   ]
  },
  {
   "cell_type": "code",
   "execution_count": null,
   "metadata": {},
   "outputs": [],
   "source": [
    "# sgd = SGDClassifier(alpha=0.001, loss='modified_huber', max_iter=3000,penalty='elasticnet')\n",
    "\n",
    "# cv = StratifiedKFold(random_state=42, n_splits=10, shuffle=True)\n",
    "\n",
    "# scores = cross_val_score(sgd, train, targets, cv=cv, scoring='accuracy')\n",
    "\n",
    "# print(f\"mean score: {scores.mean()}\")"
   ]
  },
  {
   "cell_type": "code",
   "execution_count": null,
   "metadata": {},
   "outputs": [],
   "source": [
    "# sgd.fit(train, targets)\n",
    "# predictions = sgd.predict(test_data)\n",
    "# predictions"
   ]
  },
  {
   "cell_type": "markdown",
   "metadata": {},
   "source": [
    "#### DecisionTreeRegressor"
   ]
  },
  {
   "cell_type": "code",
   "execution_count": null,
   "metadata": {},
   "outputs": [],
   "source": [
    "# grid_search_params = {\n",
    "#     \"max_depth\": [None, 10, 20, 30],\n",
    "#     \"min_samples_split\": [2, 5, 10],\n",
    "#     \"min_samples_leaf\": [1, 2, 4],\n",
    "# }\n",
    "\n",
    "# cls_dt_reg = DecisionTreeRegressor()\n",
    "\n",
    "# grid_search = GridSearchCV(\n",
    "#     estimator=cls_dt_reg, param_grid=grid_search_params, cv=10, scoring=\"accuracy\"\n",
    "# )\n",
    "\n",
    "# grid_search.fit(train, targets)\n",
    "\n",
    "# print(f\"{grid_search.best_params_}\\n\\n\")\n",
    "# print(f\"{grid_search.best_estimator_}\")"
   ]
  },
  {
   "cell_type": "code",
   "execution_count": null,
   "metadata": {},
   "outputs": [],
   "source": [
    "# dt_reg = DecisionTreeRegressor()\n",
    "# # dt = DecisionTreeClassifier(max_depth=10, min_samples_leaf=4, min_samples_split=5)\n",
    "\n",
    "# cv = StratifiedKFold(random_state=42, n_splits=10, shuffle=True)\n",
    "\n",
    "# scores = cross_val_score(dt_reg, train, targets, cv=cv, scoring=\"accuracy\")\n",
    "\n",
    "# print(f\"mean score: {scores.mean()}\")"
   ]
  },
  {
   "cell_type": "code",
   "execution_count": null,
   "metadata": {},
   "outputs": [],
   "source": [
    "# dt.fit(train, targets)\n",
    "# predictions = dt.predict(test_data)\n",
    "# predictions"
   ]
  },
  {
   "cell_type": "markdown",
   "metadata": {},
   "source": [
    "#### MLPClassifier"
   ]
  },
  {
   "cell_type": "code",
   "execution_count": null,
   "metadata": {},
   "outputs": [],
   "source": [
    "# grid_search_params = {\n",
    "#     \"hidden_layer_sizes\": [(64,), (128,), (256,)],\n",
    "#     \"activation\": [\"relu\", \"tanh\"],\n",
    "#     \"alpha\": [0.0001, 0.001, 0.01],\n",
    "# }\n",
    "\n",
    "\n",
    "# cls_mlp = MLPClassifier()\n",
    "\n",
    "# grid_search = GridSearchCV(\n",
    "#     estimator=cls_mlp, param_grid=grid_search_params, cv=10, scoring=\"accuracy\"\n",
    "# )\n",
    "\n",
    "# grid_search.fit(train, targets)\n",
    "\n",
    "# print(f\"{grid_search.best_params_}\\n\\n\")\n",
    "# print(f\"{grid_search.best_estimator_}\")"
   ]
  },
  {
   "cell_type": "code",
   "execution_count": null,
   "metadata": {},
   "outputs": [],
   "source": [
    "# # mlp = MLPClassifier(alpha=0.01, hidden_layer_sizes=(64,))\n",
    "# mlp = MLPClassifier(activation='relu', alpha=0.0001, hidden_layer_sizes=(256,), random_state=1)\n",
    "# # mlp = MLPClassifier()\n",
    "\n",
    "# cv = StratifiedKFold(random_state=42, n_splits=10, shuffle=True)\n",
    "\n",
    "# scores = cross_val_score(mlp, train, targets, cv=cv, scoring=\"accuracy\")\n",
    "\n",
    "# print(f\"mean score: {scores.mean()}\")"
   ]
  },
  {
   "cell_type": "code",
   "execution_count": null,
   "metadata": {},
   "outputs": [],
   "source": [
    "# mlp.fit(train, targets)\n",
    "# predictions = mlp.predict(test_data)\n",
    "# predictions"
   ]
  },
  {
   "cell_type": "markdown",
   "metadata": {},
   "source": [
    "## Model Evaluation"
   ]
  },
  {
   "cell_type": "code",
   "execution_count": null,
   "metadata": {},
   "outputs": [],
   "source": [
    "y_preds = model.predict(x_test)"
   ]
  },
  {
   "cell_type": "code",
   "execution_count": null,
   "metadata": {},
   "outputs": [],
   "source": [
    "y_preds.shape, y_test.shape"
   ]
  },
  {
   "cell_type": "code",
   "execution_count": null,
   "metadata": {},
   "outputs": [],
   "source": [
    "f1_score(y_test, y_preds)"
   ]
  },
  {
   "cell_type": "code",
   "execution_count": null,
   "metadata": {},
   "outputs": [],
   "source": [
    "print(classification_report(y_test, y_preds, zero_division=1))"
   ]
  },
  {
   "cell_type": "code",
   "execution_count": null,
   "metadata": {},
   "outputs": [],
   "source": [
    "cm = confusion_matrix(y_test, y_preds)\n",
    "cm"
   ]
  },
  {
   "cell_type": "code",
   "execution_count": null,
   "metadata": {},
   "outputs": [],
   "source": [
    "plt.figure(figsize=(5, 3))\n",
    "sns.heatmap(cm, annot=True, fmt=\"d\", cmap=\"Blues\")\n",
    "plt.xlabel(\"Predicted\")\n",
    "plt.ylabel(\"Actual\")\n",
    "plt.title(\"Confusion Matrix\")\n",
    "plt.show()"
   ]
  },
  {
   "cell_type": "markdown",
   "metadata": {},
   "source": [
    "## Save to file"
   ]
  },
  {
   "cell_type": "code",
   "execution_count": null,
   "metadata": {},
   "outputs": [],
   "source": [
    "# test_data.shape"
   ]
  },
  {
   "cell_type": "code",
   "execution_count": null,
   "metadata": {},
   "outputs": [],
   "source": [
    "predictions = model.predict(test_data)\n",
    "# predictions = ( predictions >= .5).astype('int')[:,0]\n",
    "# predictions = predictions.flatten()\n",
    "predictions"
   ]
  },
  {
   "cell_type": "code",
   "execution_count": null,
   "metadata": {},
   "outputs": [],
   "source": [
    "# # unclean data\n",
    "submit_sample = pd.read_csv(\"./SampleSubmission.csv\")\n",
    "submit_sample.head()"
   ]
  },
  {
   "cell_type": "code",
   "execution_count": null,
   "metadata": {},
   "outputs": [],
   "source": [
    "df_submission = pd.DataFrame({\"Person_id\": submit_sample[\"Person_id\"], \"Target\": predictions.astype(int)})\n",
    "df_submission.head()"
   ]
  },
  {
   "cell_type": "code",
   "execution_count": null,
   "metadata": {},
   "outputs": [],
   "source": [
    "df_submission.to_csv(\"submission.csv\", index=False)"
   ]
  }
 ],
 "metadata": {
  "kernelspec": {
   "display_name": "env-zindi",
   "language": "python",
   "name": "python3"
  },
  "language_info": {
   "codemirror_mode": {
    "name": "ipython",
    "version": 3
   },
   "file_extension": ".py",
   "mimetype": "text/x-python",
   "name": "python",
   "nbconvert_exporter": "python",
   "pygments_lexer": "ipython3",
   "version": "3.10.7"
  },
  "orig_nbformat": 4
 },
 "nbformat": 4,
 "nbformat_minor": 2
}
