{
 "cells": [
  {
   "cell_type": "code",
   "execution_count": 77,
   "metadata": {},
   "outputs": [],
   "source": [
    "import numpy as np\n",
    "import pandas as pd\n",
    "import seaborn as sns\n",
    "# import xgboost as xgb\n",
    "from keras import Model\n",
    "from sklearn.svm import SVC\n",
    "import matplotlib.pyplot as plt\n",
    "from keras.optimizers import Adam\n",
    "from keras.regularizers import l2, l1\n",
    "from imblearn.combine import SMOTETomek\n",
    "from sklearn.linear_model import SGDClassifier\n",
    "from sklearn.neural_network import MLPClassifier\n",
    "from sklearn.neighbors import KNeighborsClassifier\n",
    "from sklearn.ensemble import RandomForestClassifier\n",
    "from sklearn.naive_bayes import GaussianNB, MultinomialNB\n",
    "from sklearn.tree import DecisionTreeClassifier, DecisionTreeRegressor\n",
    "from sklearn.metrics import f1_score, classification_report, confusion_matrix\n",
    "from sklearn.model_selection import train_test_split, GridSearchCV, StratifiedKFold, cross_val_score\n",
    "from keras.layers import (\n",
    "    Bidirectional,\n",
    "    LSTM,\n",
    "    Dense,\n",
    "    Dropout,\n",
    "    BatchNormalization,\n",
    "    Input,\n",
    "    Activation,\n",
    ")"
   ]
  },
  {
   "cell_type": "markdown",
   "metadata": {},
   "source": [
    "## Training Data"
   ]
  },
  {
   "cell_type": "code",
   "execution_count": 78,
   "metadata": {},
   "outputs": [
    {
     "data": {
      "text/html": [
       "<div>\n",
       "<style scoped>\n",
       "    .dataframe tbody tr th:only-of-type {\n",
       "        vertical-align: middle;\n",
       "    }\n",
       "\n",
       "    .dataframe tbody tr th {\n",
       "        vertical-align: top;\n",
       "    }\n",
       "\n",
       "    .dataframe thead th {\n",
       "        text-align: right;\n",
       "    }\n",
       "</style>\n",
       "<table border=\"1\" class=\"dataframe\">\n",
       "  <thead>\n",
       "    <tr style=\"text-align: right;\">\n",
       "      <th></th>\n",
       "      <th>Tenure</th>\n",
       "      <th>Matric</th>\n",
       "      <th>Degree</th>\n",
       "      <th>Diploma</th>\n",
       "      <th>Female</th>\n",
       "      <th>Sa_citizen</th>\n",
       "      <th>Birthyear</th>\n",
       "      <th>Birthmonth</th>\n",
       "      <th>Target</th>\n",
       "      <th>Year_survey</th>\n",
       "      <th>...</th>\n",
       "      <th>Home_lang_70_79</th>\n",
       "      <th>Home_lang_80_100</th>\n",
       "      <th>Home_lang_nan</th>\n",
       "      <th>Science_30_39</th>\n",
       "      <th>Science_40_49</th>\n",
       "      <th>Science_50_59</th>\n",
       "      <th>Science_60_69</th>\n",
       "      <th>Science_70_79</th>\n",
       "      <th>Science_80_100</th>\n",
       "      <th>Science_nan</th>\n",
       "    </tr>\n",
       "  </thead>\n",
       "  <tbody>\n",
       "    <tr>\n",
       "      <th>0</th>\n",
       "      <td>0.0</td>\n",
       "      <td>1.0</td>\n",
       "      <td>0.0</td>\n",
       "      <td>0.0</td>\n",
       "      <td>1</td>\n",
       "      <td>1</td>\n",
       "      <td>2000</td>\n",
       "      <td>5</td>\n",
       "      <td>0</td>\n",
       "      <td>2022</td>\n",
       "      <td>...</td>\n",
       "      <td>0</td>\n",
       "      <td>0</td>\n",
       "      <td>1</td>\n",
       "      <td>0</td>\n",
       "      <td>0</td>\n",
       "      <td>0</td>\n",
       "      <td>0</td>\n",
       "      <td>0</td>\n",
       "      <td>0</td>\n",
       "      <td>0</td>\n",
       "    </tr>\n",
       "    <tr>\n",
       "      <th>1</th>\n",
       "      <td>427.0</td>\n",
       "      <td>1.0</td>\n",
       "      <td>0.0</td>\n",
       "      <td>0.0</td>\n",
       "      <td>1</td>\n",
       "      <td>1</td>\n",
       "      <td>1989</td>\n",
       "      <td>4</td>\n",
       "      <td>1</td>\n",
       "      <td>2023</td>\n",
       "      <td>...</td>\n",
       "      <td>0</td>\n",
       "      <td>0</td>\n",
       "      <td>1</td>\n",
       "      <td>1</td>\n",
       "      <td>0</td>\n",
       "      <td>0</td>\n",
       "      <td>0</td>\n",
       "      <td>0</td>\n",
       "      <td>0</td>\n",
       "      <td>0</td>\n",
       "    </tr>\n",
       "    <tr>\n",
       "      <th>2</th>\n",
       "      <td>0.0</td>\n",
       "      <td>1.0</td>\n",
       "      <td>0.0</td>\n",
       "      <td>0.0</td>\n",
       "      <td>0</td>\n",
       "      <td>1</td>\n",
       "      <td>1996</td>\n",
       "      <td>7</td>\n",
       "      <td>1</td>\n",
       "      <td>2022</td>\n",
       "      <td>...</td>\n",
       "      <td>0</td>\n",
       "      <td>0</td>\n",
       "      <td>1</td>\n",
       "      <td>1</td>\n",
       "      <td>0</td>\n",
       "      <td>0</td>\n",
       "      <td>0</td>\n",
       "      <td>0</td>\n",
       "      <td>0</td>\n",
       "      <td>0</td>\n",
       "    </tr>\n",
       "    <tr>\n",
       "      <th>3</th>\n",
       "      <td>810.0</td>\n",
       "      <td>0.0</td>\n",
       "      <td>0.0</td>\n",
       "      <td>0.0</td>\n",
       "      <td>0</td>\n",
       "      <td>1</td>\n",
       "      <td>2000</td>\n",
       "      <td>1</td>\n",
       "      <td>0</td>\n",
       "      <td>2022</td>\n",
       "      <td>...</td>\n",
       "      <td>0</td>\n",
       "      <td>0</td>\n",
       "      <td>1</td>\n",
       "      <td>0</td>\n",
       "      <td>0</td>\n",
       "      <td>0</td>\n",
       "      <td>0</td>\n",
       "      <td>0</td>\n",
       "      <td>0</td>\n",
       "      <td>1</td>\n",
       "    </tr>\n",
       "    <tr>\n",
       "      <th>4</th>\n",
       "      <td>0.0</td>\n",
       "      <td>0.0</td>\n",
       "      <td>0.0</td>\n",
       "      <td>0.0</td>\n",
       "      <td>1</td>\n",
       "      <td>1</td>\n",
       "      <td>1998</td>\n",
       "      <td>12</td>\n",
       "      <td>0</td>\n",
       "      <td>2023</td>\n",
       "      <td>...</td>\n",
       "      <td>0</td>\n",
       "      <td>0</td>\n",
       "      <td>1</td>\n",
       "      <td>0</td>\n",
       "      <td>0</td>\n",
       "      <td>0</td>\n",
       "      <td>0</td>\n",
       "      <td>0</td>\n",
       "      <td>0</td>\n",
       "      <td>1</td>\n",
       "    </tr>\n",
       "  </tbody>\n",
       "</table>\n",
       "<p>5 rows × 74 columns</p>\n",
       "</div>"
      ],
      "text/plain": [
       "   Tenure  Matric  Degree  Diploma  Female  Sa_citizen  Birthyear  Birthmonth  \\\n",
       "0     0.0     1.0     0.0      0.0       1           1       2000           5   \n",
       "1   427.0     1.0     0.0      0.0       1           1       1989           4   \n",
       "2     0.0     1.0     0.0      0.0       0           1       1996           7   \n",
       "3   810.0     0.0     0.0      0.0       0           1       2000           1   \n",
       "4     0.0     0.0     0.0      0.0       1           1       1998          12   \n",
       "\n",
       "   Target  Year_survey  ...  Home_lang_70_79  Home_lang_80_100  Home_lang_nan  \\\n",
       "0       0         2022  ...                0                 0              1   \n",
       "1       1         2023  ...                0                 0              1   \n",
       "2       1         2022  ...                0                 0              1   \n",
       "3       0         2022  ...                0                 0              1   \n",
       "4       0         2023  ...                0                 0              1   \n",
       "\n",
       "   Science_30_39  Science_40_49  Science_50_59  Science_60_69  Science_70_79  \\\n",
       "0              0              0              0              0              0   \n",
       "1              1              0              0              0              0   \n",
       "2              1              0              0              0              0   \n",
       "3              0              0              0              0              0   \n",
       "4              0              0              0              0              0   \n",
       "\n",
       "   Science_80_100  Science_nan  \n",
       "0               0            0  \n",
       "1               0            0  \n",
       "2               0            0  \n",
       "3               0            1  \n",
       "4               0            1  \n",
       "\n",
       "[5 rows x 74 columns]"
      ]
     },
     "execution_count": 78,
     "metadata": {},
     "output_type": "execute_result"
    }
   ],
   "source": [
    "df_train = pd.read_csv(\"./clean_train.csv\")\n",
    "df_train = df_train.replace({True: 1, False:0})\n",
    "df_train.head()"
   ]
  },
  {
   "cell_type": "code",
   "execution_count": 79,
   "metadata": {},
   "outputs": [
    {
     "data": {
      "image/png": "[encoded data removed]",
      "text/plain": [
       "<Figure size 500x300 with 1 Axes>"
      ]
     },
     "metadata": {},
     "output_type": "display_data"
    }
   ],
   "source": [
    "plt.figure(figsize=(5, 3))\n",
    "df_train['Target'].value_counts().plot(kind='bar')\n",
    "plt.show()"
   ]
  },
  {
   "cell_type": "code",
   "execution_count": 80,
   "metadata": {},
   "outputs": [
    {
     "data": {
      "text/plain": [
       "((4020, 73), (4020,))"
      ]
     },
     "execution_count": 80,
     "metadata": {},
     "output_type": "execute_result"
    }
   ],
   "source": [
    "train = df_train.drop('Target', axis=1)\n",
    "targets = df_train['Target']\n",
    "\n",
    "train.shape, targets.shape"
   ]
  },
  {
   "cell_type": "markdown",
   "metadata": {},
   "source": [
    "## Class Imbalance"
   ]
  },
  {
   "cell_type": "code",
   "execution_count": 81,
   "metadata": {},
   "outputs": [],
   "source": [
    "# def min_max_scaling(column):\n",
    "#     min_val = column.min()\n",
    "#     max_val = column.max()\n",
    "#     scaled_column = (column - min_val) / (max_val - min_val)\n",
    "#     return scaled_column\n",
    "\n",
    "# # scale all columns [0-1]\n",
    "# train = train.iloc[:, :].apply(min_max_scaling)\n",
    "# train.head()"
   ]
  },
  {
   "cell_type": "code",
   "execution_count": 82,
   "metadata": {},
   "outputs": [
    {
     "data": {
      "text/html": [
       "<div>\n",
       "<style scoped>\n",
       "    .dataframe tbody tr th:only-of-type {\n",
       "        vertical-align: middle;\n",
       "    }\n",
       "\n",
       "    .dataframe tbody tr th {\n",
       "        vertical-align: top;\n",
       "    }\n",
       "\n",
       "    .dataframe thead th {\n",
       "        text-align: right;\n",
       "    }\n",
       "</style>\n",
       "<table border=\"1\" class=\"dataframe\">\n",
       "  <thead>\n",
       "    <tr style=\"text-align: right;\">\n",
       "      <th></th>\n",
       "      <th>Tenure</th>\n",
       "      <th>Matric</th>\n",
       "      <th>Degree</th>\n",
       "      <th>Diploma</th>\n",
       "      <th>Female</th>\n",
       "      <th>Sa_citizen</th>\n",
       "      <th>Birthyear</th>\n",
       "      <th>Birthmonth</th>\n",
       "      <th>Year_survey</th>\n",
       "      <th>Age_survey</th>\n",
       "      <th>...</th>\n",
       "      <th>Home_lang_70_79</th>\n",
       "      <th>Home_lang_80_100</th>\n",
       "      <th>Home_lang_nan</th>\n",
       "      <th>Science_30_39</th>\n",
       "      <th>Science_40_49</th>\n",
       "      <th>Science_50_59</th>\n",
       "      <th>Science_60_69</th>\n",
       "      <th>Science_70_79</th>\n",
       "      <th>Science_80_100</th>\n",
       "      <th>Science_nan</th>\n",
       "    </tr>\n",
       "  </thead>\n",
       "  <tbody>\n",
       "    <tr>\n",
       "      <th>0</th>\n",
       "      <td>0.0</td>\n",
       "      <td>1.0</td>\n",
       "      <td>0.0</td>\n",
       "      <td>0.0</td>\n",
       "      <td>1</td>\n",
       "      <td>1</td>\n",
       "      <td>2000</td>\n",
       "      <td>5</td>\n",
       "      <td>2022</td>\n",
       "      <td>22</td>\n",
       "      <td>...</td>\n",
       "      <td>0</td>\n",
       "      <td>0</td>\n",
       "      <td>1</td>\n",
       "      <td>0</td>\n",
       "      <td>0</td>\n",
       "      <td>0</td>\n",
       "      <td>0</td>\n",
       "      <td>0</td>\n",
       "      <td>0</td>\n",
       "      <td>0</td>\n",
       "    </tr>\n",
       "    <tr>\n",
       "      <th>1</th>\n",
       "      <td>427.0</td>\n",
       "      <td>1.0</td>\n",
       "      <td>0.0</td>\n",
       "      <td>0.0</td>\n",
       "      <td>1</td>\n",
       "      <td>1</td>\n",
       "      <td>1989</td>\n",
       "      <td>4</td>\n",
       "      <td>2023</td>\n",
       "      <td>34</td>\n",
       "      <td>...</td>\n",
       "      <td>0</td>\n",
       "      <td>0</td>\n",
       "      <td>1</td>\n",
       "      <td>1</td>\n",
       "      <td>0</td>\n",
       "      <td>0</td>\n",
       "      <td>0</td>\n",
       "      <td>0</td>\n",
       "      <td>0</td>\n",
       "      <td>0</td>\n",
       "    </tr>\n",
       "    <tr>\n",
       "      <th>2</th>\n",
       "      <td>0.0</td>\n",
       "      <td>1.0</td>\n",
       "      <td>0.0</td>\n",
       "      <td>0.0</td>\n",
       "      <td>0</td>\n",
       "      <td>1</td>\n",
       "      <td>1996</td>\n",
       "      <td>7</td>\n",
       "      <td>2022</td>\n",
       "      <td>26</td>\n",
       "      <td>...</td>\n",
       "      <td>0</td>\n",
       "      <td>0</td>\n",
       "      <td>1</td>\n",
       "      <td>1</td>\n",
       "      <td>0</td>\n",
       "      <td>0</td>\n",
       "      <td>0</td>\n",
       "      <td>0</td>\n",
       "      <td>0</td>\n",
       "      <td>0</td>\n",
       "    </tr>\n",
       "    <tr>\n",
       "      <th>3</th>\n",
       "      <td>810.0</td>\n",
       "      <td>0.0</td>\n",
       "      <td>0.0</td>\n",
       "      <td>0.0</td>\n",
       "      <td>0</td>\n",
       "      <td>1</td>\n",
       "      <td>2000</td>\n",
       "      <td>1</td>\n",
       "      <td>2022</td>\n",
       "      <td>22</td>\n",
       "      <td>...</td>\n",
       "      <td>0</td>\n",
       "      <td>0</td>\n",
       "      <td>1</td>\n",
       "      <td>0</td>\n",
       "      <td>0</td>\n",
       "      <td>0</td>\n",
       "      <td>0</td>\n",
       "      <td>0</td>\n",
       "      <td>0</td>\n",
       "      <td>1</td>\n",
       "    </tr>\n",
       "    <tr>\n",
       "      <th>4</th>\n",
       "      <td>0.0</td>\n",
       "      <td>0.0</td>\n",
       "      <td>0.0</td>\n",
       "      <td>0.0</td>\n",
       "      <td>1</td>\n",
       "      <td>1</td>\n",
       "      <td>1998</td>\n",
       "      <td>12</td>\n",
       "      <td>2023</td>\n",
       "      <td>25</td>\n",
       "      <td>...</td>\n",
       "      <td>0</td>\n",
       "      <td>0</td>\n",
       "      <td>1</td>\n",
       "      <td>0</td>\n",
       "      <td>0</td>\n",
       "      <td>0</td>\n",
       "      <td>0</td>\n",
       "      <td>0</td>\n",
       "      <td>0</td>\n",
       "      <td>1</td>\n",
       "    </tr>\n",
       "  </tbody>\n",
       "</table>\n",
       "<p>5 rows × 69 columns</p>\n",
       "</div>"
      ],
      "text/plain": [
       "   Tenure  Matric  Degree  Diploma  Female  Sa_citizen  Birthyear  Birthmonth  \\\n",
       "0     0.0     1.0     0.0      0.0       1           1       2000           5   \n",
       "1   427.0     1.0     0.0      0.0       1           1       1989           4   \n",
       "2     0.0     1.0     0.0      0.0       0           1       1996           7   \n",
       "3   810.0     0.0     0.0      0.0       0           1       2000           1   \n",
       "4     0.0     0.0     0.0      0.0       1           1       1998          12   \n",
       "\n",
       "   Year_survey  Age_survey  ...  Home_lang_70_79  Home_lang_80_100  \\\n",
       "0         2022          22  ...                0                 0   \n",
       "1         2023          34  ...                0                 0   \n",
       "2         2022          26  ...                0                 0   \n",
       "3         2022          22  ...                0                 0   \n",
       "4         2023          25  ...                0                 0   \n",
       "\n",
       "   Home_lang_nan  Science_30_39  Science_40_49  Science_50_59  Science_60_69  \\\n",
       "0              1              0              0              0              0   \n",
       "1              1              1              0              0              0   \n",
       "2              1              1              0              0              0   \n",
       "3              1              0              0              0              0   \n",
       "4              1              0              0              0              0   \n",
       "\n",
       "   Science_70_79  Science_80_100  Science_nan  \n",
       "0              0               0            0  \n",
       "1              0               0            0  \n",
       "2              0               0            0  \n",
       "3              0               0            1  \n",
       "4              0               0            1  \n",
       "\n",
       "[5 rows x 69 columns]"
      ]
     },
     "execution_count": 82,
     "metadata": {},
     "output_type": "execute_result"
    }
   ],
   "source": [
    "train = train.drop(['Round_nan', 'Status_nan', 'Geography_nan', 'Province_nan'], axis=1)\n",
    "train.head()"
   ]
  },
  {
   "cell_type": "code",
   "execution_count": 83,
   "metadata": {},
   "outputs": [
    {
     "data": {
      "text/plain": [
       "((5714, 69),\n",
       " Target\n",
       " 0    2857\n",
       " 1    2857\n",
       " Name: count, dtype: int64)"
      ]
     },
     "execution_count": 83,
     "metadata": {},
     "output_type": "execute_result"
    }
   ],
   "source": [
    "# tl_us = TomekLinks(sampling_strategy='majority')\n",
    "tl_us = SMOTETomek(random_state=42, sampling_strategy = 1.0)\n",
    "x_resample,y_resample = tl_us.fit_resample(train, targets )\n",
    "#\n",
    "x_resample.shape,y_resample.value_counts()"
   ]
  },
  {
   "cell_type": "code",
   "execution_count": 84,
   "metadata": {},
   "outputs": [
    {
     "name": "stdout",
     "output_type": "stream",
     "text": [
      "Target\n",
      "0    2857\n",
      "1    2857\n",
      "Name: count, dtype: int64\n"
     ]
    },
    {
     "name": "stderr",
     "output_type": "stream",
     "text": [
      "/Users/aapoh/codes/ghp/zindi-piyipc/env-zindi/lib/python3.10/site-packages/seaborn/_oldcore.py:1498: FutureWarning: is_categorical_dtype is deprecated and will be removed in a future version. Use isinstance(dtype, CategoricalDtype) instead\n",
      "  if pd.api.types.is_categorical_dtype(vector):\n",
      "/Users/aapoh/codes/ghp/zindi-piyipc/env-zindi/lib/python3.10/site-packages/seaborn/_oldcore.py:1498: FutureWarning: is_categorical_dtype is deprecated and will be removed in a future version. Use isinstance(dtype, CategoricalDtype) instead\n",
      "  if pd.api.types.is_categorical_dtype(vector):\n",
      "/Users/aapoh/codes/ghp/zindi-piyipc/env-zindi/lib/python3.10/site-packages/seaborn/_oldcore.py:1498: FutureWarning: is_categorical_dtype is deprecated and will be removed in a future version. Use isinstance(dtype, CategoricalDtype) instead\n",
      "  if pd.api.types.is_categorical_dtype(vector):\n"
     ]
    },
    {
     "data": {
      "image/png": "[encoded data removed]",
      "text/plain": [
       "<Figure size 500x300 with 1 Axes>"
      ]
     },
     "metadata": {},
     "output_type": "display_data"
    }
   ],
   "source": [
    "print(y_resample.value_counts())\n",
    "#\n",
    "plt.figure(figsize=(5, 3))\n",
    "sns.countplot(x=y_resample)\n",
    "plt.show()"
   ]
  },
  {
   "cell_type": "code",
   "execution_count": 85,
   "metadata": {},
   "outputs": [
    {
     "data": {
      "text/plain": [
       "((4571, 69), (4571,))"
      ]
     },
     "execution_count": 85,
     "metadata": {},
     "output_type": "execute_result"
    }
   ],
   "source": [
    "x_train, x_test, y_train, y_test = train_test_split(x_resample, y_resample, test_size=0.2, random_state=42)\n",
    "x_train.shape, y_train.shape"
   ]
  },
  {
   "cell_type": "markdown",
   "metadata": {},
   "source": [
    "## Test Data"
   ]
  },
  {
   "cell_type": "code",
   "execution_count": 86,
   "metadata": {},
   "outputs": [
    {
     "data": {
      "text/html": [
       "<div>\n",
       "<style scoped>\n",
       "    .dataframe tbody tr th:only-of-type {\n",
       "        vertical-align: middle;\n",
       "    }\n",
       "\n",
       "    .dataframe tbody tr th {\n",
       "        vertical-align: top;\n",
       "    }\n",
       "\n",
       "    .dataframe thead th {\n",
       "        text-align: right;\n",
       "    }\n",
       "</style>\n",
       "<table border=\"1\" class=\"dataframe\">\n",
       "  <thead>\n",
       "    <tr style=\"text-align: right;\">\n",
       "      <th></th>\n",
       "      <th>Tenure</th>\n",
       "      <th>Matric</th>\n",
       "      <th>Degree</th>\n",
       "      <th>Diploma</th>\n",
       "      <th>Female</th>\n",
       "      <th>Sa_citizen</th>\n",
       "      <th>Birthyear</th>\n",
       "      <th>Birthmonth</th>\n",
       "      <th>Year_survey</th>\n",
       "      <th>Age_survey</th>\n",
       "      <th>...</th>\n",
       "      <th>Home_lang_70_79</th>\n",
       "      <th>Home_lang_80_100</th>\n",
       "      <th>Home_lang_nan</th>\n",
       "      <th>Science_30_39</th>\n",
       "      <th>Science_40_49</th>\n",
       "      <th>Science_50_59</th>\n",
       "      <th>Science_60_69</th>\n",
       "      <th>Science_70_79</th>\n",
       "      <th>Science_80_100</th>\n",
       "      <th>Science_nan</th>\n",
       "    </tr>\n",
       "  </thead>\n",
       "  <tbody>\n",
       "    <tr>\n",
       "      <th>0</th>\n",
       "      <td>0.0</td>\n",
       "      <td>1.0</td>\n",
       "      <td>0.0</td>\n",
       "      <td>0.0</td>\n",
       "      <td>0</td>\n",
       "      <td>1</td>\n",
       "      <td>2002</td>\n",
       "      <td>12</td>\n",
       "      <td>2022</td>\n",
       "      <td>20</td>\n",
       "      <td>...</td>\n",
       "      <td>0</td>\n",
       "      <td>0</td>\n",
       "      <td>1</td>\n",
       "      <td>0</td>\n",
       "      <td>1</td>\n",
       "      <td>0</td>\n",
       "      <td>0</td>\n",
       "      <td>0</td>\n",
       "      <td>0</td>\n",
       "      <td>0</td>\n",
       "    </tr>\n",
       "    <tr>\n",
       "      <th>1</th>\n",
       "      <td>979.0</td>\n",
       "      <td>1.0</td>\n",
       "      <td>0.0</td>\n",
       "      <td>0.0</td>\n",
       "      <td>1</td>\n",
       "      <td>1</td>\n",
       "      <td>1989</td>\n",
       "      <td>12</td>\n",
       "      <td>2023</td>\n",
       "      <td>34</td>\n",
       "      <td>...</td>\n",
       "      <td>0</td>\n",
       "      <td>0</td>\n",
       "      <td>1</td>\n",
       "      <td>0</td>\n",
       "      <td>0</td>\n",
       "      <td>0</td>\n",
       "      <td>0</td>\n",
       "      <td>0</td>\n",
       "      <td>0</td>\n",
       "      <td>1</td>\n",
       "    </tr>\n",
       "    <tr>\n",
       "      <th>2</th>\n",
       "      <td>339.0</td>\n",
       "      <td>0.0</td>\n",
       "      <td>0.0</td>\n",
       "      <td>0.0</td>\n",
       "      <td>1</td>\n",
       "      <td>1</td>\n",
       "      <td>1989</td>\n",
       "      <td>12</td>\n",
       "      <td>2023</td>\n",
       "      <td>34</td>\n",
       "      <td>...</td>\n",
       "      <td>0</td>\n",
       "      <td>0</td>\n",
       "      <td>1</td>\n",
       "      <td>0</td>\n",
       "      <td>0</td>\n",
       "      <td>0</td>\n",
       "      <td>0</td>\n",
       "      <td>0</td>\n",
       "      <td>0</td>\n",
       "      <td>1</td>\n",
       "    </tr>\n",
       "    <tr>\n",
       "      <th>3</th>\n",
       "      <td>0.0</td>\n",
       "      <td>1.0</td>\n",
       "      <td>0.0</td>\n",
       "      <td>0.0</td>\n",
       "      <td>0</td>\n",
       "      <td>1</td>\n",
       "      <td>2002</td>\n",
       "      <td>11</td>\n",
       "      <td>2023</td>\n",
       "      <td>21</td>\n",
       "      <td>...</td>\n",
       "      <td>0</td>\n",
       "      <td>0</td>\n",
       "      <td>1</td>\n",
       "      <td>0</td>\n",
       "      <td>0</td>\n",
       "      <td>0</td>\n",
       "      <td>0</td>\n",
       "      <td>0</td>\n",
       "      <td>0</td>\n",
       "      <td>1</td>\n",
       "    </tr>\n",
       "    <tr>\n",
       "      <th>4</th>\n",
       "      <td>613.0</td>\n",
       "      <td>0.0</td>\n",
       "      <td>0.0</td>\n",
       "      <td>0.0</td>\n",
       "      <td>1</td>\n",
       "      <td>1</td>\n",
       "      <td>1993</td>\n",
       "      <td>10</td>\n",
       "      <td>2023</td>\n",
       "      <td>30</td>\n",
       "      <td>...</td>\n",
       "      <td>0</td>\n",
       "      <td>0</td>\n",
       "      <td>1</td>\n",
       "      <td>0</td>\n",
       "      <td>0</td>\n",
       "      <td>0</td>\n",
       "      <td>0</td>\n",
       "      <td>0</td>\n",
       "      <td>0</td>\n",
       "      <td>1</td>\n",
       "    </tr>\n",
       "  </tbody>\n",
       "</table>\n",
       "<p>5 rows × 73 columns</p>\n",
       "</div>"
      ],
      "text/plain": [
       "   Tenure  Matric  Degree  Diploma  Female  Sa_citizen  Birthyear  Birthmonth  \\\n",
       "0     0.0     1.0     0.0      0.0       0           1       2002          12   \n",
       "1   979.0     1.0     0.0      0.0       1           1       1989          12   \n",
       "2   339.0     0.0     0.0      0.0       1           1       1989          12   \n",
       "3     0.0     1.0     0.0      0.0       0           1       2002          11   \n",
       "4   613.0     0.0     0.0      0.0       1           1       1993          10   \n",
       "\n",
       "   Year_survey  Age_survey  ...  Home_lang_70_79  Home_lang_80_100  \\\n",
       "0         2022          20  ...                0                 0   \n",
       "1         2023          34  ...                0                 0   \n",
       "2         2023          34  ...                0                 0   \n",
       "3         2023          21  ...                0                 0   \n",
       "4         2023          30  ...                0                 0   \n",
       "\n",
       "   Home_lang_nan  Science_30_39  Science_40_49  Science_50_59  Science_60_69  \\\n",
       "0              1              0              1              0              0   \n",
       "1              1              0              0              0              0   \n",
       "2              1              0              0              0              0   \n",
       "3              1              0              0              0              0   \n",
       "4              1              0              0              0              0   \n",
       "\n",
       "   Science_70_79  Science_80_100  Science_nan  \n",
       "0              0               0            0  \n",
       "1              0               0            1  \n",
       "2              0               0            1  \n",
       "3              0               0            1  \n",
       "4              0               0            1  \n",
       "\n",
       "[5 rows x 73 columns]"
      ]
     },
     "execution_count": 86,
     "metadata": {},
     "output_type": "execute_result"
    }
   ],
   "source": [
    "# clean data\n",
    "test_data = pd.read_csv(\"./clean_test.csv\")\n",
    "test_data = test_data.replace({True: 1, False:0})\n",
    "test_data.head()"
   ]
  },
  {
   "cell_type": "code",
   "execution_count": 87,
   "metadata": {},
   "outputs": [
    {
     "data": {
      "text/html": [
       "<div>\n",
       "<style scoped>\n",
       "    .dataframe tbody tr th:only-of-type {\n",
       "        vertical-align: middle;\n",
       "    }\n",
       "\n",
       "    .dataframe tbody tr th {\n",
       "        vertical-align: top;\n",
       "    }\n",
       "\n",
       "    .dataframe thead th {\n",
       "        text-align: right;\n",
       "    }\n",
       "</style>\n",
       "<table border=\"1\" class=\"dataframe\">\n",
       "  <thead>\n",
       "    <tr style=\"text-align: right;\">\n",
       "      <th></th>\n",
       "      <th>Tenure</th>\n",
       "      <th>Matric</th>\n",
       "      <th>Degree</th>\n",
       "      <th>Diploma</th>\n",
       "      <th>Female</th>\n",
       "      <th>Sa_citizen</th>\n",
       "      <th>Birthyear</th>\n",
       "      <th>Birthmonth</th>\n",
       "      <th>Year_survey</th>\n",
       "      <th>Age_survey</th>\n",
       "      <th>...</th>\n",
       "      <th>Home_lang_70_79</th>\n",
       "      <th>Home_lang_80_100</th>\n",
       "      <th>Home_lang_nan</th>\n",
       "      <th>Science_30_39</th>\n",
       "      <th>Science_40_49</th>\n",
       "      <th>Science_50_59</th>\n",
       "      <th>Science_60_69</th>\n",
       "      <th>Science_70_79</th>\n",
       "      <th>Science_80_100</th>\n",
       "      <th>Science_nan</th>\n",
       "    </tr>\n",
       "  </thead>\n",
       "  <tbody>\n",
       "    <tr>\n",
       "      <th>0</th>\n",
       "      <td>0.0</td>\n",
       "      <td>1.0</td>\n",
       "      <td>0.0</td>\n",
       "      <td>0.0</td>\n",
       "      <td>0</td>\n",
       "      <td>1</td>\n",
       "      <td>2002</td>\n",
       "      <td>12</td>\n",
       "      <td>2022</td>\n",
       "      <td>20</td>\n",
       "      <td>...</td>\n",
       "      <td>0</td>\n",
       "      <td>0</td>\n",
       "      <td>1</td>\n",
       "      <td>0</td>\n",
       "      <td>1</td>\n",
       "      <td>0</td>\n",
       "      <td>0</td>\n",
       "      <td>0</td>\n",
       "      <td>0</td>\n",
       "      <td>0</td>\n",
       "    </tr>\n",
       "    <tr>\n",
       "      <th>1</th>\n",
       "      <td>979.0</td>\n",
       "      <td>1.0</td>\n",
       "      <td>0.0</td>\n",
       "      <td>0.0</td>\n",
       "      <td>1</td>\n",
       "      <td>1</td>\n",
       "      <td>1989</td>\n",
       "      <td>12</td>\n",
       "      <td>2023</td>\n",
       "      <td>34</td>\n",
       "      <td>...</td>\n",
       "      <td>0</td>\n",
       "      <td>0</td>\n",
       "      <td>1</td>\n",
       "      <td>0</td>\n",
       "      <td>0</td>\n",
       "      <td>0</td>\n",
       "      <td>0</td>\n",
       "      <td>0</td>\n",
       "      <td>0</td>\n",
       "      <td>1</td>\n",
       "    </tr>\n",
       "    <tr>\n",
       "      <th>2</th>\n",
       "      <td>339.0</td>\n",
       "      <td>0.0</td>\n",
       "      <td>0.0</td>\n",
       "      <td>0.0</td>\n",
       "      <td>1</td>\n",
       "      <td>1</td>\n",
       "      <td>1989</td>\n",
       "      <td>12</td>\n",
       "      <td>2023</td>\n",
       "      <td>34</td>\n",
       "      <td>...</td>\n",
       "      <td>0</td>\n",
       "      <td>0</td>\n",
       "      <td>1</td>\n",
       "      <td>0</td>\n",
       "      <td>0</td>\n",
       "      <td>0</td>\n",
       "      <td>0</td>\n",
       "      <td>0</td>\n",
       "      <td>0</td>\n",
       "      <td>1</td>\n",
       "    </tr>\n",
       "    <tr>\n",
       "      <th>3</th>\n",
       "      <td>0.0</td>\n",
       "      <td>1.0</td>\n",
       "      <td>0.0</td>\n",
       "      <td>0.0</td>\n",
       "      <td>0</td>\n",
       "      <td>1</td>\n",
       "      <td>2002</td>\n",
       "      <td>11</td>\n",
       "      <td>2023</td>\n",
       "      <td>21</td>\n",
       "      <td>...</td>\n",
       "      <td>0</td>\n",
       "      <td>0</td>\n",
       "      <td>1</td>\n",
       "      <td>0</td>\n",
       "      <td>0</td>\n",
       "      <td>0</td>\n",
       "      <td>0</td>\n",
       "      <td>0</td>\n",
       "      <td>0</td>\n",
       "      <td>1</td>\n",
       "    </tr>\n",
       "    <tr>\n",
       "      <th>4</th>\n",
       "      <td>613.0</td>\n",
       "      <td>0.0</td>\n",
       "      <td>0.0</td>\n",
       "      <td>0.0</td>\n",
       "      <td>1</td>\n",
       "      <td>1</td>\n",
       "      <td>1993</td>\n",
       "      <td>10</td>\n",
       "      <td>2023</td>\n",
       "      <td>30</td>\n",
       "      <td>...</td>\n",
       "      <td>0</td>\n",
       "      <td>0</td>\n",
       "      <td>1</td>\n",
       "      <td>0</td>\n",
       "      <td>0</td>\n",
       "      <td>0</td>\n",
       "      <td>0</td>\n",
       "      <td>0</td>\n",
       "      <td>0</td>\n",
       "      <td>1</td>\n",
       "    </tr>\n",
       "  </tbody>\n",
       "</table>\n",
       "<p>5 rows × 69 columns</p>\n",
       "</div>"
      ],
      "text/plain": [
       "   Tenure  Matric  Degree  Diploma  Female  Sa_citizen  Birthyear  Birthmonth  \\\n",
       "0     0.0     1.0     0.0      0.0       0           1       2002          12   \n",
       "1   979.0     1.0     0.0      0.0       1           1       1989          12   \n",
       "2   339.0     0.0     0.0      0.0       1           1       1989          12   \n",
       "3     0.0     1.0     0.0      0.0       0           1       2002          11   \n",
       "4   613.0     0.0     0.0      0.0       1           1       1993          10   \n",
       "\n",
       "   Year_survey  Age_survey  ...  Home_lang_70_79  Home_lang_80_100  \\\n",
       "0         2022          20  ...                0                 0   \n",
       "1         2023          34  ...                0                 0   \n",
       "2         2023          34  ...                0                 0   \n",
       "3         2023          21  ...                0                 0   \n",
       "4         2023          30  ...                0                 0   \n",
       "\n",
       "   Home_lang_nan  Science_30_39  Science_40_49  Science_50_59  Science_60_69  \\\n",
       "0              1              0              1              0              0   \n",
       "1              1              0              0              0              0   \n",
       "2              1              0              0              0              0   \n",
       "3              1              0              0              0              0   \n",
       "4              1              0              0              0              0   \n",
       "\n",
       "   Science_70_79  Science_80_100  Science_nan  \n",
       "0              0               0            0  \n",
       "1              0               0            1  \n",
       "2              0               0            1  \n",
       "3              0               0            1  \n",
       "4              0               0            1  \n",
       "\n",
       "[5 rows x 69 columns]"
      ]
     },
     "execution_count": 87,
     "metadata": {},
     "output_type": "execute_result"
    }
   ],
   "source": [
    "test_data = test_data.drop(['Round_nan', 'Status_nan', 'Geography_nan', 'Province_nan'], axis=1)\n",
    "test_data.head()"
   ]
  },
  {
   "cell_type": "code",
   "execution_count": 88,
   "metadata": {},
   "outputs": [],
   "source": [
    "# test_data = test_data.iloc[:, :].apply(min_max_scaling)\n",
    "# test_data.head()"
   ]
  },
  {
   "cell_type": "markdown",
   "metadata": {},
   "source": [
    "## Models"
   ]
  },
  {
   "cell_type": "markdown",
   "metadata": {},
   "source": [
    "#### Naive Bayes Gaussian"
   ]
  },
  {
   "cell_type": "code",
   "execution_count": 89,
   "metadata": {},
   "outputs": [],
   "source": [
    "# # NB\n",
    "# grid_search_params = {\"var_smoothing\": [1e-9, 1e-8, 1e-7, 1e-6, 1e-5]}\n",
    "\n",
    "# cls_gnb = GaussianNB()\n",
    "\n",
    "# grid_search = GridSearchCV(\n",
    "#     estimator=cls_gnb, param_grid=grid_search_params, cv=10, scoring=\"accuracy\"\n",
    "# )\n",
    "\n",
    "# grid_search.fit(x_train, y_train)\n",
    "\n",
    "# print(f\"{grid_search.best_params_}\\n\\n\")\n",
    "# print(f\"{grid_search.best_estimator_}\")"
   ]
  },
  {
   "cell_type": "code",
   "execution_count": 90,
   "metadata": {},
   "outputs": [],
   "source": [
    "# # perform cross val on data\n",
    "# model = GaussianNB(var_smoothing=1e-07)\n",
    "# cv = StratifiedKFold(random_state=42, n_splits=10, shuffle=True)\n",
    "# scores = cross_val_score(model, x_train, y_train, cv=cv, scoring='accuracy')\n",
    "# print(f\"mean score: {scores.mean()}\")"
   ]
  },
  {
   "cell_type": "code",
   "execution_count": 91,
   "metadata": {},
   "outputs": [],
   "source": [
    "# model.fit(x_train, y_train)"
   ]
  },
  {
   "cell_type": "markdown",
   "metadata": {},
   "source": [
    "#### SVM - SVC - Slow"
   ]
  },
  {
   "cell_type": "code",
   "execution_count": 92,
   "metadata": {},
   "outputs": [],
   "source": [
    "# # svc takes times\n",
    "# # \"C\": [0.08, 0.05, 0.03, 0.01, 0.1, 1, 3, 5, 7, 10],\n",
    "# grid_search_params = {\n",
    "#     \"C\": [0.01, 0.05, 0.1, 1, 5, 10],\n",
    "#     \"kernel\": [\"linear\", \"rbf\", \"poly\", \"sigmoid\"],\n",
    "#     \"degree\": [2, 3, 4, 5],\n",
    "#     \"gamma\": [\"scale\", \"auto\"] + [0.001, 0.01, 0.1, 1],\n",
    "# }\n",
    "\n",
    "# cls_svc = SVC()\n",
    "\n",
    "# grid_search = GridSearchCV(\n",
    "#     estimator=cls_svc, param_grid=grid_search_params, cv=5, scoring=\"accuracy\"\n",
    "# )\n",
    "\n",
    "# grid_search.fit(x_train, y_train)\n",
    "\n",
    "# print(f\"{grid_search.best_params_}\\n\\n\")\n",
    "# print(f\"{grid_search.best_estimator_}\")"
   ]
  },
  {
   "cell_type": "code",
   "execution_count": 93,
   "metadata": {},
   "outputs": [],
   "source": [
    "# # perform cross val on data\n",
    "# model = SVC()\n",
    "# cv = StratifiedKFold(random_state=42, n_splits=10, shuffle=True)\n",
    "# scores = cross_val_score(model, x_train, y_train, cv=cv, scoring='accuracy')\n",
    "# print(f\"mean score: {scores.mean()}\")"
   ]
  },
  {
   "cell_type": "code",
   "execution_count": 94,
   "metadata": {},
   "outputs": [],
   "source": [
    "# model.fit(x_train, y_train)"
   ]
  },
  {
   "cell_type": "markdown",
   "metadata": {},
   "source": [
    "#### Deep Learning"
   ]
  },
  {
   "cell_type": "code",
   "execution_count": 95,
   "metadata": {},
   "outputs": [],
   "source": [
    "# # x_train.reshape(x_train.shape[0], 23, 3)\n",
    "# x_train = np.array(x_train).reshape(x_train.shape[0], 23, 3)"
   ]
  },
  {
   "cell_type": "code",
   "execution_count": 96,
   "metadata": {},
   "outputs": [],
   "source": [
    "# # remove province nan\n",
    "# dl_data = np.array( train.drop('Province_nan', axis=1)).astype(np.float32)\n",
    "# dl_data = dl_data.reshape(dl_data.shape[0], 9, -1 )\n",
    "# dl_data.shape "
   ]
  },
  {
   "cell_type": "code",
   "execution_count": 97,
   "metadata": {},
   "outputs": [],
   "source": [
    "# x_test = np.array(x_test).reshape(x_test.shape[0], 23, 3)\n",
    "# y_test = np.asarray(y_test).astype('int').reshape((-1,1))\n",
    "# x_test.shape, y_test.shape"
   ]
  },
  {
   "cell_type": "code",
   "execution_count": 98,
   "metadata": {},
   "outputs": [],
   "source": [
    "# y_train = np.array(y_train)\n",
    "# y_train"
   ]
  },
  {
   "cell_type": "code",
   "execution_count": 99,
   "metadata": {},
   "outputs": [],
   "source": [
    "# input_shape = x_train.shape[1: ]\n",
    "\n",
    "# input_layer = Input(shape=input_shape)\n",
    "\n",
    "# # units = [256, 128, 64, 32]\n",
    "# # x = Bidirectional(LSTM(128, return_sequences=True, kernel_regularizer=(l2(0.01)) ))(input_layer)\n",
    "# x = LSTM(128, return_sequences=True, kernel_regularizer=(l2(0.01)))(input_layer)\n",
    "# # x = BatchNormalization()(x)\n",
    "# x = Activation(\"relu\")(x)\n",
    "# x = Dropout(0.5)(x)\n",
    "# #\n",
    "# # x = Bidirectional(LSTM(64, return_sequences=True, kernel_regularizer=(l2(0.01))))(x)\n",
    "# # # x = LSTM(32, return_sequences=True, kernel_regularizer=(l2(0.01)))(x)\n",
    "# # # x = BatchNormalization()(x)\n",
    "# # x = Activation(\"relu\")(x)\n",
    "# # x = Dropout(0.5)(x)\n",
    "# #\n",
    "# # x = Bidirectional(LSTM(16, return_sequences=True, kernel_regularizer=(l2(0.01))))(x)\n",
    "# # # x = LSTM(16, return_sequences=True, kernel_regularizer=(l2(0.01)))(x)\n",
    "# # # x = BatchNormalization()(x)\n",
    "# # x = Activation(\"relu\")(x)\n",
    "# # x = Dropout(0.5)(x)\n",
    "\n",
    "# output_layer = Dense(1, activation=\"sigmoid\")(x)\n",
    "\n",
    "# model = Model(inputs=input_layer, outputs=output_layer)\n",
    "\n",
    "# #\n",
    "# learning_rate = 0.01\n",
    "# optim_ = Adam(learning_rate=learning_rate)\n",
    "\n",
    "# #\n",
    "\n",
    "# model.compile(optimizer=optim_, loss=\"binary_crossentropy\", metrics=[\"accuracy\"],)\n",
    "\n",
    "# model.summary()"
   ]
  },
  {
   "cell_type": "code",
   "execution_count": 100,
   "metadata": {},
   "outputs": [],
   "source": [
    "# y_train = np.asarray(y_train).astype('int').reshape((-1,1))\n",
    "# x_train.shape, y_train.shape"
   ]
  },
  {
   "cell_type": "code",
   "execution_count": 101,
   "metadata": {},
   "outputs": [],
   "source": [
    "# epochs= 10\n",
    "# batch_size = 32\n",
    "# class_weights = {0: 1.0, 1: 1.5}\n",
    "# model.fit(x_train, y_train, batch_size=batch_size, epochs=epochs, validation_split=0.2)"
   ]
  },
  {
   "cell_type": "code",
   "execution_count": 102,
   "metadata": {},
   "outputs": [],
   "source": [
    "# # remove province nan\n",
    "# dl_test_data = np.array( test_data.drop('Province_nan', axis=1)).astype(np.float32)\n",
    "# dl_test_data = dl_test_data.reshape(dl_test_data.shape[0], 9, -1 )\n",
    "# dl_test_data.shape\n",
    "\n",
    "# y_pred = model.predict(dl_test_data)"
   ]
  },
  {
   "cell_type": "code",
   "execution_count": 103,
   "metadata": {},
   "outputs": [],
   "source": [
    "# # y_pred = np.squeeze(y_pred)\n",
    "# # predictions= ( y_pred >= .5).astype('int')[:,0]\n",
    "# # predictions\n",
    "# test_data = np.array(test_data).reshape(test_data.shape[0], 23, 3)\n",
    "# test_data.shape"
   ]
  },
  {
   "cell_type": "markdown",
   "metadata": {},
   "source": [
    "#### Multinomial NB"
   ]
  },
  {
   "cell_type": "code",
   "execution_count": 104,
   "metadata": {},
   "outputs": [],
   "source": [
    "# # NB\n",
    "# grid_search_params = {\n",
    "#     \"alpha\": [0.1, 0.5, 1.0, 2.0],\n",
    "#     \"fit_prior\": [True, False],\n",
    "# }\n",
    "\n",
    "# cls_mnb = MultinomialNB()\n",
    "\n",
    "# grid_search = GridSearchCV(\n",
    "#     estimator=cls_mnb, param_grid=grid_search_params, cv=30, scoring=\"accuracy\"\n",
    "# )\n",
    "\n",
    "# grid_search.fit(x_train, y_train)\n",
    "\n",
    "# print(f\"Best Params: {grid_search.best_params_}\")\n",
    "# print(f\"Best Estimator: {grid_search.best_estimator_}\")\n",
    "# print(f\"Best Score: {grid_search.best_score_}\")"
   ]
  },
  {
   "cell_type": "code",
   "execution_count": 105,
   "metadata": {},
   "outputs": [],
   "source": [
    "# model = MultinomialNB(alpha=0.1, fit_prior=True )\n",
    "# model.fit(x_train, y_train)"
   ]
  },
  {
   "cell_type": "code",
   "execution_count": 106,
   "metadata": {},
   "outputs": [],
   "source": [
    "# predictions = cls_mnb.predict(test_data)\n",
    "# predictions"
   ]
  },
  {
   "cell_type": "markdown",
   "metadata": {},
   "source": [
    "#### Random Forest Classifier"
   ]
  },
  {
   "cell_type": "code",
   "execution_count": 107,
   "metadata": {},
   "outputs": [],
   "source": [
    "# grid_search_params = {\n",
    "#     'n_estimators': [50, 100, 200],  # Number of trees in the forest\n",
    "#     'max_depth': [None, 10, 20, 30],  # Maximum depth of each tree\n",
    "#     'min_samples_split': [2, 5, 10],  # Minimum number of samples required to split an internal node\n",
    "#     'min_samples_leaf': [1, 2, 4],  # Minimum number of samples required to be at a leaf node\n",
    "#     'max_features': ['auto', 'sqrt', 'log2'],  # Number of features to consider for the best split\n",
    "# }\n",
    "\n",
    "# cls_rf = RandomForestClassifier(random_state=42)\n",
    "\n",
    "# grid_search = GridSearchCV(\n",
    "#     estimator=cls_rf, param_grid=grid_search_params, cv=10, scoring=\"accuracy\"\n",
    "# )\n",
    "\n",
    "# grid_search.fit(x_train, y_train)\n",
    "\n",
    "# print(f\"{grid_search.best_params_}\\n\\n\")\n",
    "# print(f\"{grid_search.best_estimator_}\")"
   ]
  },
  {
   "cell_type": "code",
   "execution_count": 108,
   "metadata": {},
   "outputs": [],
   "source": [
    "# # model = RandomForestClassifier(\n",
    "# #     random_state=42,\n",
    "# #     max_features=\"sqrt\",\n",
    "# #     max_depth=None,\n",
    "# #     min_samples_leaf=1,\n",
    "# #     min_samples_split=5,\n",
    "# #     n_estimators=200,\n",
    "# # )\n",
    "\n",
    "# model = RandomForestClassifier(min_samples_split=5, n_estimators=200, random_state=42)\n",
    "\n",
    "# cv = StratifiedKFold(random_state=42, n_splits=10, shuffle=True)\n",
    "\n",
    "# scores = cross_val_score(model, x_train, y_train, cv=cv, scoring=\"accuracy\")\n",
    "\n",
    "# print(f\"mean score: {scores.mean()}\")"
   ]
  },
  {
   "cell_type": "code",
   "execution_count": 109,
   "metadata": {},
   "outputs": [],
   "source": [
    "# model.fit(x_train, y_train)"
   ]
  },
  {
   "cell_type": "markdown",
   "metadata": {},
   "source": [
    "#### KNN"
   ]
  },
  {
   "cell_type": "code",
   "execution_count": 110,
   "metadata": {},
   "outputs": [
    {
     "name": "stdout",
     "output_type": "stream",
     "text": [
      "{'n_neighbors': 3, 'p': 1, 'weights': 'distance'}\n",
      "\n",
      "\n",
      "KNeighborsClassifier(n_neighbors=3, p=1, weights='distance')\n"
     ]
    }
   ],
   "source": [
    "grid_search_params = {\n",
    "    \"n_neighbors\": [3, 5, 7, 9],\n",
    "    \"weights\": [\"uniform\", \"distance\"],\n",
    "    \"p\": [1, 2],\n",
    "    # \"algorithm\": [\"auto\", \"ball_tree\", \"kd_tree\", \"brute\"],\n",
    "}\n",
    "\n",
    "cls_knn = KNeighborsClassifier()\n",
    "\n",
    "grid_search = GridSearchCV(\n",
    "    estimator=cls_knn, param_grid=grid_search_params, cv=10, scoring=\"accuracy\"\n",
    ")\n",
    "\n",
    "grid_search.fit(x_train, y_train)\n",
    "\n",
    "print(f\"{grid_search.best_params_}\\n\\n\")\n",
    "print(f\"{grid_search.best_estimator_}\")"
   ]
  },
  {
   "cell_type": "code",
   "execution_count": 111,
   "metadata": {},
   "outputs": [
    {
     "name": "stdout",
     "output_type": "stream",
     "text": [
      "mean score: 0.8103236409849695\n"
     ]
    }
   ],
   "source": [
    "model = KNeighborsClassifier( n_neighbors=3, weights=\"distance\", p=1 )\n",
    "# model = KNeighborsClassifier(n_neighbors=3, p=1, weights='distance')\n",
    "\n",
    "cv = StratifiedKFold(random_state=42, n_splits=10, shuffle=True)\n",
    "\n",
    "scores = cross_val_score(model, x_train, y_train, cv=cv, scoring='accuracy')\n",
    "\n",
    "print(f\"mean score: {scores.mean()}\")"
   ]
  },
  {
   "cell_type": "code",
   "execution_count": 112,
   "metadata": {},
   "outputs": [
    {
     "data": {
      "text/html": [
       "<style>#sk-container-id-3 {color: black;}#sk-container-id-3 pre{padding: 0;}#sk-container-id-3 div.sk-toggleable {background-color: white;}#sk-container-id-3 label.sk-toggleable__label {cursor: pointer;display: block;width: 100%;margin-bottom: 0;padding: 0.3em;box-sizing: border-box;text-align: center;}#sk-container-id-3 label.sk-toggleable__label-arrow:before {content: \"▸\";float: left;margin-right: 0.25em;color: #696969;}#sk-container-id-3 label.sk-toggleable__label-arrow:hover:before {color: black;}#sk-container-id-3 div.sk-estimator:hover label.sk-toggleable__label-arrow:before {color: black;}#sk-container-id-3 div.sk-toggleable__content {max-height: 0;max-width: 0;overflow: hidden;text-align: left;background-color: #f0f8ff;}#sk-container-id-3 div.sk-toggleable__content pre {margin: 0.2em;color: black;border-radius: 0.25em;background-color: #f0f8ff;}#sk-container-id-3 input.sk-toggleable__control:checked~div.sk-toggleable__content {max-height: 200px;max-width: 100%;overflow: auto;}#sk-container-id-3 input.sk-toggleable__control:checked~label.sk-toggleable__label-arrow:before {content: \"▾\";}#sk-container-id-3 div.sk-estimator input.sk-toggleable__control:checked~label.sk-toggleable__label {background-color: #d4ebff;}#sk-container-id-3 div.sk-label input.sk-toggleable__control:checked~label.sk-toggleable__label {background-color: #d4ebff;}#sk-container-id-3 input.sk-hidden--visually {border: 0;clip: rect(1px 1px 1px 1px);clip: rect(1px, 1px, 1px, 1px);height: 1px;margin: -1px;overflow: hidden;padding: 0;position: absolute;width: 1px;}#sk-container-id-3 div.sk-estimator {font-family: monospace;background-color: #f0f8ff;border: 1px dotted black;border-radius: 0.25em;box-sizing: border-box;margin-bottom: 0.5em;}#sk-container-id-3 div.sk-estimator:hover {background-color: #d4ebff;}#sk-container-id-3 div.sk-parallel-item::after {content: \"\";width: 100%;border-bottom: 1px solid gray;flex-grow: 1;}#sk-container-id-3 div.sk-label:hover label.sk-toggleable__label {background-color: #d4ebff;}#sk-container-id-3 div.sk-serial::before {content: \"\";position: absolute;border-left: 1px solid gray;box-sizing: border-box;top: 0;bottom: 0;left: 50%;z-index: 0;}#sk-container-id-3 div.sk-serial {display: flex;flex-direction: column;align-items: center;background-color: white;padding-right: 0.2em;padding-left: 0.2em;position: relative;}#sk-container-id-3 div.sk-item {position: relative;z-index: 1;}#sk-container-id-3 div.sk-parallel {display: flex;align-items: stretch;justify-content: center;background-color: white;position: relative;}#sk-container-id-3 div.sk-item::before, #sk-container-id-3 div.sk-parallel-item::before {content: \"\";position: absolute;border-left: 1px solid gray;box-sizing: border-box;top: 0;bottom: 0;left: 50%;z-index: -1;}#sk-container-id-3 div.sk-parallel-item {display: flex;flex-direction: column;z-index: 1;position: relative;background-color: white;}#sk-container-id-3 div.sk-parallel-item:first-child::after {align-self: flex-end;width: 50%;}#sk-container-id-3 div.sk-parallel-item:last-child::after {align-self: flex-start;width: 50%;}#sk-container-id-3 div.sk-parallel-item:only-child::after {width: 0;}#sk-container-id-3 div.sk-dashed-wrapped {border: 1px dashed gray;margin: 0 0.4em 0.5em 0.4em;box-sizing: border-box;padding-bottom: 0.4em;background-color: white;}#sk-container-id-3 div.sk-label label {font-family: monospace;font-weight: bold;display: inline-block;line-height: 1.2em;}#sk-container-id-3 div.sk-label-container {text-align: center;}#sk-container-id-3 div.sk-container {/* jupyter's `normalize.less` sets `[hidden] { display: none; }` but bootstrap.min.css set `[hidden] { display: none !important; }` so we also need the `!important` here to be able to override the default hidden behavior on the sphinx rendered scikit-learn.org. See: https://github.com/scikit-learn/scikit-learn/issues/21755 */display: inline-block !important;position: relative;}#sk-container-id-3 div.sk-text-repr-fallback {display: none;}</style><div id=\"sk-container-id-3\" class=\"sk-top-container\"><div class=\"sk-text-repr-fallback\"><pre>KNeighborsClassifier(n_neighbors=3, p=1, weights=&#x27;distance&#x27;)</pre><b>In a Jupyter environment, please rerun this cell to show the HTML representation or trust the notebook. <br />On GitHub, the HTML representation is unable to render, please try loading this page with nbviewer.org.</b></div><div class=\"sk-container\" hidden><div class=\"sk-item\"><div class=\"sk-estimator sk-toggleable\"><input class=\"sk-toggleable__control sk-hidden--visually\" id=\"sk-estimator-id-3\" type=\"checkbox\" checked><label for=\"sk-estimator-id-3\" class=\"sk-toggleable__label sk-toggleable__label-arrow\">KNeighborsClassifier</label><div class=\"sk-toggleable__content\"><pre>KNeighborsClassifier(n_neighbors=3, p=1, weights=&#x27;distance&#x27;)</pre></div></div></div></div></div>"
      ],
      "text/plain": [
       "KNeighborsClassifier(n_neighbors=3, p=1, weights='distance')"
      ]
     },
     "execution_count": 112,
     "metadata": {},
     "output_type": "execute_result"
    }
   ],
   "source": [
    "model.fit(x_train, y_train)"
   ]
  },
  {
   "cell_type": "markdown",
   "metadata": {},
   "source": [
    "#### DecisionTreeClassifier"
   ]
  },
  {
   "cell_type": "code",
   "execution_count": 113,
   "metadata": {},
   "outputs": [],
   "source": [
    "# grid_search_params = {\n",
    "#     \"criterion\": [\"gini\", \"entropy\"],\n",
    "#     \"max_depth\": [None, 5, 10, 15, 20],\n",
    "#     \"min_samples_split\": [2, 5, 10],\n",
    "#     \"min_samples_leaf\": [1, 2, 4],\n",
    "# }\n",
    "\n",
    "# cls_dt = DecisionTreeClassifier()\n",
    "\n",
    "# grid_search = GridSearchCV(\n",
    "#     estimator=cls_dt, param_grid=grid_search_params, cv=10, scoring=\"accuracy\"\n",
    "# )\n",
    "\n",
    "# grid_search.fit(train, targets)\n",
    "\n",
    "# print(f\"{grid_search.best_params_}\\n\\n\")\n",
    "# print(f\"{grid_search.best_estimator_}\")"
   ]
  },
  {
   "cell_type": "code",
   "execution_count": 114,
   "metadata": {},
   "outputs": [],
   "source": [
    "# dt = DecisionTreeClassifier(\n",
    "#     criterion=\"gini\", max_depth=10, min_samples_leaf=4, min_samples_split=5\n",
    "# )\n",
    "# # dt = DecisionTreeClassifier(max_depth=10, min_samples_leaf=4, min_samples_split=5)\n",
    "\n",
    "# cv = StratifiedKFold(random_state=42, n_splits=10, shuffle=True)\n",
    "\n",
    "# scores = cross_val_score(dt, train, targets, cv=cv, scoring=\"accuracy\")\n",
    "\n",
    "# print(f\"mean score: {scores.mean()}\")"
   ]
  },
  {
   "cell_type": "code",
   "execution_count": 115,
   "metadata": {},
   "outputs": [],
   "source": [
    "# dt.fit(train, targets)\n",
    "# predictions = dt.predict(test_data)\n",
    "# predictions"
   ]
  },
  {
   "cell_type": "markdown",
   "metadata": {},
   "source": [
    "#### SGDClassifier"
   ]
  },
  {
   "cell_type": "code",
   "execution_count": 116,
   "metadata": {},
   "outputs": [],
   "source": [
    "# grid_search_params = {\n",
    "#     \"loss\": [\"hinge\", \"log\", \"modified_huber\"],\n",
    "#     \"penalty\": [\"none\", \"l1\", \"l2\", \"elasticnet\"],\n",
    "#     \"alpha\": [0.0001, 0.001, 0.01, 0.1],\n",
    "#     \"max_iter\": [1000, 2000, 3000],\n",
    "# }\n",
    "\n",
    "# cls_sdg = SGDClassifier()\n",
    "\n",
    "# grid_search = GridSearchCV(\n",
    "#     estimator=cls_sdg, param_grid=grid_search_params, cv=10, scoring=\"accuracy\"\n",
    "# )\n",
    "\n",
    "# grid_search.fit(train, targets)\n",
    "\n",
    "# # # print(f\"{grid_search.best_params_}\\n\\n\")\n",
    "# # print(f\"{grid_search.best_estimator_}\")"
   ]
  },
  {
   "cell_type": "code",
   "execution_count": 117,
   "metadata": {},
   "outputs": [],
   "source": [
    "# sgd = SGDClassifier(alpha=0.001, loss='modified_huber', max_iter=3000,penalty='elasticnet')\n",
    "\n",
    "# cv = StratifiedKFold(random_state=42, n_splits=10, shuffle=True)\n",
    "\n",
    "# scores = cross_val_score(sgd, train, targets, cv=cv, scoring='accuracy')\n",
    "\n",
    "# print(f\"mean score: {scores.mean()}\")"
   ]
  },
  {
   "cell_type": "code",
   "execution_count": 118,
   "metadata": {},
   "outputs": [],
   "source": [
    "# sgd.fit(train, targets)\n",
    "# predictions = sgd.predict(test_data)\n",
    "# predictions"
   ]
  },
  {
   "cell_type": "markdown",
   "metadata": {},
   "source": [
    "#### DecisionTreeRegressor"
   ]
  },
  {
   "cell_type": "code",
   "execution_count": 119,
   "metadata": {},
   "outputs": [],
   "source": [
    "# grid_search_params = {\n",
    "#     \"max_depth\": [None, 10, 20, 30],\n",
    "#     \"min_samples_split\": [2, 5, 10],\n",
    "#     \"min_samples_leaf\": [1, 2, 4],\n",
    "# }\n",
    "\n",
    "# cls_dt_reg = DecisionTreeRegressor()\n",
    "\n",
    "# grid_search = GridSearchCV(\n",
    "#     estimator=cls_dt_reg, param_grid=grid_search_params, cv=10, scoring=\"accuracy\"\n",
    "# )\n",
    "\n",
    "# grid_search.fit(train, targets)\n",
    "\n",
    "# print(f\"{grid_search.best_params_}\\n\\n\")\n",
    "# print(f\"{grid_search.best_estimator_}\")"
   ]
  },
  {
   "cell_type": "code",
   "execution_count": 120,
   "metadata": {},
   "outputs": [],
   "source": [
    "# dt_reg = DecisionTreeRegressor()\n",
    "# # dt = DecisionTreeClassifier(max_depth=10, min_samples_leaf=4, min_samples_split=5)\n",
    "\n",
    "# cv = StratifiedKFold(random_state=42, n_splits=10, shuffle=True)\n",
    "\n",
    "# scores = cross_val_score(dt_reg, train, targets, cv=cv, scoring=\"accuracy\")\n",
    "\n",
    "# print(f\"mean score: {scores.mean()}\")"
   ]
  },
  {
   "cell_type": "code",
   "execution_count": 121,
   "metadata": {},
   "outputs": [],
   "source": [
    "# dt.fit(train, targets)\n",
    "# predictions = dt.predict(test_data)\n",
    "# predictions"
   ]
  },
  {
   "cell_type": "markdown",
   "metadata": {},
   "source": [
    "#### MLPClassifier"
   ]
  },
  {
   "cell_type": "code",
   "execution_count": 122,
   "metadata": {},
   "outputs": [],
   "source": [
    "# grid_search_params = {\n",
    "#     \"hidden_layer_sizes\": [(64,), (128,), (256,)],\n",
    "#     \"activation\": [\"relu\", \"tanh\"],\n",
    "#     \"alpha\": [0.0001, 0.001, 0.01],\n",
    "# }\n",
    "\n",
    "\n",
    "# cls_mlp = MLPClassifier()\n",
    "\n",
    "# grid_search = GridSearchCV(\n",
    "#     estimator=cls_mlp, param_grid=grid_search_params, cv=10, scoring=\"accuracy\"\n",
    "# )\n",
    "\n",
    "# grid_search.fit(train, targets)\n",
    "\n",
    "# print(f\"{grid_search.best_params_}\\n\\n\")\n",
    "# print(f\"{grid_search.best_estimator_}\")"
   ]
  },
  {
   "cell_type": "code",
   "execution_count": 123,
   "metadata": {},
   "outputs": [],
   "source": [
    "# # mlp = MLPClassifier(alpha=0.01, hidden_layer_sizes=(64,))\n",
    "# mlp = MLPClassifier(activation='relu', alpha=0.0001, hidden_layer_sizes=(256,), random_state=1)\n",
    "# # mlp = MLPClassifier()\n",
    "\n",
    "# cv = StratifiedKFold(random_state=42, n_splits=10, shuffle=True)\n",
    "\n",
    "# scores = cross_val_score(mlp, train, targets, cv=cv, scoring=\"accuracy\")\n",
    "\n",
    "# print(f\"mean score: {scores.mean()}\")"
   ]
  },
  {
   "cell_type": "code",
   "execution_count": 124,
   "metadata": {},
   "outputs": [],
   "source": [
    "# mlp.fit(train, targets)\n",
    "# predictions = mlp.predict(test_data)\n",
    "# predictions"
   ]
  },
  {
   "cell_type": "markdown",
   "metadata": {},
   "source": [
    "## Model Evaluation"
   ]
  },
  {
   "cell_type": "code",
   "execution_count": 125,
   "metadata": {},
   "outputs": [],
   "source": [
    "y_preds = model.predict(x_test)"
   ]
  },
  {
   "cell_type": "code",
   "execution_count": 126,
   "metadata": {},
   "outputs": [
    {
     "data": {
      "text/plain": [
       "((1143,), (1143,))"
      ]
     },
     "execution_count": 126,
     "metadata": {},
     "output_type": "execute_result"
    }
   ],
   "source": [
    "y_preds.shape, y_test.shape"
   ]
  },
  {
   "cell_type": "code",
   "execution_count": 127,
   "metadata": {},
   "outputs": [
    {
     "data": {
      "text/plain": [
       "0.8387096774193549"
      ]
     },
     "execution_count": 127,
     "metadata": {},
     "output_type": "execute_result"
    }
   ],
   "source": [
    "f1_score(y_test, y_preds)"
   ]
  },
  {
   "cell_type": "code",
   "execution_count": 128,
   "metadata": {},
   "outputs": [
    {
     "name": "stdout",
     "output_type": "stream",
     "text": [
      "              precision    recall  f1-score   support\n",
      "\n",
      "           0       0.92      0.72      0.81       584\n",
      "           1       0.76      0.93      0.84       559\n",
      "\n",
      "    accuracy                           0.83      1143\n",
      "   macro avg       0.84      0.83      0.82      1143\n",
      "weighted avg       0.84      0.83      0.82      1143\n",
      "\n"
     ]
    }
   ],
   "source": [
    "print(classification_report(y_test, y_preds, zero_division=1))"
   ]
  },
  {
   "cell_type": "code",
   "execution_count": 129,
   "metadata": {},
   "outputs": [
    {
     "data": {
      "text/plain": [
       "array([[423, 161],\n",
       "       [ 39, 520]])"
      ]
     },
     "execution_count": 129,
     "metadata": {},
     "output_type": "execute_result"
    }
   ],
   "source": [
    "cm = confusion_matrix(y_test, y_preds)\n",
    "cm"
   ]
  },
  {
   "cell_type": "code",
   "execution_count": 130,
   "metadata": {},
   "outputs": [
    {
     "data": {
      "image/png": "[encoded data removed]",
      "text/plain": [
       "<Figure size 500x300 with 2 Axes>"
      ]
     },
     "metadata": {},
     "output_type": "display_data"
    }
   ],
   "source": [
    "plt.figure(figsize=(5, 3))\n",
    "sns.heatmap(cm, annot=True, fmt=\"d\", cmap=\"Blues\")\n",
    "plt.xlabel(\"Predicted\")\n",
    "plt.ylabel(\"Actual\")\n",
    "plt.title(\"Confusion Matrix\")\n",
    "plt.show()"
   ]
  },
  {
   "cell_type": "markdown",
   "metadata": {},
   "source": [
    "## Save to file"
   ]
  },
  {
   "cell_type": "code",
   "execution_count": 131,
   "metadata": {},
   "outputs": [],
   "source": [
    "# test_data.shape"
   ]
  },
  {
   "cell_type": "code",
   "execution_count": 132,
   "metadata": {},
   "outputs": [
    {
     "data": {
      "text/plain": [
       "array([1, 1, 0, ..., 0, 1, 0])"
      ]
     },
     "execution_count": 132,
     "metadata": {},
     "output_type": "execute_result"
    }
   ],
   "source": [
    "predictions = model.predict(test_data)\n",
    "# predictions = ( predictions >= .5).astype('int')[:,0]\n",
    "# predictions = predictions.flatten()\n",
    "predictions"
   ]
  },
  {
   "cell_type": "code",
   "execution_count": 133,
   "metadata": {},
   "outputs": [
    {
     "data": {
      "text/html": [
       "<div>\n",
       "<style scoped>\n",
       "    .dataframe tbody tr th:only-of-type {\n",
       "        vertical-align: middle;\n",
       "    }\n",
       "\n",
       "    .dataframe tbody tr th {\n",
       "        vertical-align: top;\n",
       "    }\n",
       "\n",
       "    .dataframe thead th {\n",
       "        text-align: right;\n",
       "    }\n",
       "</style>\n",
       "<table border=\"1\" class=\"dataframe\">\n",
       "  <thead>\n",
       "    <tr style=\"text-align: right;\">\n",
       "      <th></th>\n",
       "      <th>Person_id</th>\n",
       "      <th>Target</th>\n",
       "    </tr>\n",
       "  </thead>\n",
       "  <tbody>\n",
       "    <tr>\n",
       "      <th>0</th>\n",
       "      <td>Id_r90136smvl</td>\n",
       "      <td></td>\n",
       "    </tr>\n",
       "    <tr>\n",
       "      <th>1</th>\n",
       "      <td>Id_wawdqhmu6s</td>\n",
       "      <td></td>\n",
       "    </tr>\n",
       "    <tr>\n",
       "      <th>2</th>\n",
       "      <td>Id_ap2czff2bu</td>\n",
       "      <td></td>\n",
       "    </tr>\n",
       "    <tr>\n",
       "      <th>3</th>\n",
       "      <td>Id_uhgink7iha</td>\n",
       "      <td></td>\n",
       "    </tr>\n",
       "    <tr>\n",
       "      <th>4</th>\n",
       "      <td>Id_5j6bzk3k81</td>\n",
       "      <td></td>\n",
       "    </tr>\n",
       "  </tbody>\n",
       "</table>\n",
       "</div>"
      ],
      "text/plain": [
       "       Person_id Target\n",
       "0  Id_r90136smvl       \n",
       "1  Id_wawdqhmu6s       \n",
       "2  Id_ap2czff2bu       \n",
       "3  Id_uhgink7iha       \n",
       "4  Id_5j6bzk3k81       "
      ]
     },
     "execution_count": 133,
     "metadata": {},
     "output_type": "execute_result"
    }
   ],
   "source": [
    "# # unclean data\n",
    "submit_sample = pd.read_csv(\"./SampleSubmission.csv\")\n",
    "submit_sample.head()"
   ]
  },
  {
   "cell_type": "code",
   "execution_count": 134,
   "metadata": {},
   "outputs": [
    {
     "data": {
      "text/html": [
       "<div>\n",
       "<style scoped>\n",
       "    .dataframe tbody tr th:only-of-type {\n",
       "        vertical-align: middle;\n",
       "    }\n",
       "\n",
       "    .dataframe tbody tr th {\n",
       "        vertical-align: top;\n",
       "    }\n",
       "\n",
       "    .dataframe thead th {\n",
       "        text-align: right;\n",
       "    }\n",
       "</style>\n",
       "<table border=\"1\" class=\"dataframe\">\n",
       "  <thead>\n",
       "    <tr style=\"text-align: right;\">\n",
       "      <th></th>\n",
       "      <th>Person_id</th>\n",
       "      <th>Target</th>\n",
       "    </tr>\n",
       "  </thead>\n",
       "  <tbody>\n",
       "    <tr>\n",
       "      <th>0</th>\n",
       "      <td>Id_r90136smvl</td>\n",
       "      <td>1</td>\n",
       "    </tr>\n",
       "    <tr>\n",
       "      <th>1</th>\n",
       "      <td>Id_wawdqhmu6s</td>\n",
       "      <td>1</td>\n",
       "    </tr>\n",
       "    <tr>\n",
       "      <th>2</th>\n",
       "      <td>Id_ap2czff2bu</td>\n",
       "      <td>0</td>\n",
       "    </tr>\n",
       "    <tr>\n",
       "      <th>3</th>\n",
       "      <td>Id_uhgink7iha</td>\n",
       "      <td>0</td>\n",
       "    </tr>\n",
       "    <tr>\n",
       "      <th>4</th>\n",
       "      <td>Id_5j6bzk3k81</td>\n",
       "      <td>0</td>\n",
       "    </tr>\n",
       "  </tbody>\n",
       "</table>\n",
       "</div>"
      ],
      "text/plain": [
       "       Person_id  Target\n",
       "0  Id_r90136smvl       1\n",
       "1  Id_wawdqhmu6s       1\n",
       "2  Id_ap2czff2bu       0\n",
       "3  Id_uhgink7iha       0\n",
       "4  Id_5j6bzk3k81       0"
      ]
     },
     "execution_count": 134,
     "metadata": {},
     "output_type": "execute_result"
    }
   ],
   "source": [
    "df_submission = pd.DataFrame({\"Person_id\": submit_sample[\"Person_id\"], \"Target\": predictions.astype(int)})\n",
    "df_submission.head()"
   ]
  },
  {
   "cell_type": "code",
   "execution_count": 135,
   "metadata": {},
   "outputs": [],
   "source": [
    "df_submission.to_csv(\"submission.csv\", index=False)"
   ]
  }
 ],
 "metadata": {
  "kernelspec": {
   "display_name": "env-zindi",
   "language": "python",
   "name": "python3"
  },
  "language_info": {
   "codemirror_mode": {
    "name": "ipython",
    "version": 3
   },
   "file_extension": ".py",
   "mimetype": "text/x-python",
   "name": "python",
   "nbconvert_exporter": "python",
   "pygments_lexer": "ipython3",
   "version": "3.10.7"
  },
  "orig_nbformat": 4
 },
 "nbformat": 4,
 "nbformat_minor": 2
}
