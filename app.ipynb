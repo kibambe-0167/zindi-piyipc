{
 "cells": [
  {
   "cell_type": "code",
   "execution_count": 7,
   "metadata": {},
   "outputs": [
    {
     "ename": "ModuleNotFoundError",
     "evalue": "No module named 'xgboost'",
     "output_type": "error",
     "traceback": [
      "\u001b[0;31m---------------------------------------------------------------------------\u001b[0m",
      "\u001b[0;31mModuleNotFoundError\u001b[0m                       Traceback (most recent call last)",
      "\u001b[1;32m/Users/aapoh/codes/ghp/zindi-piyipc/app.ipynb Cell 1\u001b[0m line \u001b[0;36m4\n\u001b[1;32m      <a href='vscode-notebook-cell:/Users/aapoh/codes/ghp/zindi-piyipc/app.ipynb#W0sZmlsZQ%3D%3D?line=1'>2</a>\u001b[0m \u001b[39mimport\u001b[39;00m \u001b[39mpandas\u001b[39;00m \u001b[39mas\u001b[39;00m \u001b[39mpd\u001b[39;00m\n\u001b[1;32m      <a href='vscode-notebook-cell:/Users/aapoh/codes/ghp/zindi-piyipc/app.ipynb#W0sZmlsZQ%3D%3D?line=2'>3</a>\u001b[0m \u001b[39mimport\u001b[39;00m \u001b[39mseaborn\u001b[39;00m \u001b[39mas\u001b[39;00m \u001b[39msns\u001b[39;00m\n\u001b[0;32m----> <a href='vscode-notebook-cell:/Users/aapoh/codes/ghp/zindi-piyipc/app.ipynb#W0sZmlsZQ%3D%3D?line=3'>4</a>\u001b[0m \u001b[39mimport\u001b[39;00m \u001b[39mxgboost\u001b[39;00m \u001b[39mas\u001b[39;00m \u001b[39mxgb\u001b[39;00m\n\u001b[1;32m      <a href='vscode-notebook-cell:/Users/aapoh/codes/ghp/zindi-piyipc/app.ipynb#W0sZmlsZQ%3D%3D?line=4'>5</a>\u001b[0m \u001b[39mfrom\u001b[39;00m \u001b[39mkeras\u001b[39;00m \u001b[39mimport\u001b[39;00m Model\n\u001b[1;32m      <a href='vscode-notebook-cell:/Users/aapoh/codes/ghp/zindi-piyipc/app.ipynb#W0sZmlsZQ%3D%3D?line=5'>6</a>\u001b[0m \u001b[39mfrom\u001b[39;00m \u001b[39msklearn\u001b[39;00m\u001b[39m.\u001b[39;00m\u001b[39msvm\u001b[39;00m \u001b[39mimport\u001b[39;00m SVC\n",
      "\u001b[0;31mModuleNotFoundError\u001b[0m: No module named 'xgboost'"
     ]
    }
   ],
   "source": [
    "import numpy as np\n",
    "import pandas as pd\n",
    "import seaborn as sns\n",
    "import xgboost as xgb\n",
    "from keras import Model\n",
    "from sklearn.svm import SVC\n",
    "import matplotlib.pyplot as plt\n",
    "from keras.optimizers import Adam\n",
    "from keras.regularizers import l2, l1\n",
    "from sklearn.linear_model import SGDClassifier\n",
    "from sklearn.neural_network import MLPClassifier\n",
    "from sklearn.neighbors import KNeighborsClassifier\n",
    "from sklearn.tree import DecisionTreeClassifier, DecisionTreeRegressor\n",
    "from sklearn.ensemble import RandomForestClassifier\n",
    "from sklearn.naive_bayes import GaussianNB, MultinomialNB\n",
    "from sklearn.model_selection import GridSearchCV, cross_val_score, StratifiedKFold\n",
    "from keras.layers import (\n",
    "    Bidirectional,\n",
    "    LSTM,\n",
    "    Dense,\n",
    "    Dropout,\n",
    "    BatchNormalization,\n",
    "    Input,\n",
    "    Activation,\n",
    ")"
   ]
  },
  {
   "cell_type": "markdown",
   "metadata": {},
   "source": [
    "## Data"
   ]
  },
  {
   "cell_type": "code",
   "execution_count": null,
   "metadata": {},
   "outputs": [],
   "source": [
    "df_train = pd.read_csv(\"./clean_train.csv\")\n",
    "df_train.head()"
   ]
  },
  {
   "cell_type": "code",
   "execution_count": null,
   "metadata": {},
   "outputs": [],
   "source": [
    "# plt.figure(figsize=(15, 5))\n",
    "# sns.heatmap(df_train.corr(), annot=True, cmap=\"coolwarm\", fmt=\".2f\", linewidths=0.5)\n",
    "# plt.show()"
   ]
  },
  {
   "cell_type": "code",
   "execution_count": null,
   "metadata": {},
   "outputs": [],
   "source": [
    "df_train.columns"
   ]
  },
  {
   "cell_type": "code",
   "execution_count": null,
   "metadata": {},
   "outputs": [],
   "source": [
    "df_train['Province_nan'].unique()"
   ]
  },
  {
   "cell_type": "code",
   "execution_count": null,
   "metadata": {},
   "outputs": [],
   "source": [
    "df_train.shape"
   ]
  },
  {
   "cell_type": "code",
   "execution_count": null,
   "metadata": {},
   "outputs": [],
   "source": [
    "train = df_train.drop('Target', axis=1)\n",
    "targets = df_train['Target']\n",
    "\n",
    "train.shape, targets.shape"
   ]
  },
  {
   "cell_type": "markdown",
   "metadata": {},
   "source": [
    "## Test Data"
   ]
  },
  {
   "cell_type": "code",
   "execution_count": null,
   "metadata": {},
   "outputs": [],
   "source": [
    "# unclean data\n",
    "test_unclean_df = pd.read_csv(\"./Test.csv\")\n",
    "test_unclean_df.head()"
   ]
  },
  {
   "cell_type": "code",
   "execution_count": null,
   "metadata": {},
   "outputs": [],
   "source": [
    "# clean data\n",
    "test_data = pd.read_csv(\"./clean_test.csv\")\n",
    "test_data.head()"
   ]
  },
  {
   "cell_type": "markdown",
   "metadata": {},
   "source": [
    "## Models"
   ]
  },
  {
   "cell_type": "code",
   "execution_count": null,
   "metadata": {},
   "outputs": [],
   "source": [
    "predictions = []"
   ]
  },
  {
   "cell_type": "markdown",
   "metadata": {},
   "source": [
    "#### Naive Bayes Gaussian"
   ]
  },
  {
   "cell_type": "code",
   "execution_count": null,
   "metadata": {},
   "outputs": [],
   "source": [
    "# # NB\n",
    "# grid_search_params = {\"var_smoothing\": [1e-9, 1e-8, 1e-7, 1e-6, 1e-5]}\n",
    "\n",
    "# cls_gnb = GaussianNB()\n",
    "\n",
    "# grid_search = GridSearchCV(\n",
    "#     estimator=cls_gnb, param_grid=grid_search_params, cv=10, scoring=\"accuracy\"\n",
    "# )\n",
    "\n",
    "# grid_search.fit(train, targets)\n",
    "\n",
    "# print(f\"{grid_search.best_params_}\\n\\n\")\n",
    "# print(f\"{grid_search.best_estimator_}\")"
   ]
  },
  {
   "cell_type": "code",
   "execution_count": null,
   "metadata": {},
   "outputs": [],
   "source": [
    "# # perform cross val on data\n",
    "# gnb = GaussianNB(var_smoothing=1e-07)\n",
    "\n",
    "# cv = StratifiedKFold(random_state=42, n_splits=10, shuffle=True)\n",
    "\n",
    "# scores = cross_val_score(gnb, train, targets, cv=cv, scoring='accuracy')\n",
    "\n",
    "# print(f\"mean score: {scores.mean()}\")"
   ]
  },
  {
   "cell_type": "code",
   "execution_count": null,
   "metadata": {},
   "outputs": [],
   "source": [
    "# gnb.fit(train, targets)\n",
    "# predictions = gnb.predict(test_data)\n",
    "# predictions"
   ]
  },
  {
   "cell_type": "markdown",
   "metadata": {},
   "source": [
    "#### SVM - SVC"
   ]
  },
  {
   "cell_type": "code",
   "execution_count": null,
   "metadata": {},
   "outputs": [],
   "source": [
    "# # svc takes times\n",
    "# # \"C\": [0.08, 0.05, 0.03, 0.01, 0.1, 1, 3, 5, 7, 10],\n",
    "# grid_search_params = {\n",
    "#     \"C\": [0.01, 0.05, 0.1, 1, 5, 10],\n",
    "#     \"kernel\": [\"linear\", \"rbf\", \"poly\", \"sigmoid\"],\n",
    "#     \"degree\": [2, 3, 4, 5],\n",
    "#     \"gamma\": [\"scale\", \"auto\"] + [0.001, 0.01, 0.1, 1],\n",
    "# }\n",
    "\n",
    "# cls_svc = SVC()\n",
    "\n",
    "# grid_search = GridSearchCV(\n",
    "#     estimator=cls_svc, param_grid=grid_search_params, cv=5, scoring=\"accuracy\"\n",
    "# )\n",
    "\n",
    "# grid_search.fit(train, targets)\n",
    "\n",
    "# print(f\"{grid_search.best_params_}\\n\\n\")\n",
    "# print(f\"{grid_search.best_estimator_}\")"
   ]
  },
  {
   "cell_type": "markdown",
   "metadata": {},
   "source": [
    "#### Deep Learning"
   ]
  },
  {
   "cell_type": "code",
   "execution_count": null,
   "metadata": {},
   "outputs": [],
   "source": [
    "# # remove province nan\n",
    "# dl_data = np.array( train.drop('Province_nan', axis=1)).astype(np.float32)\n",
    "# dl_data = dl_data.reshape(dl_data.shape[0], 9, -1 )\n",
    "# dl_data.shape"
   ]
  },
  {
   "cell_type": "code",
   "execution_count": null,
   "metadata": {},
   "outputs": [],
   "source": [
    "# dl_labels = np.array(targets)\n",
    "# np.unique( dl_labels)"
   ]
  },
  {
   "cell_type": "code",
   "execution_count": null,
   "metadata": {},
   "outputs": [],
   "source": [
    "# input_shape = (9, 8)\n",
    "\n",
    "# input_layer = Input(shape=input_shape)\n",
    "\n",
    "# # units = [256, 128, 64, 32]\n",
    "# x = Bidirectional(LSTM(64, return_sequences=True, kernel_regularizer=(l2(0.01)) ))(input_layer)\n",
    "# x = LSTM(64, return_sequences=True, kernel_regularizer=(l2(0.01)))(input_layer)\n",
    "# # x = BatchNormalization()(x)\n",
    "# x = Activation(\"relu\")(x)\n",
    "# x = Dropout(0.5)(x)\n",
    "# #\n",
    "# x = Bidirectional(LSTM(32, return_sequences=True, kernel_regularizer=(l2(0.01))))(x)\n",
    "# # x = LSTM(32, return_sequences=True, kernel_regularizer=(l2(0.01)))(x)\n",
    "# x = BatchNormalization()(x)\n",
    "# x = Activation(\"relu\")(x)\n",
    "# x = Dropout(0.5)(x)\n",
    "# #\n",
    "# x = Bidirectional(LSTM(16, return_sequences=True, kernel_regularizer=(l2(0.01))))(x)\n",
    "# # x = LSTM(16, return_sequences=True, kernel_regularizer=(l2(0.01)))(x)\n",
    "# x = BatchNormalization()(x)\n",
    "# x = Activation(\"relu\")(x)\n",
    "# x = Dropout(0.5)(x)\n",
    "\n",
    "# output_layer = Dense(1, activation=\"sigmoid\")(x)\n",
    "\n",
    "# model = Model(inputs=input_layer, outputs=output_layer)\n",
    "\n",
    "# #\n",
    "# learning_rate = 0.001\n",
    "# optim_ = Adam(learning_rate=learning_rate)\n",
    "\n",
    "# #\n",
    "# model.compile(optimizer=optim_, loss=\"binary_crossentropy\", metrics=[\"accuracy\"])\n",
    "\n",
    "# model.summary()"
   ]
  },
  {
   "cell_type": "code",
   "execution_count": null,
   "metadata": {},
   "outputs": [],
   "source": [
    "# dl_labels = np.asarray(dl_labels).astype('int').reshape((-1,1))"
   ]
  },
  {
   "cell_type": "code",
   "execution_count": null,
   "metadata": {},
   "outputs": [],
   "source": [
    "# model.fit(dl_data, dl_labels, batch_size=32, epochs=10, validation_split=0.2)"
   ]
  },
  {
   "cell_type": "code",
   "execution_count": null,
   "metadata": {},
   "outputs": [],
   "source": [
    "# # remove province nan\n",
    "# dl_test_data = np.array( test_data.drop('Province_nan', axis=1)).astype(np.float32)\n",
    "# dl_test_data = dl_test_data.reshape(dl_test_data.shape[0], 9, -1 )\n",
    "# dl_test_data.shape\n",
    "\n",
    "# y_pred = model.predict(dl_test_data)"
   ]
  },
  {
   "cell_type": "code",
   "execution_count": null,
   "metadata": {},
   "outputs": [],
   "source": [
    "# y_pred = np.squeeze(y_pred)\n",
    "# predictions= ( y_pred >= .5).astype('int')[:,0]\n",
    "# predictions"
   ]
  },
  {
   "cell_type": "markdown",
   "metadata": {},
   "source": [
    "#### Multinomial NB"
   ]
  },
  {
   "cell_type": "code",
   "execution_count": null,
   "metadata": {},
   "outputs": [],
   "source": [
    "# # NB\n",
    "# grid_search_params = {\n",
    "#     \"alpha\": [0.1, 0.5, 1.0, 2.0],\n",
    "#     \"fit_prior\": [True, False],\n",
    "# }\n",
    "\n",
    "# cls_mnb = MultinomialNB()\n",
    "\n",
    "# grid_search = GridSearchCV(\n",
    "#     estimator=cls_mnb, param_grid=grid_search_params, cv=30, scoring=\"accuracy\"\n",
    "# )\n",
    "\n",
    "# grid_search.fit(train, targets)\n",
    "\n",
    "# print(f\"Best Params: {grid_search.best_params_}\")\n",
    "# print(f\"Best Estimator: {grid_search.best_estimator_}\")\n",
    "# print(f\"Best Score: {grid_search.best_score_}\")"
   ]
  },
  {
   "cell_type": "code",
   "execution_count": null,
   "metadata": {},
   "outputs": [],
   "source": [
    "# cls_mnb.fit(train, targets)"
   ]
  },
  {
   "cell_type": "code",
   "execution_count": null,
   "metadata": {},
   "outputs": [],
   "source": [
    "# predictions = cls_mnb.predict(test_data)\n",
    "# predictions"
   ]
  },
  {
   "cell_type": "markdown",
   "metadata": {},
   "source": [
    "#### Random Forest Classifier"
   ]
  },
  {
   "cell_type": "code",
   "execution_count": null,
   "metadata": {},
   "outputs": [],
   "source": [
    "# grid_search_params = {\n",
    "#     'n_estimators': [50, 100, 200],  # Number of trees in the forest\n",
    "#     'max_depth': [None, 10, 20, 30],  # Maximum depth of each tree\n",
    "#     'min_samples_split': [2, 5, 10],  # Minimum number of samples required to split an internal node\n",
    "#     'min_samples_leaf': [1, 2, 4],  # Minimum number of samples required to be at a leaf node\n",
    "#     'max_features': ['auto', 'sqrt', 'log2'],  # Number of features to consider for the best split\n",
    "# }\n",
    "\n",
    "# cls_rf = RandomForestClassifier(random_state=42)\n",
    "\n",
    "# grid_search = GridSearchCV(\n",
    "#     estimator=cls_rf, param_grid=grid_search_params, cv=10, scoring=\"accuracy\"\n",
    "# )\n",
    "\n",
    "# grid_search.fit(train, targets)\n",
    "\n",
    "# # print(f\"{grid_search.best_params_}\\n\\n\")\n",
    "# print(f\"{grid_search.best_estimator_}\")"
   ]
  },
  {
   "cell_type": "code",
   "execution_count": null,
   "metadata": {},
   "outputs": [],
   "source": [
    "# rf = RandomForestClassifier(\n",
    "#     random_state=42, max_depth=30, min_samples_leaf=2, min_samples_split=5\n",
    "# )\n",
    "\n",
    "# cv = StratifiedKFold(random_state=42, n_splits=10, shuffle=True)\n",
    "\n",
    "# scores = cross_val_score(rf, train, targets, cv=cv, scoring='accuracy')\n",
    "\n",
    "# print(f\"mean score: {scores.mean()}\")"
   ]
  },
  {
   "cell_type": "code",
   "execution_count": null,
   "metadata": {},
   "outputs": [],
   "source": [
    "# rf.fit(train, targets)\n",
    "# predictions = rf.predict(test_data)\n",
    "# predictions"
   ]
  },
  {
   "cell_type": "markdown",
   "metadata": {},
   "source": [
    "#### KNN"
   ]
  },
  {
   "cell_type": "code",
   "execution_count": null,
   "metadata": {},
   "outputs": [],
   "source": [
    "# grid_search_params = {\n",
    "#     \"n_neighbors\": [3, 5, 7, 9],\n",
    "#     \"weights\": [\"uniform\", \"distance\"],\n",
    "#     \"p\": [1, 2],\n",
    "#     # \"algorithm\": [\"auto\", \"ball_tree\", \"kd_tree\", \"brute\"],\n",
    "# }\n",
    "\n",
    "# cls_knn = KNeighborsClassifier()\n",
    "\n",
    "# grid_search = GridSearchCV(\n",
    "#     estimator=cls_knn, param_grid=grid_search_params, cv=10, scoring=\"accuracy\"\n",
    "# )\n",
    "\n",
    "# grid_search.fit(train, targets)\n",
    "\n",
    "# # print(f\"{grid_search.best_params_}\\n\\n\")\n",
    "# print(f\"{grid_search.best_estimator_}\")"
   ]
  },
  {
   "cell_type": "code",
   "execution_count": null,
   "metadata": {},
   "outputs": [],
   "source": [
    "# knn = KNeighborsClassifier( n_neighbors=5, weights=\"distance\", p=2 )\n",
    "\n",
    "# cv = StratifiedKFold(random_state=42, n_splits=10, shuffle=True)\n",
    "\n",
    "# scores = cross_val_score(knn, train, targets, cv=cv, scoring='accuracy')\n",
    "\n",
    "# print(f\"mean score: {scores.mean()}\")"
   ]
  },
  {
   "cell_type": "code",
   "execution_count": null,
   "metadata": {},
   "outputs": [],
   "source": [
    "# knn.fit(train, targets)\n",
    "# predictions = knn.predict(test_data)\n",
    "# predictions"
   ]
  },
  {
   "cell_type": "markdown",
   "metadata": {},
   "source": [
    "#### DecisionTreeClassifier"
   ]
  },
  {
   "cell_type": "code",
   "execution_count": null,
   "metadata": {},
   "outputs": [],
   "source": [
    "# grid_search_params = {\n",
    "#     \"criterion\": [\"gini\", \"entropy\"],\n",
    "#     \"max_depth\": [None, 5, 10, 15, 20],\n",
    "#     \"min_samples_split\": [2, 5, 10],\n",
    "#     \"min_samples_leaf\": [1, 2, 4],\n",
    "# }\n",
    "\n",
    "# cls_dt = DecisionTreeClassifier()\n",
    "\n",
    "# grid_search = GridSearchCV(\n",
    "#     estimator=cls_dt, param_grid=grid_search_params, cv=10, scoring=\"accuracy\"\n",
    "# )\n",
    "\n",
    "# grid_search.fit(train, targets)\n",
    "\n",
    "# print(f\"{grid_search.best_params_}\\n\\n\")\n",
    "# print(f\"{grid_search.best_estimator_}\")"
   ]
  },
  {
   "cell_type": "code",
   "execution_count": null,
   "metadata": {},
   "outputs": [],
   "source": [
    "# dt = DecisionTreeClassifier(\n",
    "#     criterion=\"gini\", max_depth=10, min_samples_leaf=4, min_samples_split=5\n",
    "# )\n",
    "# # dt = DecisionTreeClassifier(max_depth=10, min_samples_leaf=4, min_samples_split=5)\n",
    "\n",
    "# cv = StratifiedKFold(random_state=42, n_splits=10, shuffle=True)\n",
    "\n",
    "# scores = cross_val_score(dt, train, targets, cv=cv, scoring=\"accuracy\")\n",
    "\n",
    "# print(f\"mean score: {scores.mean()}\")"
   ]
  },
  {
   "cell_type": "code",
   "execution_count": null,
   "metadata": {},
   "outputs": [],
   "source": [
    "# dt.fit(train, targets)\n",
    "# predictions = dt.predict(test_data)\n",
    "# predictions"
   ]
  },
  {
   "cell_type": "markdown",
   "metadata": {},
   "source": [
    "#### SGDClassifier"
   ]
  },
  {
   "cell_type": "code",
   "execution_count": null,
   "metadata": {},
   "outputs": [],
   "source": [
    "# grid_search_params = {\n",
    "#     \"loss\": [\"hinge\", \"log\", \"modified_huber\"],\n",
    "#     \"penalty\": [\"none\", \"l1\", \"l2\", \"elasticnet\"],\n",
    "#     \"alpha\": [0.0001, 0.001, 0.01, 0.1],\n",
    "#     \"max_iter\": [1000, 2000, 3000],\n",
    "# }\n",
    "\n",
    "# cls_sdg = SGDClassifier()\n",
    "\n",
    "# grid_search = GridSearchCV(\n",
    "#     estimator=cls_sdg, param_grid=grid_search_params, cv=10, scoring=\"accuracy\"\n",
    "# )\n",
    "\n",
    "# grid_search.fit(train, targets)\n",
    "\n",
    "# # # print(f\"{grid_search.best_params_}\\n\\n\")\n",
    "# # print(f\"{grid_search.best_estimator_}\")"
   ]
  },
  {
   "cell_type": "code",
   "execution_count": null,
   "metadata": {},
   "outputs": [],
   "source": [
    "# sgd = SGDClassifier(alpha=0.001, loss='modified_huber', max_iter=3000,penalty='elasticnet')\n",
    "\n",
    "# cv = StratifiedKFold(random_state=42, n_splits=10, shuffle=True)\n",
    "\n",
    "# scores = cross_val_score(sgd, train, targets, cv=cv, scoring='accuracy')\n",
    "\n",
    "# print(f\"mean score: {scores.mean()}\")"
   ]
  },
  {
   "cell_type": "code",
   "execution_count": null,
   "metadata": {},
   "outputs": [],
   "source": [
    "# sgd.fit(train, targets)\n",
    "# predictions = sgd.predict(test_data)\n",
    "# predictions"
   ]
  },
  {
   "cell_type": "markdown",
   "metadata": {},
   "source": [
    "#### DecisionTreeRegressor"
   ]
  },
  {
   "cell_type": "code",
   "execution_count": null,
   "metadata": {},
   "outputs": [],
   "source": [
    "# grid_search_params = {\n",
    "#     \"max_depth\": [None, 10, 20, 30],\n",
    "#     \"min_samples_split\": [2, 5, 10],\n",
    "#     \"min_samples_leaf\": [1, 2, 4],\n",
    "# }\n",
    "\n",
    "# cls_dt_reg = DecisionTreeRegressor()\n",
    "\n",
    "# grid_search = GridSearchCV(\n",
    "#     estimator=cls_dt_reg, param_grid=grid_search_params, cv=10, scoring=\"accuracy\"\n",
    "# )\n",
    "\n",
    "# grid_search.fit(train, targets)\n",
    "\n",
    "# print(f\"{grid_search.best_params_}\\n\\n\")\n",
    "# print(f\"{grid_search.best_estimator_}\")"
   ]
  },
  {
   "cell_type": "code",
   "execution_count": null,
   "metadata": {},
   "outputs": [],
   "source": [
    "# dt_reg = DecisionTreeRegressor()\n",
    "# # dt = DecisionTreeClassifier(max_depth=10, min_samples_leaf=4, min_samples_split=5)\n",
    "\n",
    "# cv = StratifiedKFold(random_state=42, n_splits=10, shuffle=True)\n",
    "\n",
    "# scores = cross_val_score(dt_reg, train, targets, cv=cv, scoring=\"accuracy\")\n",
    "\n",
    "# print(f\"mean score: {scores.mean()}\")"
   ]
  },
  {
   "cell_type": "code",
   "execution_count": null,
   "metadata": {},
   "outputs": [],
   "source": [
    "# dt.fit(train, targets)\n",
    "# predictions = dt.predict(test_data)\n",
    "# predictions"
   ]
  },
  {
   "cell_type": "markdown",
   "metadata": {},
   "source": [
    "#### MLPClassifier"
   ]
  },
  {
   "cell_type": "code",
   "execution_count": null,
   "metadata": {},
   "outputs": [],
   "source": [
    "# grid_search_params = {\n",
    "#     \"hidden_layer_sizes\": [(64,), (128,), (256,)],\n",
    "#     \"activation\": [\"relu\", \"tanh\"],\n",
    "#     \"alpha\": [0.0001, 0.001, 0.01],\n",
    "# }\n",
    "\n",
    "\n",
    "# cls_mlp = MLPClassifier()\n",
    "\n",
    "# grid_search = GridSearchCV(\n",
    "#     estimator=cls_mlp, param_grid=grid_search_params, cv=10, scoring=\"accuracy\"\n",
    "# )\n",
    "\n",
    "# grid_search.fit(train, targets)\n",
    "\n",
    "# print(f\"{grid_search.best_params_}\\n\\n\")\n",
    "# print(f\"{grid_search.best_estimator_}\")"
   ]
  },
  {
   "cell_type": "code",
   "execution_count": null,
   "metadata": {},
   "outputs": [],
   "source": [
    "# # mlp = MLPClassifier(alpha=0.01, hidden_layer_sizes=(64,))\n",
    "# mlp = MLPClassifier(activation='relu', alpha=0.0001, hidden_layer_sizes=(256,), random_state=1)\n",
    "# # mlp = MLPClassifier()\n",
    "\n",
    "# cv = StratifiedKFold(random_state=42, n_splits=10, shuffle=True)\n",
    "\n",
    "# scores = cross_val_score(mlp, train, targets, cv=cv, scoring=\"accuracy\")\n",
    "\n",
    "# print(f\"mean score: {scores.mean()}\")"
   ]
  },
  {
   "cell_type": "code",
   "execution_count": null,
   "metadata": {},
   "outputs": [],
   "source": [
    "# mlp.fit(train, targets)\n",
    "# predictions = mlp.predict(test_data)\n",
    "# predictions"
   ]
  },
  {
   "cell_type": "markdown",
   "metadata": {},
   "source": [
    "#### XGBosst"
   ]
  },
  {
   "cell_type": "code",
   "execution_count": null,
   "metadata": {},
   "outputs": [],
   "source": []
  },
  {
   "cell_type": "markdown",
   "metadata": {},
   "source": [
    "## Save to file"
   ]
  },
  {
   "cell_type": "code",
   "execution_count": null,
   "metadata": {},
   "outputs": [],
   "source": [
    "df_submission = pd.DataFrame({\"ID\": test_unclean_df[\"Person_id\"], \"Target\": predictions.astype(int)})\n",
    "df_submission.head()"
   ]
  },
  {
   "cell_type": "code",
   "execution_count": null,
   "metadata": {},
   "outputs": [],
   "source": [
    "df_submission.to_csv(\"submission.csv\", index=False)"
   ]
  },
  {
   "cell_type": "code",
   "execution_count": null,
   "metadata": {},
   "outputs": [],
   "source": []
  }
 ],
 "metadata": {
  "kernelspec": {
   "display_name": "env-zindi",
   "language": "python",
   "name": "python3"
  },
  "language_info": {
   "codemirror_mode": {
    "name": "ipython",
    "version": 3
   },
   "file_extension": ".py",
   "mimetype": "text/x-python",
   "name": "python",
   "nbconvert_exporter": "python",
   "pygments_lexer": "ipython3",
   "version": "3.10.7"
  },
  "orig_nbformat": 4
 },
 "nbformat": 4,
 "nbformat_minor": 2
}
