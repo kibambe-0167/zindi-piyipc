{
 "cells": [
  {
   "cell_type": "code",
   "execution_count": 139,
   "metadata": {},
   "outputs": [],
   "source": [
    "import numpy as np\n",
    "import pandas as pd\n",
    "import seaborn as sns\n",
    "import matplotlib.pyplot as plt\n",
    "from sklearn.tree import DecisionTreeClassifier\n",
    "from sklearn.model_selection import train_test_split, StratifiedKFold, cross_val_score, GridSearchCV\n",
    "from sklearn.metrics import classification_report, accuracy_score, confusion_matrix, accuracy_score, f1_score"
   ]
  },
  {
   "cell_type": "markdown",
   "metadata": {},
   "source": [
    "### Training data"
   ]
  },
  {
   "cell_type": "code",
   "execution_count": 111,
   "metadata": {},
   "outputs": [
    {
     "data": {
      "text/html": [
       "<div>\n",
       "<style scoped>\n",
       "    .dataframe tbody tr th:only-of-type {\n",
       "        vertical-align: middle;\n",
       "    }\n",
       "\n",
       "    .dataframe tbody tr th {\n",
       "        vertical-align: top;\n",
       "    }\n",
       "\n",
       "    .dataframe thead th {\n",
       "        text-align: right;\n",
       "    }\n",
       "</style>\n",
       "<table border=\"1\" class=\"dataframe\">\n",
       "  <thead>\n",
       "    <tr style=\"text-align: right;\">\n",
       "      <th></th>\n",
       "      <th>Person_id</th>\n",
       "      <th>Survey_date</th>\n",
       "      <th>Round</th>\n",
       "      <th>Status</th>\n",
       "      <th>Tenure</th>\n",
       "      <th>Geography</th>\n",
       "      <th>Province</th>\n",
       "      <th>Matric</th>\n",
       "      <th>Degree</th>\n",
       "      <th>Diploma</th>\n",
       "      <th>...</th>\n",
       "      <th>Math</th>\n",
       "      <th>Mathlit</th>\n",
       "      <th>Additional_lang</th>\n",
       "      <th>Home_lang</th>\n",
       "      <th>Science</th>\n",
       "      <th>Female</th>\n",
       "      <th>Sa_citizen</th>\n",
       "      <th>Birthyear</th>\n",
       "      <th>Birthmonth</th>\n",
       "      <th>Target</th>\n",
       "    </tr>\n",
       "  </thead>\n",
       "  <tbody>\n",
       "    <tr>\n",
       "      <th>0</th>\n",
       "      <td>Id_eqz61wz7yn</td>\n",
       "      <td>2022-02-23</td>\n",
       "      <td>2</td>\n",
       "      <td>studying</td>\n",
       "      <td>NaN</td>\n",
       "      <td>Rural</td>\n",
       "      <td>Mpumalanga</td>\n",
       "      <td>1.0</td>\n",
       "      <td>0.0</td>\n",
       "      <td>0.0</td>\n",
       "      <td>...</td>\n",
       "      <td>0 - 29 %</td>\n",
       "      <td>NaN</td>\n",
       "      <td>50 - 59 %</td>\n",
       "      <td>NaN</td>\n",
       "      <td>0 - 29 %</td>\n",
       "      <td>1</td>\n",
       "      <td>1</td>\n",
       "      <td>2000</td>\n",
       "      <td>5</td>\n",
       "      <td>0</td>\n",
       "    </tr>\n",
       "    <tr>\n",
       "      <th>1</th>\n",
       "      <td>Id_kj5k3g5wud</td>\n",
       "      <td>2023-02-06</td>\n",
       "      <td>4</td>\n",
       "      <td>unemployed</td>\n",
       "      <td>427.0</td>\n",
       "      <td>Suburb</td>\n",
       "      <td>North West</td>\n",
       "      <td>1.0</td>\n",
       "      <td>0.0</td>\n",
       "      <td>0.0</td>\n",
       "      <td>...</td>\n",
       "      <td>30 - 39 %</td>\n",
       "      <td>NaN</td>\n",
       "      <td>40 - 49 %</td>\n",
       "      <td>NaN</td>\n",
       "      <td>30 - 39 %</td>\n",
       "      <td>1</td>\n",
       "      <td>1</td>\n",
       "      <td>1989</td>\n",
       "      <td>4</td>\n",
       "      <td>1</td>\n",
       "    </tr>\n",
       "    <tr>\n",
       "      <th>2</th>\n",
       "      <td>Id_9h0isj38y4</td>\n",
       "      <td>2022-08-08</td>\n",
       "      <td>3</td>\n",
       "      <td>other</td>\n",
       "      <td>NaN</td>\n",
       "      <td>Urban</td>\n",
       "      <td>Free State</td>\n",
       "      <td>1.0</td>\n",
       "      <td>0.0</td>\n",
       "      <td>0.0</td>\n",
       "      <td>...</td>\n",
       "      <td>30 - 39 %</td>\n",
       "      <td>NaN</td>\n",
       "      <td>40 - 49 %</td>\n",
       "      <td>NaN</td>\n",
       "      <td>30 - 39 %</td>\n",
       "      <td>0</td>\n",
       "      <td>1</td>\n",
       "      <td>1996</td>\n",
       "      <td>7</td>\n",
       "      <td>1</td>\n",
       "    </tr>\n",
       "    <tr>\n",
       "      <th>3</th>\n",
       "      <td>Id_5ch3zwpdef</td>\n",
       "      <td>2022-03-16</td>\n",
       "      <td>2</td>\n",
       "      <td>unemployed</td>\n",
       "      <td>810.0</td>\n",
       "      <td>Urban</td>\n",
       "      <td>Eastern Cape</td>\n",
       "      <td>NaN</td>\n",
       "      <td>NaN</td>\n",
       "      <td>NaN</td>\n",
       "      <td>...</td>\n",
       "      <td>NaN</td>\n",
       "      <td>NaN</td>\n",
       "      <td>NaN</td>\n",
       "      <td>NaN</td>\n",
       "      <td>NaN</td>\n",
       "      <td>0</td>\n",
       "      <td>1</td>\n",
       "      <td>2000</td>\n",
       "      <td>1</td>\n",
       "      <td>0</td>\n",
       "    </tr>\n",
       "    <tr>\n",
       "      <th>4</th>\n",
       "      <td>Id_g4elxibjej</td>\n",
       "      <td>2023-03-22</td>\n",
       "      <td>4</td>\n",
       "      <td>studying</td>\n",
       "      <td>NaN</td>\n",
       "      <td>Urban</td>\n",
       "      <td>Limpopo</td>\n",
       "      <td>NaN</td>\n",
       "      <td>NaN</td>\n",
       "      <td>NaN</td>\n",
       "      <td>...</td>\n",
       "      <td>NaN</td>\n",
       "      <td>NaN</td>\n",
       "      <td>NaN</td>\n",
       "      <td>NaN</td>\n",
       "      <td>NaN</td>\n",
       "      <td>1</td>\n",
       "      <td>1</td>\n",
       "      <td>1998</td>\n",
       "      <td>12</td>\n",
       "      <td>0</td>\n",
       "    </tr>\n",
       "  </tbody>\n",
       "</table>\n",
       "<p>5 rows × 21 columns</p>\n",
       "</div>"
      ],
      "text/plain": [
       "       Person_id Survey_date  Round      Status  Tenure Geography  \\\n",
       "0  Id_eqz61wz7yn  2022-02-23      2    studying     NaN     Rural   \n",
       "1  Id_kj5k3g5wud  2023-02-06      4  unemployed   427.0    Suburb   \n",
       "2  Id_9h0isj38y4  2022-08-08      3       other     NaN     Urban   \n",
       "3  Id_5ch3zwpdef  2022-03-16      2  unemployed   810.0     Urban   \n",
       "4  Id_g4elxibjej  2023-03-22      4    studying     NaN     Urban   \n",
       "\n",
       "       Province  Matric  Degree  Diploma  ...       Math Mathlit  \\\n",
       "0    Mpumalanga     1.0     0.0      0.0  ...   0 - 29 %     NaN   \n",
       "1    North West     1.0     0.0      0.0  ...  30 - 39 %     NaN   \n",
       "2    Free State     1.0     0.0      0.0  ...  30 - 39 %     NaN   \n",
       "3  Eastern Cape     NaN     NaN      NaN  ...        NaN     NaN   \n",
       "4       Limpopo     NaN     NaN      NaN  ...        NaN     NaN   \n",
       "\n",
       "  Additional_lang Home_lang    Science Female  Sa_citizen  Birthyear  \\\n",
       "0       50 - 59 %       NaN   0 - 29 %      1           1       2000   \n",
       "1       40 - 49 %       NaN  30 - 39 %      1           1       1989   \n",
       "2       40 - 49 %       NaN  30 - 39 %      0           1       1996   \n",
       "3             NaN       NaN        NaN      0           1       2000   \n",
       "4             NaN       NaN        NaN      1           1       1998   \n",
       "\n",
       "   Birthmonth  Target  \n",
       "0           5       0  \n",
       "1           4       1  \n",
       "2           7       1  \n",
       "3           1       0  \n",
       "4          12       0  \n",
       "\n",
       "[5 rows x 21 columns]"
      ]
     },
     "execution_count": 111,
     "metadata": {},
     "output_type": "execute_result"
    }
   ],
   "source": [
    "df = pd.read_csv(\"./Train.csv\")\n",
    "df.head()"
   ]
  },
  {
   "cell_type": "code",
   "execution_count": 140,
   "metadata": {},
   "outputs": [
    {
     "name": "stderr",
     "output_type": "stream",
     "text": [
      "/Users/aapoh/codes/ghp/zindi-piyipc/env-zindi/lib/python3.10/site-packages/seaborn/_oldcore.py:1498: FutureWarning: is_categorical_dtype is deprecated and will be removed in a future version. Use isinstance(dtype, CategoricalDtype) instead\n",
      "  if pd.api.types.is_categorical_dtype(vector):\n",
      "/Users/aapoh/codes/ghp/zindi-piyipc/env-zindi/lib/python3.10/site-packages/seaborn/_oldcore.py:1498: FutureWarning: is_categorical_dtype is deprecated and will be removed in a future version. Use isinstance(dtype, CategoricalDtype) instead\n",
      "  if pd.api.types.is_categorical_dtype(vector):\n",
      "/Users/aapoh/codes/ghp/zindi-piyipc/env-zindi/lib/python3.10/site-packages/seaborn/_oldcore.py:1498: FutureWarning: is_categorical_dtype is deprecated and will be removed in a future version. Use isinstance(dtype, CategoricalDtype) instead\n",
      "  if pd.api.types.is_categorical_dtype(vector):\n"
     ]
    },
    {
     "data": {
      "image/png": "[encoded data removed]",
      "text/plain": [
       "<Figure size 640x480 with 1 Axes>"
      ]
     },
     "metadata": {},
     "output_type": "display_data"
    }
   ],
   "source": [
    "sns.countplot(data=df, x=\"Target\")\n",
    "plt.show()"
   ]
  },
  {
   "cell_type": "code",
   "execution_count": 112,
   "metadata": {},
   "outputs": [
    {
     "data": {
      "text/plain": [
       "Index(['Person_id', 'Survey_date', 'Round', 'Status', 'Tenure', 'Geography',\n",
       "       'Province', 'Matric', 'Degree', 'Diploma', 'Schoolquintile', 'Math',\n",
       "       'Mathlit', 'Additional_lang', 'Home_lang', 'Science', 'Female',\n",
       "       'Sa_citizen', 'Birthyear', 'Birthmonth', 'Target'],\n",
       "      dtype='object')"
      ]
     },
     "execution_count": 112,
     "metadata": {},
     "output_type": "execute_result"
    }
   ],
   "source": [
    "df.columns"
   ]
  },
  {
   "cell_type": "code",
   "execution_count": 113,
   "metadata": {},
   "outputs": [
    {
     "data": {
      "text/plain": [
       "Person_id             0\n",
       "Survey_date           0\n",
       "Round                 0\n",
       "Status                0\n",
       "Tenure             1394\n",
       "Geography             0\n",
       "Province              0\n",
       "Matric             1008\n",
       "Degree             1831\n",
       "Diploma            1809\n",
       "Schoolquintile     1661\n",
       "Math               3023\n",
       "Mathlit            2667\n",
       "Additional_lang    2002\n",
       "Home_lang          3639\n",
       "Science            3288\n",
       "Female                0\n",
       "Sa_citizen            0\n",
       "Birthyear             0\n",
       "Birthmonth            0\n",
       "Target                0\n",
       "dtype: int64"
      ]
     },
     "execution_count": 113,
     "metadata": {},
     "output_type": "execute_result"
    }
   ],
   "source": [
    "# df.columns\n",
    "df.isnull().sum()"
   ]
  },
  {
   "cell_type": "code",
   "execution_count": 114,
   "metadata": {},
   "outputs": [],
   "source": [
    "null_columns = [\n",
    "    \"Tenure\",\n",
    "    \"Matric\",\n",
    "    \"Degree\",\n",
    "    \"Diploma\",\n",
    "    \"Schoolquintile\",\n",
    "    \"Math\",\n",
    "    \"Mathlit\",\n",
    "    \"Additional_lang\",\n",
    "    \"Home_lang\",\n",
    "    \"Science\",\n",
    "]\n",
    "\n",
    "not_null_columns = [ col for col in df.columns if col not in null_columns ]"
   ]
  },
  {
   "cell_type": "code",
   "execution_count": 115,
   "metadata": {},
   "outputs": [
    {
     "data": {
      "text/html": [
       "<div>\n",
       "<style scoped>\n",
       "    .dataframe tbody tr th:only-of-type {\n",
       "        vertical-align: middle;\n",
       "    }\n",
       "\n",
       "    .dataframe tbody tr th {\n",
       "        vertical-align: top;\n",
       "    }\n",
       "\n",
       "    .dataframe thead th {\n",
       "        text-align: right;\n",
       "    }\n",
       "</style>\n",
       "<table border=\"1\" class=\"dataframe\">\n",
       "  <thead>\n",
       "    <tr style=\"text-align: right;\">\n",
       "      <th></th>\n",
       "      <th>Person_id</th>\n",
       "      <th>Survey_date</th>\n",
       "      <th>Round</th>\n",
       "      <th>Status</th>\n",
       "      <th>Geography</th>\n",
       "      <th>Province</th>\n",
       "      <th>Female</th>\n",
       "      <th>Sa_citizen</th>\n",
       "      <th>Birthyear</th>\n",
       "      <th>Birthmonth</th>\n",
       "      <th>Target</th>\n",
       "    </tr>\n",
       "  </thead>\n",
       "  <tbody>\n",
       "    <tr>\n",
       "      <th>0</th>\n",
       "      <td>Id_eqz61wz7yn</td>\n",
       "      <td>2022-02-23</td>\n",
       "      <td>2</td>\n",
       "      <td>studying</td>\n",
       "      <td>Rural</td>\n",
       "      <td>Mpumalanga</td>\n",
       "      <td>1</td>\n",
       "      <td>1</td>\n",
       "      <td>2000</td>\n",
       "      <td>5</td>\n",
       "      <td>0</td>\n",
       "    </tr>\n",
       "    <tr>\n",
       "      <th>1</th>\n",
       "      <td>Id_kj5k3g5wud</td>\n",
       "      <td>2023-02-06</td>\n",
       "      <td>4</td>\n",
       "      <td>unemployed</td>\n",
       "      <td>Suburb</td>\n",
       "      <td>North West</td>\n",
       "      <td>1</td>\n",
       "      <td>1</td>\n",
       "      <td>1989</td>\n",
       "      <td>4</td>\n",
       "      <td>1</td>\n",
       "    </tr>\n",
       "    <tr>\n",
       "      <th>2</th>\n",
       "      <td>Id_9h0isj38y4</td>\n",
       "      <td>2022-08-08</td>\n",
       "      <td>3</td>\n",
       "      <td>other</td>\n",
       "      <td>Urban</td>\n",
       "      <td>Free State</td>\n",
       "      <td>0</td>\n",
       "      <td>1</td>\n",
       "      <td>1996</td>\n",
       "      <td>7</td>\n",
       "      <td>1</td>\n",
       "    </tr>\n",
       "    <tr>\n",
       "      <th>3</th>\n",
       "      <td>Id_5ch3zwpdef</td>\n",
       "      <td>2022-03-16</td>\n",
       "      <td>2</td>\n",
       "      <td>unemployed</td>\n",
       "      <td>Urban</td>\n",
       "      <td>Eastern Cape</td>\n",
       "      <td>0</td>\n",
       "      <td>1</td>\n",
       "      <td>2000</td>\n",
       "      <td>1</td>\n",
       "      <td>0</td>\n",
       "    </tr>\n",
       "    <tr>\n",
       "      <th>4</th>\n",
       "      <td>Id_g4elxibjej</td>\n",
       "      <td>2023-03-22</td>\n",
       "      <td>4</td>\n",
       "      <td>studying</td>\n",
       "      <td>Urban</td>\n",
       "      <td>Limpopo</td>\n",
       "      <td>1</td>\n",
       "      <td>1</td>\n",
       "      <td>1998</td>\n",
       "      <td>12</td>\n",
       "      <td>0</td>\n",
       "    </tr>\n",
       "  </tbody>\n",
       "</table>\n",
       "</div>"
      ],
      "text/plain": [
       "       Person_id Survey_date  Round      Status Geography      Province  \\\n",
       "0  Id_eqz61wz7yn  2022-02-23      2    studying     Rural    Mpumalanga   \n",
       "1  Id_kj5k3g5wud  2023-02-06      4  unemployed    Suburb    North West   \n",
       "2  Id_9h0isj38y4  2022-08-08      3       other     Urban    Free State   \n",
       "3  Id_5ch3zwpdef  2022-03-16      2  unemployed     Urban  Eastern Cape   \n",
       "4  Id_g4elxibjej  2023-03-22      4    studying     Urban       Limpopo   \n",
       "\n",
       "   Female  Sa_citizen  Birthyear  Birthmonth  Target  \n",
       "0       1           1       2000           5       0  \n",
       "1       1           1       1989           4       1  \n",
       "2       0           1       1996           7       1  \n",
       "3       0           1       2000           1       0  \n",
       "4       1           1       1998          12       0  "
      ]
     },
     "execution_count": 115,
     "metadata": {},
     "output_type": "execute_result"
    }
   ],
   "source": [
    "df = df[ not_null_columns ]\n",
    "df.head()"
   ]
  },
  {
   "cell_type": "code",
   "execution_count": 116,
   "metadata": {},
   "outputs": [
    {
     "data": {
      "text/plain": [
       "{'studying': 0,\n",
       " 'unemployed': 1,\n",
       " 'other': 2,\n",
       " 'wage employed': 3,\n",
       " 'self employed': 4,\n",
       " 'employment programme': 5,\n",
       " 'wage and self employed': 6}"
      ]
     },
     "execution_count": 116,
     "metadata": {},
     "output_type": "execute_result"
    }
   ],
   "source": [
    "status_col_coded = {status: index for index, status in enumerate(df['Status'].unique()) }\n",
    "status_col_coded"
   ]
  },
  {
   "cell_type": "code",
   "execution_count": 117,
   "metadata": {},
   "outputs": [
    {
     "data": {
      "text/plain": [
       "{'Rural': 0, 'Suburb': 1, 'Urban': 2}"
      ]
     },
     "execution_count": 117,
     "metadata": {},
     "output_type": "execute_result"
    }
   ],
   "source": [
    "geography_col_coded = {status:index for index, status in enumerate(df['Geography'].unique())}\n",
    "geography_col_coded"
   ]
  },
  {
   "cell_type": "code",
   "execution_count": 118,
   "metadata": {},
   "outputs": [
    {
     "data": {
      "text/plain": [
       "{'Mpumalanga': 0,\n",
       " 'North West': 1,\n",
       " 'Free State': 2,\n",
       " 'Eastern Cape': 3,\n",
       " 'Limpopo': 4,\n",
       " 'KwaZulu-Natal': 5,\n",
       " 'Gauteng': 6,\n",
       " 'Western Cape': 7,\n",
       " 'Northern Cape': 8}"
      ]
     },
     "execution_count": 118,
     "metadata": {},
     "output_type": "execute_result"
    }
   ],
   "source": [
    "province_col_coded = { status: index for index, status in enumerate(df['Province'].unique()) }\n",
    "province_col_coded"
   ]
  },
  {
   "cell_type": "code",
   "execution_count": 119,
   "metadata": {},
   "outputs": [
    {
     "data": {
      "text/html": [
       "<div>\n",
       "<style scoped>\n",
       "    .dataframe tbody tr th:only-of-type {\n",
       "        vertical-align: middle;\n",
       "    }\n",
       "\n",
       "    .dataframe tbody tr th {\n",
       "        vertical-align: top;\n",
       "    }\n",
       "\n",
       "    .dataframe thead th {\n",
       "        text-align: right;\n",
       "    }\n",
       "</style>\n",
       "<table border=\"1\" class=\"dataframe\">\n",
       "  <thead>\n",
       "    <tr style=\"text-align: right;\">\n",
       "      <th></th>\n",
       "      <th>Person_id</th>\n",
       "      <th>Survey_date</th>\n",
       "      <th>Round</th>\n",
       "      <th>Status</th>\n",
       "      <th>Geography</th>\n",
       "      <th>Province</th>\n",
       "      <th>Female</th>\n",
       "      <th>Sa_citizen</th>\n",
       "      <th>Birthyear</th>\n",
       "      <th>Birthmonth</th>\n",
       "      <th>Target</th>\n",
       "    </tr>\n",
       "  </thead>\n",
       "  <tbody>\n",
       "    <tr>\n",
       "      <th>0</th>\n",
       "      <td>Id_eqz61wz7yn</td>\n",
       "      <td>2022-02-23</td>\n",
       "      <td>2</td>\n",
       "      <td>studying</td>\n",
       "      <td>Rural</td>\n",
       "      <td>Mpumalanga</td>\n",
       "      <td>1</td>\n",
       "      <td>1</td>\n",
       "      <td>2000</td>\n",
       "      <td>5</td>\n",
       "      <td>0</td>\n",
       "    </tr>\n",
       "    <tr>\n",
       "      <th>1</th>\n",
       "      <td>Id_kj5k3g5wud</td>\n",
       "      <td>2023-02-06</td>\n",
       "      <td>4</td>\n",
       "      <td>unemployed</td>\n",
       "      <td>Suburb</td>\n",
       "      <td>North West</td>\n",
       "      <td>1</td>\n",
       "      <td>1</td>\n",
       "      <td>1989</td>\n",
       "      <td>4</td>\n",
       "      <td>1</td>\n",
       "    </tr>\n",
       "    <tr>\n",
       "      <th>2</th>\n",
       "      <td>Id_9h0isj38y4</td>\n",
       "      <td>2022-08-08</td>\n",
       "      <td>3</td>\n",
       "      <td>other</td>\n",
       "      <td>Urban</td>\n",
       "      <td>Free State</td>\n",
       "      <td>0</td>\n",
       "      <td>1</td>\n",
       "      <td>1996</td>\n",
       "      <td>7</td>\n",
       "      <td>1</td>\n",
       "    </tr>\n",
       "    <tr>\n",
       "      <th>3</th>\n",
       "      <td>Id_5ch3zwpdef</td>\n",
       "      <td>2022-03-16</td>\n",
       "      <td>2</td>\n",
       "      <td>unemployed</td>\n",
       "      <td>Urban</td>\n",
       "      <td>Eastern Cape</td>\n",
       "      <td>0</td>\n",
       "      <td>1</td>\n",
       "      <td>2000</td>\n",
       "      <td>1</td>\n",
       "      <td>0</td>\n",
       "    </tr>\n",
       "    <tr>\n",
       "      <th>4</th>\n",
       "      <td>Id_g4elxibjej</td>\n",
       "      <td>2023-03-22</td>\n",
       "      <td>4</td>\n",
       "      <td>studying</td>\n",
       "      <td>Urban</td>\n",
       "      <td>Limpopo</td>\n",
       "      <td>1</td>\n",
       "      <td>1</td>\n",
       "      <td>1998</td>\n",
       "      <td>12</td>\n",
       "      <td>0</td>\n",
       "    </tr>\n",
       "  </tbody>\n",
       "</table>\n",
       "</div>"
      ],
      "text/plain": [
       "       Person_id Survey_date  Round      Status Geography      Province  \\\n",
       "0  Id_eqz61wz7yn  2022-02-23      2    studying     Rural    Mpumalanga   \n",
       "1  Id_kj5k3g5wud  2023-02-06      4  unemployed    Suburb    North West   \n",
       "2  Id_9h0isj38y4  2022-08-08      3       other     Urban    Free State   \n",
       "3  Id_5ch3zwpdef  2022-03-16      2  unemployed     Urban  Eastern Cape   \n",
       "4  Id_g4elxibjej  2023-03-22      4    studying     Urban       Limpopo   \n",
       "\n",
       "   Female  Sa_citizen  Birthyear  Birthmonth  Target  \n",
       "0       1           1       2000           5       0  \n",
       "1       1           1       1989           4       1  \n",
       "2       0           1       1996           7       1  \n",
       "3       0           1       2000           1       0  \n",
       "4       1           1       1998          12       0  "
      ]
     },
     "execution_count": 119,
     "metadata": {},
     "output_type": "execute_result"
    }
   ],
   "source": [
    "data = df.copy()\n",
    "data.head()"
   ]
  },
  {
   "cell_type": "code",
   "execution_count": 120,
   "metadata": {},
   "outputs": [
    {
     "data": {
      "text/html": [
       "<div>\n",
       "<style scoped>\n",
       "    .dataframe tbody tr th:only-of-type {\n",
       "        vertical-align: middle;\n",
       "    }\n",
       "\n",
       "    .dataframe tbody tr th {\n",
       "        vertical-align: top;\n",
       "    }\n",
       "\n",
       "    .dataframe thead th {\n",
       "        text-align: right;\n",
       "    }\n",
       "</style>\n",
       "<table border=\"1\" class=\"dataframe\">\n",
       "  <thead>\n",
       "    <tr style=\"text-align: right;\">\n",
       "      <th></th>\n",
       "      <th>Person_id</th>\n",
       "      <th>Survey_date</th>\n",
       "      <th>Round</th>\n",
       "      <th>Status</th>\n",
       "      <th>Geography</th>\n",
       "      <th>Province</th>\n",
       "      <th>Female</th>\n",
       "      <th>Sa_citizen</th>\n",
       "      <th>Birthyear</th>\n",
       "      <th>Birthmonth</th>\n",
       "      <th>Target</th>\n",
       "    </tr>\n",
       "  </thead>\n",
       "  <tbody>\n",
       "    <tr>\n",
       "      <th>0</th>\n",
       "      <td>Id_eqz61wz7yn</td>\n",
       "      <td>2022-02-23</td>\n",
       "      <td>2</td>\n",
       "      <td>0</td>\n",
       "      <td>0</td>\n",
       "      <td>0</td>\n",
       "      <td>1</td>\n",
       "      <td>1</td>\n",
       "      <td>2000</td>\n",
       "      <td>5</td>\n",
       "      <td>0</td>\n",
       "    </tr>\n",
       "    <tr>\n",
       "      <th>1</th>\n",
       "      <td>Id_kj5k3g5wud</td>\n",
       "      <td>2023-02-06</td>\n",
       "      <td>4</td>\n",
       "      <td>1</td>\n",
       "      <td>1</td>\n",
       "      <td>1</td>\n",
       "      <td>1</td>\n",
       "      <td>1</td>\n",
       "      <td>1989</td>\n",
       "      <td>4</td>\n",
       "      <td>1</td>\n",
       "    </tr>\n",
       "    <tr>\n",
       "      <th>2</th>\n",
       "      <td>Id_9h0isj38y4</td>\n",
       "      <td>2022-08-08</td>\n",
       "      <td>3</td>\n",
       "      <td>2</td>\n",
       "      <td>2</td>\n",
       "      <td>2</td>\n",
       "      <td>0</td>\n",
       "      <td>1</td>\n",
       "      <td>1996</td>\n",
       "      <td>7</td>\n",
       "      <td>1</td>\n",
       "    </tr>\n",
       "    <tr>\n",
       "      <th>3</th>\n",
       "      <td>Id_5ch3zwpdef</td>\n",
       "      <td>2022-03-16</td>\n",
       "      <td>2</td>\n",
       "      <td>1</td>\n",
       "      <td>2</td>\n",
       "      <td>3</td>\n",
       "      <td>0</td>\n",
       "      <td>1</td>\n",
       "      <td>2000</td>\n",
       "      <td>1</td>\n",
       "      <td>0</td>\n",
       "    </tr>\n",
       "    <tr>\n",
       "      <th>4</th>\n",
       "      <td>Id_g4elxibjej</td>\n",
       "      <td>2023-03-22</td>\n",
       "      <td>4</td>\n",
       "      <td>0</td>\n",
       "      <td>2</td>\n",
       "      <td>4</td>\n",
       "      <td>1</td>\n",
       "      <td>1</td>\n",
       "      <td>1998</td>\n",
       "      <td>12</td>\n",
       "      <td>0</td>\n",
       "    </tr>\n",
       "  </tbody>\n",
       "</table>\n",
       "</div>"
      ],
      "text/plain": [
       "       Person_id Survey_date  Round  Status  Geography  Province  Female  \\\n",
       "0  Id_eqz61wz7yn  2022-02-23      2       0          0         0       1   \n",
       "1  Id_kj5k3g5wud  2023-02-06      4       1          1         1       1   \n",
       "2  Id_9h0isj38y4  2022-08-08      3       2          2         2       0   \n",
       "3  Id_5ch3zwpdef  2022-03-16      2       1          2         3       0   \n",
       "4  Id_g4elxibjej  2023-03-22      4       0          2         4       1   \n",
       "\n",
       "   Sa_citizen  Birthyear  Birthmonth  Target  \n",
       "0           1       2000           5       0  \n",
       "1           1       1989           4       1  \n",
       "2           1       1996           7       1  \n",
       "3           1       2000           1       0  \n",
       "4           1       1998          12       0  "
      ]
     },
     "execution_count": 120,
     "metadata": {},
     "output_type": "execute_result"
    }
   ],
   "source": [
    "data['Status'] : pd.DataFrame = df['Status'].map(status_col_coded)\n",
    "data['Geography'] : pd.DataFrame = df['Geography'].map(geography_col_coded)\n",
    "data['Province'] : pd.DataFrame = df['Province'].map(province_col_coded)\n",
    "data.head()"
   ]
  },
  {
   "cell_type": "code",
   "execution_count": 121,
   "metadata": {},
   "outputs": [
    {
     "data": {
      "text/plain": [
       "['Round', 'Status', 'Geography', 'Province', 'Female', 'Sa_citizen']"
      ]
     },
     "execution_count": 121,
     "metadata": {},
     "output_type": "execute_result"
    }
   ],
   "source": [
    "train_cols = [\n",
    "    \"Round\",\n",
    "    \"Status\",\n",
    "    \"Geography\",\n",
    "    \"Province\",\n",
    "    \"Female\",\n",
    "    \"Sa_citizen\",\n",
    "    # \"Birthyear\",\n",
    "    # \"Birthmonth\",\n",
    "]\n",
    "train_cols"
   ]
  },
  {
   "cell_type": "code",
   "execution_count": 122,
   "metadata": {},
   "outputs": [
    {
     "data": {
      "text/plain": [
       "((2814, 6), (1206, 6), (2814,), (1206,))"
      ]
     },
     "execution_count": 122,
     "metadata": {},
     "output_type": "execute_result"
    }
   ],
   "source": [
    "x_train, x_test, y_train, y_test = train_test_split(data[train_cols], data['Target'], test_size=.3, random_state=424 )\n",
    "x_train.shape, x_test.shape, y_train.shape, y_test.shape"
   ]
  },
  {
   "cell_type": "markdown",
   "metadata": {},
   "source": [
    "### Testing Data"
   ]
  },
  {
   "cell_type": "code",
   "execution_count": 123,
   "metadata": {},
   "outputs": [
    {
     "data": {
      "text/html": [
       "<div>\n",
       "<style scoped>\n",
       "    .dataframe tbody tr th:only-of-type {\n",
       "        vertical-align: middle;\n",
       "    }\n",
       "\n",
       "    .dataframe tbody tr th {\n",
       "        vertical-align: top;\n",
       "    }\n",
       "\n",
       "    .dataframe thead th {\n",
       "        text-align: right;\n",
       "    }\n",
       "</style>\n",
       "<table border=\"1\" class=\"dataframe\">\n",
       "  <thead>\n",
       "    <tr style=\"text-align: right;\">\n",
       "      <th></th>\n",
       "      <th>Person_id</th>\n",
       "      <th>Survey_date</th>\n",
       "      <th>Round</th>\n",
       "      <th>Status</th>\n",
       "      <th>Tenure</th>\n",
       "      <th>Geography</th>\n",
       "      <th>Province</th>\n",
       "      <th>Matric</th>\n",
       "      <th>Degree</th>\n",
       "      <th>Diploma</th>\n",
       "      <th>Schoolquintile</th>\n",
       "      <th>Math</th>\n",
       "      <th>Mathlit</th>\n",
       "      <th>Additional_lang</th>\n",
       "      <th>Home_lang</th>\n",
       "      <th>Science</th>\n",
       "      <th>Female</th>\n",
       "      <th>Sa_citizen</th>\n",
       "      <th>Birthyear</th>\n",
       "      <th>Birthmonth</th>\n",
       "    </tr>\n",
       "  </thead>\n",
       "  <tbody>\n",
       "    <tr>\n",
       "      <th>0</th>\n",
       "      <td>Id_r90136smvl</td>\n",
       "      <td>2022-08-03</td>\n",
       "      <td>3</td>\n",
       "      <td>other</td>\n",
       "      <td>NaN</td>\n",
       "      <td>Urban</td>\n",
       "      <td>KwaZulu-Natal</td>\n",
       "      <td>1.0</td>\n",
       "      <td>0.0</td>\n",
       "      <td>0.0</td>\n",
       "      <td>2.0</td>\n",
       "      <td>0 - 29 %</td>\n",
       "      <td>NaN</td>\n",
       "      <td>50 - 59 %</td>\n",
       "      <td>NaN</td>\n",
       "      <td>40 - 49 %</td>\n",
       "      <td>0</td>\n",
       "      <td>1</td>\n",
       "      <td>2002</td>\n",
       "      <td>12</td>\n",
       "    </tr>\n",
       "    <tr>\n",
       "      <th>1</th>\n",
       "      <td>Id_wawdqhmu6s</td>\n",
       "      <td>2023-03-16</td>\n",
       "      <td>4</td>\n",
       "      <td>unemployed</td>\n",
       "      <td>979.0</td>\n",
       "      <td>Urban</td>\n",
       "      <td>Western Cape</td>\n",
       "      <td>1.0</td>\n",
       "      <td>0.0</td>\n",
       "      <td>0.0</td>\n",
       "      <td>NaN</td>\n",
       "      <td>NaN</td>\n",
       "      <td>NaN</td>\n",
       "      <td>40 - 49 %</td>\n",
       "      <td>NaN</td>\n",
       "      <td>NaN</td>\n",
       "      <td>1</td>\n",
       "      <td>1</td>\n",
       "      <td>1989</td>\n",
       "      <td>12</td>\n",
       "    </tr>\n",
       "    <tr>\n",
       "      <th>2</th>\n",
       "      <td>Id_ap2czff2bu</td>\n",
       "      <td>2023-03-14</td>\n",
       "      <td>4</td>\n",
       "      <td>unemployed</td>\n",
       "      <td>339.0</td>\n",
       "      <td>Urban</td>\n",
       "      <td>KwaZulu-Natal</td>\n",
       "      <td>0.0</td>\n",
       "      <td>0.0</td>\n",
       "      <td>0.0</td>\n",
       "      <td>1.0</td>\n",
       "      <td>NaN</td>\n",
       "      <td>NaN</td>\n",
       "      <td>NaN</td>\n",
       "      <td>NaN</td>\n",
       "      <td>NaN</td>\n",
       "      <td>1</td>\n",
       "      <td>1</td>\n",
       "      <td>1989</td>\n",
       "      <td>12</td>\n",
       "    </tr>\n",
       "    <tr>\n",
       "      <th>3</th>\n",
       "      <td>Id_uhgink7iha</td>\n",
       "      <td>2023-02-16</td>\n",
       "      <td>4</td>\n",
       "      <td>studying</td>\n",
       "      <td>NaN</td>\n",
       "      <td>Urban</td>\n",
       "      <td>Gauteng</td>\n",
       "      <td>1.0</td>\n",
       "      <td>0.0</td>\n",
       "      <td>0.0</td>\n",
       "      <td>1.0</td>\n",
       "      <td>NaN</td>\n",
       "      <td>80 - 100 %</td>\n",
       "      <td>60 - 69 %</td>\n",
       "      <td>NaN</td>\n",
       "      <td>NaN</td>\n",
       "      <td>0</td>\n",
       "      <td>1</td>\n",
       "      <td>2002</td>\n",
       "      <td>11</td>\n",
       "    </tr>\n",
       "    <tr>\n",
       "      <th>4</th>\n",
       "      <td>Id_5j6bzk3k81</td>\n",
       "      <td>2023-03-23</td>\n",
       "      <td>4</td>\n",
       "      <td>unemployed</td>\n",
       "      <td>613.0</td>\n",
       "      <td>Urban</td>\n",
       "      <td>Gauteng</td>\n",
       "      <td>0.0</td>\n",
       "      <td>0.0</td>\n",
       "      <td>0.0</td>\n",
       "      <td>5.0</td>\n",
       "      <td>NaN</td>\n",
       "      <td>NaN</td>\n",
       "      <td>NaN</td>\n",
       "      <td>NaN</td>\n",
       "      <td>NaN</td>\n",
       "      <td>1</td>\n",
       "      <td>1</td>\n",
       "      <td>1993</td>\n",
       "      <td>10</td>\n",
       "    </tr>\n",
       "  </tbody>\n",
       "</table>\n",
       "</div>"
      ],
      "text/plain": [
       "       Person_id Survey_date  Round      Status  Tenure Geography  \\\n",
       "0  Id_r90136smvl  2022-08-03      3       other     NaN     Urban   \n",
       "1  Id_wawdqhmu6s  2023-03-16      4  unemployed   979.0     Urban   \n",
       "2  Id_ap2czff2bu  2023-03-14      4  unemployed   339.0     Urban   \n",
       "3  Id_uhgink7iha  2023-02-16      4    studying     NaN     Urban   \n",
       "4  Id_5j6bzk3k81  2023-03-23      4  unemployed   613.0     Urban   \n",
       "\n",
       "        Province  Matric  Degree  Diploma  Schoolquintile      Math  \\\n",
       "0  KwaZulu-Natal     1.0     0.0      0.0             2.0  0 - 29 %   \n",
       "1   Western Cape     1.0     0.0      0.0             NaN       NaN   \n",
       "2  KwaZulu-Natal     0.0     0.0      0.0             1.0       NaN   \n",
       "3        Gauteng     1.0     0.0      0.0             1.0       NaN   \n",
       "4        Gauteng     0.0     0.0      0.0             5.0       NaN   \n",
       "\n",
       "      Mathlit Additional_lang Home_lang    Science  Female  Sa_citizen  \\\n",
       "0         NaN       50 - 59 %       NaN  40 - 49 %       0           1   \n",
       "1         NaN       40 - 49 %       NaN        NaN       1           1   \n",
       "2         NaN             NaN       NaN        NaN       1           1   \n",
       "3  80 - 100 %       60 - 69 %       NaN        NaN       0           1   \n",
       "4         NaN             NaN       NaN        NaN       1           1   \n",
       "\n",
       "   Birthyear  Birthmonth  \n",
       "0       2002          12  \n",
       "1       1989          12  \n",
       "2       1989          12  \n",
       "3       2002          11  \n",
       "4       1993          10  "
      ]
     },
     "execution_count": 123,
     "metadata": {},
     "output_type": "execute_result"
    }
   ],
   "source": [
    "test_df = pd.read_csv(\"./Test.csv\")\n",
    "test_df.head()"
   ]
  },
  {
   "cell_type": "code",
   "execution_count": 124,
   "metadata": {},
   "outputs": [
    {
     "data": {
      "text/html": [
       "<div>\n",
       "<style scoped>\n",
       "    .dataframe tbody tr th:only-of-type {\n",
       "        vertical-align: middle;\n",
       "    }\n",
       "\n",
       "    .dataframe tbody tr th {\n",
       "        vertical-align: top;\n",
       "    }\n",
       "\n",
       "    .dataframe thead th {\n",
       "        text-align: right;\n",
       "    }\n",
       "</style>\n",
       "<table border=\"1\" class=\"dataframe\">\n",
       "  <thead>\n",
       "    <tr style=\"text-align: right;\">\n",
       "      <th></th>\n",
       "      <th>Round</th>\n",
       "      <th>Status</th>\n",
       "      <th>Geography</th>\n",
       "      <th>Province</th>\n",
       "      <th>Female</th>\n",
       "      <th>Sa_citizen</th>\n",
       "    </tr>\n",
       "  </thead>\n",
       "  <tbody>\n",
       "    <tr>\n",
       "      <th>0</th>\n",
       "      <td>3</td>\n",
       "      <td>other</td>\n",
       "      <td>Urban</td>\n",
       "      <td>KwaZulu-Natal</td>\n",
       "      <td>0</td>\n",
       "      <td>1</td>\n",
       "    </tr>\n",
       "    <tr>\n",
       "      <th>1</th>\n",
       "      <td>4</td>\n",
       "      <td>unemployed</td>\n",
       "      <td>Urban</td>\n",
       "      <td>Western Cape</td>\n",
       "      <td>1</td>\n",
       "      <td>1</td>\n",
       "    </tr>\n",
       "    <tr>\n",
       "      <th>2</th>\n",
       "      <td>4</td>\n",
       "      <td>unemployed</td>\n",
       "      <td>Urban</td>\n",
       "      <td>KwaZulu-Natal</td>\n",
       "      <td>1</td>\n",
       "      <td>1</td>\n",
       "    </tr>\n",
       "    <tr>\n",
       "      <th>3</th>\n",
       "      <td>4</td>\n",
       "      <td>studying</td>\n",
       "      <td>Urban</td>\n",
       "      <td>Gauteng</td>\n",
       "      <td>0</td>\n",
       "      <td>1</td>\n",
       "    </tr>\n",
       "    <tr>\n",
       "      <th>4</th>\n",
       "      <td>4</td>\n",
       "      <td>unemployed</td>\n",
       "      <td>Urban</td>\n",
       "      <td>Gauteng</td>\n",
       "      <td>1</td>\n",
       "      <td>1</td>\n",
       "    </tr>\n",
       "  </tbody>\n",
       "</table>\n",
       "</div>"
      ],
      "text/plain": [
       "   Round      Status Geography       Province  Female  Sa_citizen\n",
       "0      3       other     Urban  KwaZulu-Natal       0           1\n",
       "1      4  unemployed     Urban   Western Cape       1           1\n",
       "2      4  unemployed     Urban  KwaZulu-Natal       1           1\n",
       "3      4    studying     Urban        Gauteng       0           1\n",
       "4      4  unemployed     Urban        Gauteng       1           1"
      ]
     },
     "execution_count": 124,
     "metadata": {},
     "output_type": "execute_result"
    }
   ],
   "source": [
    "test_data = test_df[train_cols]\n",
    "test_data.head()"
   ]
  },
  {
   "cell_type": "code",
   "execution_count": 125,
   "metadata": {},
   "outputs": [
    {
     "data": {
      "text/plain": [
       "(9,)"
      ]
     },
     "execution_count": 125,
     "metadata": {},
     "output_type": "execute_result"
    }
   ],
   "source": [
    "test_data['Province'].unique().shape"
   ]
  },
  {
   "cell_type": "code",
   "execution_count": 126,
   "metadata": {},
   "outputs": [
    {
     "name": "stderr",
     "output_type": "stream",
     "text": [
      "/var/folders/0r/13xz5g6j45589319bn94k47w0000gn/T/ipykernel_31197/1795041406.py:1: SettingWithCopyWarning: \n",
      "A value is trying to be set on a copy of a slice from a DataFrame.\n",
      "Try using .loc[row_indexer,col_indexer] = value instead\n",
      "\n",
      "See the caveats in the documentation: https://pandas.pydata.org/pandas-docs/stable/user_guide/indexing.html#returning-a-view-versus-a-copy\n",
      "  test_data['Geography'] = test_data['Geography'].map(geography_col_coded)\n",
      "/var/folders/0r/13xz5g6j45589319bn94k47w0000gn/T/ipykernel_31197/1795041406.py:2: SettingWithCopyWarning: \n",
      "A value is trying to be set on a copy of a slice from a DataFrame.\n",
      "Try using .loc[row_indexer,col_indexer] = value instead\n",
      "\n",
      "See the caveats in the documentation: https://pandas.pydata.org/pandas-docs/stable/user_guide/indexing.html#returning-a-view-versus-a-copy\n",
      "  test_data['Province'] = test_data['Province'].map(province_col_coded)\n",
      "/var/folders/0r/13xz5g6j45589319bn94k47w0000gn/T/ipykernel_31197/1795041406.py:3: SettingWithCopyWarning: \n",
      "A value is trying to be set on a copy of a slice from a DataFrame.\n",
      "Try using .loc[row_indexer,col_indexer] = value instead\n",
      "\n",
      "See the caveats in the documentation: https://pandas.pydata.org/pandas-docs/stable/user_guide/indexing.html#returning-a-view-versus-a-copy\n",
      "  test_data['Status'] = test_data['Status'].map(status_col_coded)\n"
     ]
    }
   ],
   "source": [
    "test_data['Geography'] = test_data['Geography'].map(geography_col_coded)\n",
    "test_data['Province'] = test_data['Province'].map(province_col_coded)\n",
    "test_data['Status'] = test_data['Status'].map(status_col_coded)"
   ]
  },
  {
   "cell_type": "code",
   "execution_count": 127,
   "metadata": {},
   "outputs": [
    {
     "data": {
      "text/html": [
       "<div>\n",
       "<style scoped>\n",
       "    .dataframe tbody tr th:only-of-type {\n",
       "        vertical-align: middle;\n",
       "    }\n",
       "\n",
       "    .dataframe tbody tr th {\n",
       "        vertical-align: top;\n",
       "    }\n",
       "\n",
       "    .dataframe thead th {\n",
       "        text-align: right;\n",
       "    }\n",
       "</style>\n",
       "<table border=\"1\" class=\"dataframe\">\n",
       "  <thead>\n",
       "    <tr style=\"text-align: right;\">\n",
       "      <th></th>\n",
       "      <th>Round</th>\n",
       "      <th>Status</th>\n",
       "      <th>Geography</th>\n",
       "      <th>Province</th>\n",
       "      <th>Female</th>\n",
       "      <th>Sa_citizen</th>\n",
       "    </tr>\n",
       "  </thead>\n",
       "  <tbody>\n",
       "    <tr>\n",
       "      <th>0</th>\n",
       "      <td>3</td>\n",
       "      <td>2</td>\n",
       "      <td>2</td>\n",
       "      <td>5</td>\n",
       "      <td>0</td>\n",
       "      <td>1</td>\n",
       "    </tr>\n",
       "    <tr>\n",
       "      <th>1</th>\n",
       "      <td>4</td>\n",
       "      <td>1</td>\n",
       "      <td>2</td>\n",
       "      <td>7</td>\n",
       "      <td>1</td>\n",
       "      <td>1</td>\n",
       "    </tr>\n",
       "    <tr>\n",
       "      <th>2</th>\n",
       "      <td>4</td>\n",
       "      <td>1</td>\n",
       "      <td>2</td>\n",
       "      <td>5</td>\n",
       "      <td>1</td>\n",
       "      <td>1</td>\n",
       "    </tr>\n",
       "    <tr>\n",
       "      <th>3</th>\n",
       "      <td>4</td>\n",
       "      <td>0</td>\n",
       "      <td>2</td>\n",
       "      <td>6</td>\n",
       "      <td>0</td>\n",
       "      <td>1</td>\n",
       "    </tr>\n",
       "    <tr>\n",
       "      <th>4</th>\n",
       "      <td>4</td>\n",
       "      <td>1</td>\n",
       "      <td>2</td>\n",
       "      <td>6</td>\n",
       "      <td>1</td>\n",
       "      <td>1</td>\n",
       "    </tr>\n",
       "  </tbody>\n",
       "</table>\n",
       "</div>"
      ],
      "text/plain": [
       "   Round  Status  Geography  Province  Female  Sa_citizen\n",
       "0      3       2          2         5       0           1\n",
       "1      4       1          2         7       1           1\n",
       "2      4       1          2         5       1           1\n",
       "3      4       0          2         6       0           1\n",
       "4      4       1          2         6       1           1"
      ]
     },
     "execution_count": 127,
     "metadata": {},
     "output_type": "execute_result"
    }
   ],
   "source": [
    "test_data.head()"
   ]
  },
  {
   "cell_type": "markdown",
   "metadata": {},
   "source": [
    "### Models"
   ]
  },
  {
   "cell_type": "markdown",
   "metadata": {},
   "source": [
    "#### Decision Trees"
   ]
  },
  {
   "cell_type": "code",
   "execution_count": 128,
   "metadata": {},
   "outputs": [
    {
     "name": "stdout",
     "output_type": "stream",
     "text": [
      "{'criterion': 'gini', 'max_depth': 5, 'min_samples_leaf': 4, 'min_samples_split': 2}\n",
      "\n",
      "\n",
      "DecisionTreeClassifier(max_depth=5, min_samples_leaf=4)\n"
     ]
    }
   ],
   "source": [
    "grid_search_params = {\n",
    "    \"criterion\": [\"gini\", \"entropy\"],\n",
    "    \"max_depth\": [None, 5, 10, 15, 20],\n",
    "    \"min_samples_split\": [2, 5, 10],\n",
    "    \"min_samples_leaf\": [1, 2, 4],\n",
    "}\n",
    "\n",
    "cls_dt = DecisionTreeClassifier()\n",
    "\n",
    "grid_search = GridSearchCV(\n",
    "    estimator=cls_dt, param_grid=grid_search_params, cv=10, scoring=\"accuracy\"\n",
    ")\n",
    "\n",
    "grid_search.fit(x_train, y_train)\n",
    "\n",
    "print(f\"{grid_search.best_params_}\\n\\n\")\n",
    "print(f\"{grid_search.best_estimator_}\")"
   ]
  },
  {
   "cell_type": "code",
   "execution_count": 129,
   "metadata": {},
   "outputs": [
    {
     "name": "stdout",
     "output_type": "stream",
     "text": [
      "mean score: 0.8088286514727038\n"
     ]
    }
   ],
   "source": [
    "dt = DecisionTreeClassifier(criterion=\"gini\", max_depth=5, min_samples_leaf=4, min_samples_split=2)\n",
    "# dt = DecisionTreeClassifier(max_depth=10, min_samples_leaf=4, min_samples_split=5)\n",
    "\n",
    "cv = StratifiedKFold(random_state=42, n_splits=10, shuffle=True)\n",
    "\n",
    "scores = cross_val_score(dt, x_train, y_train, cv=cv, scoring=\"accuracy\")\n",
    "\n",
    "print(f\"mean score: {scores.mean()}\")"
   ]
  },
  {
   "cell_type": "code",
   "execution_count": 130,
   "metadata": {},
   "outputs": [
    {
     "data": {
      "text/plain": [
       "array([1, 0, 0, ..., 0, 0, 1])"
      ]
     },
     "execution_count": 130,
     "metadata": {},
     "output_type": "execute_result"
    }
   ],
   "source": [
    "dt.fit(x_train, y_train)\n",
    "predictions = dt.predict(x_test)\n",
    "predictions"
   ]
  },
  {
   "cell_type": "markdown",
   "metadata": {},
   "source": [
    "### Metrics"
   ]
  },
  {
   "cell_type": "code",
   "execution_count": 131,
   "metadata": {},
   "outputs": [
    {
     "name": "stdout",
     "output_type": "stream",
     "text": [
      "              precision    recall  f1-score   support\n",
      "\n",
      "           0       0.82      0.95      0.88       869\n",
      "           1       0.78      0.46      0.58       337\n",
      "\n",
      "    accuracy                           0.81      1206\n",
      "   macro avg       0.80      0.71      0.73      1206\n",
      "weighted avg       0.81      0.81      0.80      1206\n",
      "\n"
     ]
    }
   ],
   "source": [
    "print( classification_report(y_test, predictions, zero_division=1))"
   ]
  },
  {
   "cell_type": "code",
   "execution_count": 132,
   "metadata": {},
   "outputs": [
    {
     "data": {
      "text/plain": [
       "0.8126036484245439"
      ]
     },
     "execution_count": 132,
     "metadata": {},
     "output_type": "execute_result"
    }
   ],
   "source": [
    "accuracy_score(y_test, predictions)"
   ]
  },
  {
   "cell_type": "code",
   "execution_count": 133,
   "metadata": {},
   "outputs": [
    {
     "data": {
      "text/plain": [
       "0.5799256505576208"
      ]
     },
     "execution_count": 133,
     "metadata": {},
     "output_type": "execute_result"
    }
   ],
   "source": [
    "f1_score(y_test, predictions)"
   ]
  },
  {
   "cell_type": "markdown",
   "metadata": {},
   "source": [
    "### Test Data Eval"
   ]
  },
  {
   "cell_type": "code",
   "execution_count": 134,
   "metadata": {},
   "outputs": [
    {
     "data": {
      "text/plain": [
       "array([1, 0, 0, ..., 0, 0, 0])"
      ]
     },
     "execution_count": 134,
     "metadata": {},
     "output_type": "execute_result"
    }
   ],
   "source": [
    "test_eval = dt.predict(test_data)\n",
    "test_eval"
   ]
  },
  {
   "cell_type": "code",
   "execution_count": 135,
   "metadata": {},
   "outputs": [
    {
     "data": {
      "text/html": [
       "<div>\n",
       "<style scoped>\n",
       "    .dataframe tbody tr th:only-of-type {\n",
       "        vertical-align: middle;\n",
       "    }\n",
       "\n",
       "    .dataframe tbody tr th {\n",
       "        vertical-align: top;\n",
       "    }\n",
       "\n",
       "    .dataframe thead th {\n",
       "        text-align: right;\n",
       "    }\n",
       "</style>\n",
       "<table border=\"1\" class=\"dataframe\">\n",
       "  <thead>\n",
       "    <tr style=\"text-align: right;\">\n",
       "      <th></th>\n",
       "      <th>ID</th>\n",
       "      <th>Target</th>\n",
       "    </tr>\n",
       "  </thead>\n",
       "  <tbody>\n",
       "    <tr>\n",
       "      <th>0</th>\n",
       "      <td>Id_r90136smvl</td>\n",
       "      <td>1</td>\n",
       "    </tr>\n",
       "    <tr>\n",
       "      <th>1</th>\n",
       "      <td>Id_wawdqhmu6s</td>\n",
       "      <td>0</td>\n",
       "    </tr>\n",
       "    <tr>\n",
       "      <th>2</th>\n",
       "      <td>Id_ap2czff2bu</td>\n",
       "      <td>0</td>\n",
       "    </tr>\n",
       "    <tr>\n",
       "      <th>3</th>\n",
       "      <td>Id_uhgink7iha</td>\n",
       "      <td>0</td>\n",
       "    </tr>\n",
       "    <tr>\n",
       "      <th>4</th>\n",
       "      <td>Id_5j6bzk3k81</td>\n",
       "      <td>0</td>\n",
       "    </tr>\n",
       "  </tbody>\n",
       "</table>\n",
       "</div>"
      ],
      "text/plain": [
       "              ID  Target\n",
       "0  Id_r90136smvl       1\n",
       "1  Id_wawdqhmu6s       0\n",
       "2  Id_ap2czff2bu       0\n",
       "3  Id_uhgink7iha       0\n",
       "4  Id_5j6bzk3k81       0"
      ]
     },
     "execution_count": 135,
     "metadata": {},
     "output_type": "execute_result"
    }
   ],
   "source": [
    "df_submission = pd.DataFrame({\"ID\": test_df['Person_id'], \"Target\": test_eval.astype(int)})\n",
    "df_submission.head()"
   ]
  },
  {
   "cell_type": "code",
   "execution_count": 136,
   "metadata": {},
   "outputs": [],
   "source": [
    "df_submission.to_csv(\"submission.csv\", index=False)"
   ]
  },
  {
   "cell_type": "code",
   "execution_count": null,
   "metadata": {},
   "outputs": [],
   "source": []
  }
 ],
 "metadata": {
  "kernelspec": {
   "display_name": "env-zindi",
   "language": "python",
   "name": "python3"
  },
  "language_info": {
   "codemirror_mode": {
    "name": "ipython",
    "version": 3
   },
   "file_extension": ".py",
   "mimetype": "text/x-python",
   "name": "python",
   "nbconvert_exporter": "python",
   "pygments_lexer": "ipython3",
   "version": "3.10.7"
  },
  "orig_nbformat": 4
 },
 "nbformat": 4,
 "nbformat_minor": 2
}
