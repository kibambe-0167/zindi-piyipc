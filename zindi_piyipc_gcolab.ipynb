{
  "nbformat": 4,
  "nbformat_minor": 0,
  "metadata": {
    "colab": {
      "provenance": [],
      "authorship_tag": "ABX9TyMjGnSeUryNsKu9oR4pebld",
      "include_colab_link": true
    },
    "kernelspec": {
      "name": "python3",
      "display_name": "Python 3"
    },
    "language_info": {
      "name": "python"
    }
  },
  "cells": [
    {
      "cell_type": "markdown",
      "metadata": {
        "id": "view-in-github",
        "colab_type": "text"
      },
      "source": [
        "<a href=\"https://colab.research.google.com/github/kibambe-0167/zindi-piyipc/blob/main/zindi_piyipc_gcolab.ipynb\" target=\"_parent\"><img src=\"https://colab.research.google.com/assets/colab-badge.svg\" alt=\"Open In Colab\"/></a>"
      ]
    },
    {
      "cell_type": "code",
      "execution_count": 2,
      "metadata": {
        "id": "E2EKSc7yNDGP"
      },
      "outputs": [],
      "source": [
        "import xgboost as xgb"
      ]
    },
    {
      "cell_type": "code",
      "source": [
        "X = [,]\n",
        "y = []"
      ],
      "metadata": {
        "id": "szd3FlJ7NdgX"
      },
      "execution_count": null,
      "outputs": []
    },
    {
      "cell_type": "code",
      "source": [],
      "metadata": {
        "id": "vg3mefa0OERF"
      },
      "execution_count": null,
      "outputs": []
    },
    {
      "cell_type": "code",
      "source": [
        "df_train = xgb.DMatrix(X, label=y, enable_categorical=True)"
      ],
      "metadata": {
        "id": "QH-nudRENFdC"
      },
      "execution_count": null,
      "outputs": []
    },
    {
      "cell_type": "code",
      "source": [
        "params = {\"objective\": \"multi:softprob\", \"tree_method\": \"gpu_hist\", \"num_class\": 5}\n",
        "n = 1000\n",
        "\n",
        "results = xgb.cv(\n",
        "   params, df_train,\n",
        "   num_boost_round=n,\n",
        "   nfold=5,\n",
        "   metrics=[\"mlogloss\", \"auc\", \"merror\"],\n",
        ")"
      ],
      "metadata": {
        "id": "wVAEvQyDOBWL"
      },
      "execution_count": null,
      "outputs": []
    },
    {
      "cell_type": "code",
      "source": [
        "results['test-auc-mean'].max()"
      ],
      "metadata": {
        "id": "tg8xzuOUOSsm"
      },
      "execution_count": null,
      "outputs": []
    }
  ]
}